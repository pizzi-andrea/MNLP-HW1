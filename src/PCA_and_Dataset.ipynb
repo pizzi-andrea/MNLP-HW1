{
 "cells": [
  {
   "cell_type": "markdown",
   "id": "900cb733",
   "metadata": {},
   "source": [
    "# Analysis of Original Features\n"
   ]
  },
  {
   "cell_type": "markdown",
   "id": "5e4218cc",
   "metadata": {},
   "source": [
    "## Import Necessary Libraries"
   ]
  },
  {
   "cell_type": "code",
   "execution_count": null,
   "id": "3f8c8cbc",
   "metadata": {},
   "outputs": [],
   "source": [
    "import seaborn as sns\n",
    "from pathlib import PosixPath\n",
    "from CU_Dataset_Factory import CU_Dataset_Factory\n",
    "from sklearn.metrics import roc_auc_score, confusion_matrix, accuracy_score, f1_score, recall_score\n",
    "\n",
    "from sklearn import tree\n",
    "from sklearn.linear_model import SGDClassifier\n",
    "\n",
    "from matplotlib import pyplot as plt\n",
    "from sklearn.decomposition import SparsePCA, KernelPCA"
   ]
  },
  {
   "cell_type": "markdown",
   "id": "d7e90689",
   "metadata": {},
   "source": [
    "## Data Preparation\n"
   ]
  },
  {
   "cell_type": "code",
   "execution_count": null,
   "id": "45d1f1d7",
   "metadata": {},
   "outputs": [],
   "source": [
    "builder = CU_Dataset_Factory(out_dir=PosixPath('./dataset'), target_feature='label', batch_size=25, features_enable=['category','type','label'], encoding=True)\n",
    "\n",
    "dataset_tr = builder.produce(True)\n",
    "dataset_te = builder.produce(False)"
   ]
  },
  {
   "cell_type": "markdown",
   "id": "de2d376f",
   "metadata": {},
   "source": [
    "## Split the Dataset"
   ]
  },
  {
   "cell_type": "code",
   "execution_count": null,
   "id": "1c26952d",
   "metadata": {},
   "outputs": [],
   "source": [
    "y_train = dataset_tr['label'].to_numpy()\n",
    "y_test  = dataset_te['label'].to_numpy()"
   ]
  },
  {
   "cell_type": "code",
   "execution_count": null,
   "id": "f3b1c0bd",
   "metadata": {},
   "outputs": [],
   "source": [
    "X_train = dataset_tr.drop(labels='label', axis=1)\n",
    "X_test  = dataset_te.drop(labels='label', axis=1)"
   ]
  },
  {
   "cell_type": "code",
   "execution_count": null,
   "id": "f9dcfe87",
   "metadata": {},
   "outputs": [],
   "source": [
    "X_test"
   ]
  },
  {
   "cell_type": "code",
   "execution_count": null,
   "id": "9a857a91",
   "metadata": {},
   "outputs": [],
   "source": [
    "y_test"
   ]
  },
  {
   "cell_type": "markdown",
   "id": "38016e8c",
   "metadata": {},
   "source": [
    "# Models"
   ]
  },
  {
   "cell_type": "markdown",
   "id": "f8a2fed4",
   "metadata": {},
   "source": [
    "We define a series of basic models to analize the existing features in the dataset and to identify how discriminant they are"
   ]
  },
  {
   "cell_type": "markdown",
   "id": "680131b1",
   "metadata": {},
   "source": [
    "## Decision Tree"
   ]
  },
  {
   "cell_type": "code",
   "execution_count": null,
   "id": "334b21d3",
   "metadata": {},
   "outputs": [],
   "source": [
    "dtc = tree.DecisionTreeClassifier()"
   ]
  },
  {
   "cell_type": "code",
   "execution_count": null,
   "id": "a66c0ac6",
   "metadata": {},
   "outputs": [],
   "source": [
    "estimator = dtc.fit(X_train, y_train)"
   ]
  },
  {
   "cell_type": "code",
   "execution_count": null,
   "id": "c0d8ed9f",
   "metadata": {},
   "outputs": [],
   "source": [
    "estimator.get_depth()"
   ]
  },
  {
   "cell_type": "markdown",
   "id": "77a4941e",
   "metadata": {},
   "source": [
    "### Evalute the Model"
   ]
  },
  {
   "cell_type": "code",
   "execution_count": null,
   "id": "96760c33",
   "metadata": {},
   "outputs": [],
   "source": [
    "y_pred = estimator.predict(X_test)"
   ]
  },
  {
   "cell_type": "code",
   "execution_count": null,
   "id": "2e83d832",
   "metadata": {},
   "outputs": [],
   "source": [
    "cnf = confusion_matrix(y_test, y_pred)\n",
    "acc = accuracy_score(y_test, y_pred)\n",
    "#auc = roc_auc_score(y_test, y_pred, multi_class='ovr')\n",
    "f1  = f1_score(y_test, y_pred, average='micro')\n",
    "recall = recall_score(y_test, y_pred, average='micro')\n",
    "print(f'test accuracy: {acc}')\n",
    "#print(f'test roc auc score: {auc}')\n",
    "print(f'test F1 score: {f1}')\n",
    "print(f'test Recall: {recall}')"
   ]
  },
  {
   "cell_type": "code",
   "execution_count": null,
   "id": "9fa88fc0",
   "metadata": {},
   "outputs": [],
   "source": [
    "sns.heatmap(confusion_matrix(y_pred, y_test))"
   ]
  },
  {
   "cell_type": "markdown",
   "id": "3ef9fb7b",
   "metadata": {},
   "source": [
    "## SVM"
   ]
  },
  {
   "cell_type": "code",
   "execution_count": null,
   "id": "6833a52b",
   "metadata": {},
   "outputs": [],
   "source": [
    "svm = SGDClassifier()"
   ]
  },
  {
   "cell_type": "code",
   "execution_count": null,
   "id": "0453f939",
   "metadata": {},
   "outputs": [],
   "source": [
    "estimator = svm.fit(X_train, y_train)"
   ]
  },
  {
   "cell_type": "markdown",
   "id": "8572663d",
   "metadata": {},
   "source": [
    "### Evalute the Model"
   ]
  },
  {
   "cell_type": "code",
   "execution_count": null,
   "id": "acd6fa9e",
   "metadata": {},
   "outputs": [],
   "source": [
    "y_pred = estimator.predict(X_test)"
   ]
  },
  {
   "cell_type": "code",
   "execution_count": null,
   "id": "ba7b6f8f",
   "metadata": {},
   "outputs": [],
   "source": [
    "cnf = confusion_matrix(y_test, y_pred)\n",
    "acc = accuracy_score(y_test, y_pred)\n",
    "#auc = roc_auc_score(y_test, y_pred, multi_class='ovr')\n",
    "f1  = f1_score(y_test, y_pred, average='micro')\n",
    "recall = recall_score(y_test, y_pred, average='micro')\n",
    "print(f'test accuracy: {acc}')\n",
    "#print(f'test roc auc score: {auc}')\n",
    "print(f'test F1 score: {f1}')\n",
    "print(f'test Recall: {recall}')"
   ]
  },
  {
   "cell_type": "code",
   "execution_count": null,
   "id": "5f01f911",
   "metadata": {},
   "outputs": [],
   "source": [
    "sns.heatmap(confusion_matrix(y_pred, y_test))"
   ]
  },
  {
   "cell_type": "markdown",
   "id": "a94c021a",
   "metadata": {},
   "source": [
    "## Results"
   ]
  },
  {
   "cell_type": "markdown",
   "id": "4d25cce5",
   "metadata": {},
   "source": [
    "- The feature **'subcategory'** causes the models to reach a certain level of overfitting\n",
    "- The feature **'category'** is decisive for the classification"
   ]
  },
  {
   "cell_type": "markdown",
   "id": "1763f529",
   "metadata": {},
   "source": [
    "## PCA"
   ]
  },
  {
   "cell_type": "markdown",
   "id": "d332ae5a",
   "metadata": {},
   "source": [
    "Reduction of the high dimensionality induced by one-hot encoding"
   ]
  },
  {
   "cell_type": "code",
   "execution_count": null,
   "id": "156ef819",
   "metadata": {},
   "outputs": [],
   "source": [
    "pca = SparsePCA(n_components=2, n_jobs=-1, verbose=False)"
   ]
  },
  {
   "cell_type": "code",
   "execution_count": null,
   "id": "e806f9f8",
   "metadata": {},
   "outputs": [],
   "source": [
    "X_train = pca.fit_transform(X_train, y_train)\n",
    "X_test = pca.fit_transform(X_test, y_test)"
   ]
  },
  {
   "cell_type": "code",
   "execution_count": null,
   "id": "cf79f7b4",
   "metadata": {},
   "outputs": [],
   "source": [
    "X_train"
   ]
  },
  {
   "cell_type": "code",
   "execution_count": null,
   "id": "6e237ca9",
   "metadata": {},
   "outputs": [],
   "source": [
    "plt.scatter(X_train[:, 0], X_train[:,1])"
   ]
  },
  {
   "cell_type": "code",
   "execution_count": null,
   "id": "b05df202",
   "metadata": {},
   "outputs": [],
   "source": [
    "plt.scatter(X_test[:, 0], X_test[:,1])"
   ]
  },
  {
   "cell_type": "markdown",
   "id": "87a4fd1c",
   "metadata": {},
   "source": [
    "## PCA + Decision Tree"
   ]
  },
  {
   "cell_type": "code",
   "execution_count": null,
   "id": "c40893a7",
   "metadata": {},
   "outputs": [],
   "source": [
    "estimator = dtc.fit(X_train, y_train)"
   ]
  },
  {
   "cell_type": "code",
   "execution_count": null,
   "id": "6918eb34",
   "metadata": {},
   "outputs": [],
   "source": [
    "estimator = svm.fit(X_train, y_train)"
   ]
  },
  {
   "cell_type": "code",
   "execution_count": null,
   "id": "7ee9f764",
   "metadata": {},
   "outputs": [],
   "source": [
    "cnf = confusion_matrix(y_test, y_pred)\n",
    "acc = accuracy_score(y_test, y_pred)\n",
    "#auc = roc_auc_score(y_test, y_pred, multi_class='ovr')\n",
    "f1  = f1_score(y_test, y_pred, average='micro')\n",
    "recall = recall_score(y_test, y_pred, average='micro')\n",
    "print(f'test accuracy: {acc}')\n",
    "#print(f'test roc auc score: {auc}')\n",
    "print(f'test F1 score: {f1}')\n",
    "print(f'test Recall: {recall}')"
   ]
  },
  {
   "cell_type": "code",
   "execution_count": null,
   "id": "6bf7e0c3",
   "metadata": {},
   "outputs": [],
   "source": [
    "sns.heatmap(confusion_matrix(y_pred, y_test))"
   ]
  },
  {
   "cell_type": "code",
   "execution_count": null,
   "id": "4663186c",
   "metadata": {},
   "outputs": [],
   "source": [
    "print(f'PCA + Decision Tree score: {estimator.score(X_test, y_test)}')"
   ]
  },
  {
   "cell_type": "markdown",
   "id": "00f15c63",
   "metadata": {},
   "source": [
    "## PCA + SVM"
   ]
  },
  {
   "cell_type": "code",
   "execution_count": null,
   "id": "5c500369",
   "metadata": {},
   "outputs": [],
   "source": [
    "estimator = svm.fit(X_train, y_train)"
   ]
  },
  {
   "cell_type": "code",
   "execution_count": null,
   "id": "b1b544aa",
   "metadata": {},
   "outputs": [],
   "source": [
    "y_pred = estimator.predict(X_test)"
   ]
  },
  {
   "cell_type": "code",
   "execution_count": null,
   "id": "0f6defa4",
   "metadata": {},
   "outputs": [],
   "source": [
    "cnf = confusion_matrix(y_test, y_pred)\n",
    "acc = accuracy_score(y_test, y_pred)\n",
    "#auc = roc_auc_score(y_test, y_pred, multi_class='ovr')\n",
    "f1  = f1_score(y_test, y_pred, average='micro')\n",
    "recall = recall_score(y_test, y_pred, average='micro')\n",
    "print(f'test accuracy: {acc}')\n",
    "#print(f'test roc auc score: {auc}')\n",
    "print(f'test F1 score: {f1}')\n",
    "print(f'test Recall: {recall}')"
   ]
  },
  {
   "cell_type": "code",
   "execution_count": null,
   "id": "6d4d4258",
   "metadata": {},
   "outputs": [],
   "source": [
    "sns.heatmap(confusion_matrix(y_pred, y_test))"
   ]
  },
  {
   "cell_type": "markdown",
   "id": "96102115",
   "metadata": {},
   "source": [
    "## Final Results"
   ]
  },
  {
   "cell_type": "markdown",
   "id": "82f3e0c6",
   "metadata": {},
   "source": [
    "Acceptable accuracy values after PCA: it allows us to overcome the problem of sparsity of data (yielded by one-hot encoding) without a significant information loss.\n",
    "\n",
    "A possible improvement could be the employment of neural networks to be able to learn non-linear relations between initial input and projected value."
   ]
  }
 ],
 "metadata": {
  "kernelspec": {
   "display_name": "MNLP",
   "language": "python",
   "name": "python3"
  },
  "language_info": {
   "codemirror_mode": {
    "name": "ipython",
    "version": 3
   },
   "file_extension": ".py",
   "mimetype": "text/x-python",
   "name": "python",
   "nbconvert_exporter": "python",
   "pygments_lexer": "ipython3",
   "version": "3.11.2"
  }
 },
 "nbformat": 4,
 "nbformat_minor": 5
}
