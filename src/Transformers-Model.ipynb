{
 "cells": [
  {
   "cell_type": "code",
   "execution_count": 26,
   "id": "424d5747",
   "metadata": {},
   "outputs": [],
   "source": [
    "from CU_Dataset_Factory import Hf_Loader, CU_Dataset_Factory"
   ]
  },
  {
   "cell_type": "code",
   "execution_count": 27,
   "id": "192117a3",
   "metadata": {},
   "outputs": [],
   "source": [
    "factory = CU_Dataset_Factory('.')\n",
    "train_l = Hf_Loader(\"sapienzanlp/nlp2025_hw1_cultural_dataset\", 'train')\n",
    "validation_l = Hf_Loader(\"sapienzanlp/nlp2025_hw1_cultural_dataset\", 'validation')"
   ]
  },
  {
   "cell_type": "code",
   "execution_count": 28,
   "id": "7e8ed8aa",
   "metadata": {},
   "outputs": [],
   "source": [
    "fe = 'full_page'\n",
    "model_repo = 'xlm-roberta-base'"
   ]
  },
  {
   "cell_type": "code",
   "execution_count": 29,
   "id": "1c6dc6b2",
   "metadata": {},
   "outputs": [
    {
     "name": "stderr",
     "output_type": "stream",
     "text": [
      "100%|██████████| 126/126 [00:01<00:00, 109.22it/s]\n",
      "copy dataset: 100%|██████████| 1/1 [00:00<00:00, 1160.57it/s]\n",
      "full_page: 100%|██████████| 6251/6251 [00:09<00:00, 688.28it/s, batch=139]\n",
      "100%|██████████| 6/6 [00:00<00:00,  6.08it/s]\n",
      "copy dataset: 100%|██████████| 1/1 [00:00<00:00, 2202.89it/s]\n",
      "full_page: 100%|██████████| 300/300 [00:00<00:00, 716.12it/s, batch=7]\n"
     ]
    }
   ],
   "source": [
    "train = factory.produce(train_l, 'tr_train.tsv', [fe], 'label', 45, False)\n",
    "test  = factory.produce(validation_l, 'tr_validation.tsv', [fe], 'label', 45, False)"
   ]
  },
  {
   "cell_type": "code",
   "execution_count": 30,
   "id": "7bd3dfa6",
   "metadata": {},
   "outputs": [],
   "source": [
    "train_data = train[['label', fe]].rename({fe: 'text'}, axis=1)\n",
    "validation_data = test[['label', fe]].rename({fe: 'text'}, axis=1)"
   ]
  },
  {
   "cell_type": "code",
   "execution_count": 31,
   "id": "88c0a1ab",
   "metadata": {},
   "outputs": [
    {
     "data": {
      "text/html": [
       "<div>\n",
       "<style scoped>\n",
       "    .dataframe tbody tr th:only-of-type {\n",
       "        vertical-align: middle;\n",
       "    }\n",
       "\n",
       "    .dataframe tbody tr th {\n",
       "        vertical-align: top;\n",
       "    }\n",
       "\n",
       "    .dataframe thead th {\n",
       "        text-align: right;\n",
       "    }\n",
       "</style>\n",
       "<table border=\"1\" class=\"dataframe\">\n",
       "  <thead>\n",
       "    <tr style=\"text-align: right;\">\n",
       "      <th></th>\n",
       "      <th>full_page</th>\n",
       "      <th>wiki_name</th>\n",
       "      <th>qid</th>\n",
       "      <th>label</th>\n",
       "    </tr>\n",
       "  </thead>\n",
       "  <tbody>\n",
       "    <tr>\n",
       "      <th>0</th>\n",
       "      <td>916  is a 2012 Indian Malayalam-language drama...</td>\n",
       "      <td>916 (film)</td>\n",
       "      <td>Q32786</td>\n",
       "      <td>1</td>\n",
       "    </tr>\n",
       "    <tr>\n",
       "      <th>1</th>\n",
       "      <td>!!! ( ch(i)k-ch(i)k-ch(i)k), also known as Chk...</td>\n",
       "      <td>!!!</td>\n",
       "      <td>Q371</td>\n",
       "      <td>2</td>\n",
       "    </tr>\n",
       "    <tr>\n",
       "      <th>2</th>\n",
       "      <td>¡Soborno! (English: Bribery!) is a 1977 comic ...</td>\n",
       "      <td>¡Soborno!</td>\n",
       "      <td>Q3729947</td>\n",
       "      <td>2</td>\n",
       "    </tr>\n",
       "    <tr>\n",
       "      <th>3</th>\n",
       "      <td>+44 (read as Plus Forty-four) was an American ...</td>\n",
       "      <td>+44 (band)</td>\n",
       "      <td>Q158611</td>\n",
       "      <td>2</td>\n",
       "    </tr>\n",
       "    <tr>\n",
       "      <th>4</th>\n",
       "      <td>1 Monk Street, Monmouth was built as a Working...</td>\n",
       "      <td>1 Monk Street, Monmouth</td>\n",
       "      <td>Q280375</td>\n",
       "      <td>1</td>\n",
       "    </tr>\n",
       "  </tbody>\n",
       "</table>\n",
       "</div>"
      ],
      "text/plain": [
       "                                           full_page                wiki_name  \\\n",
       "0  916  is a 2012 Indian Malayalam-language drama...               916 (film)   \n",
       "1  !!! ( ch(i)k-ch(i)k-ch(i)k), also known as Chk...                      !!!   \n",
       "2  ¡Soborno! (English: Bribery!) is a 1977 comic ...                ¡Soborno!   \n",
       "3  +44 (read as Plus Forty-four) was an American ...               +44 (band)   \n",
       "4  1 Monk Street, Monmouth was built as a Working...  1 Monk Street, Monmouth   \n",
       "\n",
       "        qid  label  \n",
       "0    Q32786      1  \n",
       "1      Q371      2  \n",
       "2  Q3729947      2  \n",
       "3   Q158611      2  \n",
       "4   Q280375      1  "
      ]
     },
     "execution_count": 31,
     "metadata": {},
     "output_type": "execute_result"
    }
   ],
   "source": [
    "train.head(5)"
   ]
  },
  {
   "cell_type": "code",
   "execution_count": 32,
   "id": "704f246e",
   "metadata": {},
   "outputs": [],
   "source": [
    "from datasets import Dataset\n",
    "from datasets import Features\n",
    "from datasets import Split, Value"
   ]
  },
  {
   "cell_type": "code",
   "execution_count": 33,
   "id": "99ff0b4f",
   "metadata": {},
   "outputs": [],
   "source": [
    "train_data = Dataset.from_pandas(train_data, features=Features({\n",
    "    'label': Value('int32'),\n",
    "    'text' : Value('string')\n",
    "}), split=Split.TRAIN)"
   ]
  },
  {
   "cell_type": "code",
   "execution_count": 34,
   "id": "63aaf92b",
   "metadata": {},
   "outputs": [],
   "source": [
    "validation_data = Dataset.from_pandas(validation_data, features=Features({\n",
    "    'label': Value('int32'),\n",
    "    'text' : Value('string')\n",
    "}), split=Split.TEST)"
   ]
  },
  {
   "cell_type": "code",
   "execution_count": 35,
   "id": "310168c0",
   "metadata": {},
   "outputs": [],
   "source": [
    "from transformers import AutoTokenizer"
   ]
  },
  {
   "cell_type": "code",
   "execution_count": 36,
   "id": "c3493202",
   "metadata": {},
   "outputs": [],
   "source": [
    "tokenizer = AutoTokenizer.from_pretrained('xlm-roberta-base')"
   ]
  },
  {
   "cell_type": "code",
   "execution_count": null,
   "id": "54d2cd96",
   "metadata": {},
   "outputs": [],
   "source": [
    "class Preprocessor:\n",
    "    def __init__(self, tokenizer) -> None:\n",
    "        self.tokenizer = tokenizer\n",
    "    def process_samples(self, samples):\n",
    "        return samples.map(lambda sample: self.tokenizer(sample['text'], truncation=True, padding=True))"
   ]
  },
  {
   "cell_type": "code",
   "execution_count": 38,
   "id": "c824d600",
   "metadata": {},
   "outputs": [],
   "source": [
    "p = Preprocessor(tokenizer)"
   ]
  },
  {
   "cell_type": "code",
   "execution_count": 39,
   "id": "dcfca7ea",
   "metadata": {},
   "outputs": [
    {
     "name": "stderr",
     "output_type": "stream",
     "text": [
      "Map: 100%|██████████| 6251/6251 [00:38<00:00, 163.77 examples/s]\n",
      "Map: 100%|██████████| 300/300 [00:03<00:00, 93.37 examples/s] \n"
     ]
    }
   ],
   "source": [
    "tokenize_train = p.process_samples(train_data)\n",
    "tokenize_test = p.process_samples(validation_data)"
   ]
  },
  {
   "cell_type": "code",
   "execution_count": 40,
   "id": "fd0ae0f3",
   "metadata": {},
   "outputs": [],
   "source": [
    "from transformers import DataCollatorWithPadding"
   ]
  },
  {
   "cell_type": "code",
   "execution_count": 41,
   "id": "d67a0817",
   "metadata": {},
   "outputs": [],
   "source": [
    "collector = DataCollatorWithPadding(tokenizer)"
   ]
  },
  {
   "cell_type": "code",
   "execution_count": 42,
   "id": "9e831039",
   "metadata": {},
   "outputs": [],
   "source": [
    "import numpy as np\n",
    "import evaluate"
   ]
  },
  {
   "cell_type": "code",
   "execution_count": null,
   "id": "64092eb1",
   "metadata": {},
   "outputs": [],
   "source": [
    "def compute_metrics(eval_pred):\n",
    "   load_accuracy = evaluate.load(\"accuracy\")\n",
    "   load_f1 = evaluate.load(\"f1\")\n",
    "\n",
    "   logits, labels = eval_pred\n",
    "   predictions = np.argmax(logits, axis=-1)\n",
    "   accuracy = load_accuracy.compute(predictions=predictions, references=labels)[\"accuracy\"]\n",
    "   f1 = load_f1.compute(predictions=predictions, references=labels)[\"f1\"]\n",
    "   return {\"accuracy\": accuracy, \"f1\": f1}"
   ]
  },
  {
   "cell_type": "code",
   "execution_count": 44,
   "id": "e1d55959",
   "metadata": {},
   "outputs": [],
   "source": [
    "cls2label = {0:'Cultural Agnostic', 1:'Cultural Rapresentative', 2:'Cultural Exclusive'}\n",
    "label2cls = {l:c for c ,l in cls2label.items()}"
   ]
  },
  {
   "cell_type": "code",
   "execution_count": 45,
   "id": "10827cc7",
   "metadata": {},
   "outputs": [],
   "source": [
    "from transformers import AutoModelForSequenceClassification\n",
    "from transformers import TrainingArguments, Trainer"
   ]
  },
  {
   "cell_type": "code",
   "execution_count": 46,
   "id": "d8bb379e",
   "metadata": {},
   "outputs": [
    {
     "name": "stderr",
     "output_type": "stream",
     "text": [
      "Some weights of XLMRobertaForSequenceClassification were not initialized from the model checkpoint at xlm-roberta-base and are newly initialized: ['classifier.dense.bias', 'classifier.dense.weight', 'classifier.out_proj.bias', 'classifier.out_proj.weight']\n",
      "You should probably TRAIN this model on a down-stream task to be able to use it for predictions and inference.\n"
     ]
    }
   ],
   "source": [
    "model = model = AutoModelForSequenceClassification.from_pretrained(model_repo, num_labels=3, ignore_mismatched_sizes=True)"
   ]
  },
  {
   "cell_type": "code",
   "execution_count": null,
   "id": "8bb6bb59",
   "metadata": {},
   "outputs": [],
   "source": [
    "#Parameters\n",
    "epochs = 5\n",
    "batch_size = 32\n",
    "weight_decay = 1e-4\n",
    "learning_rate = 0.001\n",
    "out_dir = 'CU_with_roberta'\n",
    "log = 'Cultural Analysis'"
   ]
  },
  {
   "cell_type": "code",
   "execution_count": null,
   "id": "a9e7833f",
   "metadata": {},
   "outputs": [],
   "source": [
    "traning_args = TrainingArguments(\n",
    "    output_dir='CU_with_bert',\n",
    "    eval_strategy='epoch',\n",
    "    push_to_hub=False,\n",
    "    num_train_epochs = 10,\n",
    "    \n",
    ")\n",
    "\n",
    "trainer = Trainer(\n",
    "    output_dir=out_dir,                    # output directory [Mandatory]\n",
    "    num_train_epochs=epochs,                      # total number of training epochs\n",
    "    per_device_train_batch_size=batch_size,       # batch size per device during training\n",
    "    warmup_steps=500,                             # number of warmup steps for learning rate scheduler\n",
    "    weight_decay=weight_decay,                    # strength of weight decay\n",
    "    save_strategy=\"no\",\n",
    "    learning_rate=learning_rate,                  # learning rate\n",
    "    report_to=\"none\",\n",
    "    logging_dir=log         # use it later to get the training curves\n",
    ")"
   ]
  },
  {
   "cell_type": "code",
   "execution_count": 48,
   "id": "d0a8200b",
   "metadata": {},
   "outputs": [
    {
     "data": {
      "text/plain": [
       "device(type='cuda', index=0)"
      ]
     },
     "execution_count": 48,
     "metadata": {},
     "output_type": "execute_result"
    }
   ],
   "source": [
    "trainer.model.device"
   ]
  },
  {
   "cell_type": "code",
   "execution_count": null,
   "id": "78808776",
   "metadata": {},
   "outputs": [
    {
     "data": {
      "text/html": [
       "\n",
       "    <div>\n",
       "      \n",
       "      <progress value='3001' max='7820' style='width:300px; height:20px; vertical-align: middle;'></progress>\n",
       "      [3001/7820 28:26 < 45:41, 1.76 it/s, Epoch 3.84/10]\n",
       "    </div>\n",
       "    <table border=\"1\" class=\"dataframe\">\n",
       "  <thead>\n",
       " <tr style=\"text-align: left;\">\n",
       "      <th>Epoch</th>\n",
       "      <th>Training Loss</th>\n",
       "      <th>Validation Loss</th>\n",
       "      <th>Accuracy</th>\n",
       "    </tr>\n",
       "  </thead>\n",
       "  <tbody>\n",
       "    <tr>\n",
       "      <td>1</td>\n",
       "      <td>1.062500</td>\n",
       "      <td>1.105826</td>\n",
       "      <td>0.253333</td>\n",
       "    </tr>\n",
       "    <tr>\n",
       "      <td>2</td>\n",
       "      <td>1.037400</td>\n",
       "      <td>0.826584</td>\n",
       "      <td>0.580000</td>\n",
       "    </tr>\n",
       "    <tr>\n",
       "      <td>3</td>\n",
       "      <td>0.847900</td>\n",
       "      <td>0.907471</td>\n",
       "      <td>0.523333</td>\n",
       "    </tr>\n",
       "  </tbody>\n",
       "</table><p>"
      ],
      "text/plain": [
       "<IPython.core.display.HTML object>"
      ]
     },
     "metadata": {},
     "output_type": "display_data"
    }
   ],
   "source": [
    "trainer.train()"
   ]
  },
  {
   "cell_type": "code",
   "execution_count": null,
   "id": "0f023726",
   "metadata": {},
   "outputs": [],
   "source": [
    "# Evaluate the model ...\n",
    "trainer.evaluate()"
   ]
  }
 ],
 "metadata": {
  "kernelspec": {
   "display_name": "MNLP",
   "language": "python",
   "name": "python3"
  },
  "language_info": {
   "codemirror_mode": {
    "name": "ipython",
    "version": 3
   },
   "file_extension": ".py",
   "mimetype": "text/x-python",
   "name": "python",
   "nbconvert_exporter": "python",
   "pygments_lexer": "ipython3",
   "version": "3.13.2"
  }
 },
 "nbformat": 4,
 "nbformat_minor": 5
}
