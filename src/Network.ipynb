{
 "cells": [
  {
   "cell_type": "markdown",
   "id": "c5df55e1",
   "metadata": {},
   "source": [
    "## The CrossTree\n",
    "\n",
    "Votiong Schema with mulitple binary classification tree. The network implement votion schema based on three different tree:\n",
    "\n",
    "* Cultural **Agnostic-Rappresentative** tree\n",
    "* Cultural **Agnostic-Exclusive** tree\n",
    "* Cultural **Exclusive-Rappresentative** tree\n",
    "\n",
    "majority voting detterminate final class.\n",
    "\n",
    "### Training Phase\n",
    "\n",
    "The training process is quite standard and straight-forward: given the n G_features we want to directly predict the associated class.\n",
    "\n",
    "### Employment Phase\n",
    "\n",
    "The training model will be inserted in a wider model called X and utilized as a function for the computation of the G_Factor"
   ]
  },
  {
   "cell_type": "markdown",
   "id": "e4b724d1",
   "metadata": {},
   "source": [
    "## Dataset\n",
    "\n",
    "Load the dataset"
   ]
  },
  {
   "cell_type": "code",
   "execution_count": null,
   "id": "afebd71f",
   "metadata": {},
   "outputs": [],
   "source": [
    "import pandas as pd\n",
    "import numpy as np\n",
    "from sklearn.preprocessing import OneHotEncoder\n",
    "def onehot_encode(\n",
    "    df_train: pd.DataFrame,\n",
    "    df_test: pd.DataFrame,\n",
    "    cat_cols: list[str]|None = None,\n",
    "    num_cols: list[str]|None = None,\n",
    "    sparse: bool = False\n",
    ") -> tuple[pd.DataFrame, pd.DataFrame, OneHotEncoder]:\n",
    "    \"\"\"\n",
    "    Applica One-Hot Encoding a df_train e df_test garantendo lo stesso\n",
    "    insieme di colonne, anche se in train mancano categorie presenti in test.\n",
    "\n",
    "    Parameters\n",
    "    ----------\n",
    "    df_train : pd.DataFrame\n",
    "        DataFrame di training.\n",
    "    df_test : pd.DataFrame\n",
    "        DataFrame di test.\n",
    "    cat_cols : list[str], optional\n",
    "        Lista delle colonne categoriche da codificare. \n",
    "        Se None, vengono prese tutte le colonne di tipo 'object'.\n",
    "    num_cols : list[str], optional\n",
    "        Lista delle colonne numeriche (o non categoriche) da preservare. \n",
    "        Se None, vengono calcolate come tutte le colonne non in cat_cols.\n",
    "    handle_unknown : str, default=\"ignore\"\n",
    "        Comportamento su valori sconosciuti in test (tipicamente \"ignore\").\n",
    "    sparse : bool, default=False\n",
    "        Se True restituisce matrice sparsa, altrimenti densa.\n",
    "\n",
    "    Returns\n",
    "    -------\n",
    "    df_train_enc : pd.DataFrame\n",
    "        DataFrame di train con One-Hot Encoding + num_cols originali.\n",
    "    df_test_enc : pd.DataFrame\n",
    "        DataFrame di test con One-Hot Encoding + num_cols originali.\n",
    "    encoder : OneHotEncoder\n",
    "        L’oggetto già fit su train+test, utile per futuri trasform.\n",
    "    \"\"\"\n",
    "    # 1) Individuo le colonne categoriche e numeriche (se non date)\n",
    "    if cat_cols is None:\n",
    "        cat_cols = df_train.select_dtypes(include=\"object\").columns.tolist()\n",
    "    if num_cols is None:\n",
    "        num_cols = [c for c in df_train.columns if c not in cat_cols]\n",
    "\n",
    "    # 2) Fitto l’encoder su tutti i dati categorici (train + test)\n",
    "    all_cats = pd.concat([df_train[cat_cols], df_test[cat_cols]], \n",
    "                         axis=0, ignore_index=True)\n",
    "    encoder = OneHotEncoder(\n",
    "        sparse_output=sparse\n",
    "    ).fit(all_cats)\n",
    "\n",
    "    # 3) Trasformo separatamente train e test\n",
    "    X_train_ohe = encoder.transform(df_train[cat_cols])\n",
    "    X_test_ohe  = encoder.transform(df_test[cat_cols])\n",
    "\n",
    "    # 4) Nominiamo le nuove colonne\n",
    "    ohe_cols = encoder.get_feature_names_out(cat_cols).tolist()\n",
    "\n",
    "    # 5) Ricompongo i DataFrame finali\n",
    "    df_train_enc = pd.DataFrame(\n",
    "        np.hstack([X_train_ohe.toarray() if sparse else X_train_ohe,\n",
    "                   df_train[num_cols].values]), # type: ignore\n",
    "        columns=ohe_cols + num_cols,\n",
    "        index=df_train.index\n",
    "    )\n",
    "    df_test_enc = pd.DataFrame(\n",
    "        np.hstack([X_test_ohe.toarray() if sparse else X_test_ohe,\n",
    "                   df_test[num_cols].values]),\n",
    "        columns=ohe_cols + num_cols,\n",
    "        index=df_test.index\n",
    "    )\n",
    "\n",
    "    return df_train_enc[ohe_cols], df_test_enc[ohe_cols], encoder\n"
   ]
  },
  {
   "cell_type": "code",
   "execution_count": null,
   "id": "29481fce",
   "metadata": {},
   "outputs": [],
   "source": [
    "import pandas as pd\n",
    "import numpy as np\n",
    "from CU_Dataset_Factory import Hf_Loader, CU_Dataset_Factory"
   ]
  },
  {
   "cell_type": "code",
   "execution_count": null,
   "id": "b75c3161",
   "metadata": {},
   "outputs": [],
   "source": [
    "#print('Cultural Dataset argumentation start')\n",
    "#factory = CU_Dataset_Factory('.')\n",
    "#train_l = Hf_Loader(\"sapienzanlp/nlp2025_hw1_cultural_dataset\", 'train')\n",
    "#validation_l = Hf_Loader(\"sapienzanlp/nlp2025_hw1_cultural_dataset\", 'validation')\n",
    "\n",
    "#factory.produce(train_l, 'train.tsv', ['category', 'subcategory','type','languages','reference','num_langs'], 'label', 10, False)\n",
    "#factory.produce(validation_l, 'validation.tsv', ['category', 'subcategory','type','languages','reference','num_langs'], 'label', 10, False)\n",
    "#print('End process')"
   ]
  },
  {
   "cell_type": "code",
   "execution_count": null,
   "id": "652d72d8",
   "metadata": {},
   "outputs": [],
   "source": [
    "train = pd.read_csv('train.tsv', sep='\\t')\n",
    "validation = pd.read_csv('validation.tsv', sep='\\t')"
   ]
  },
  {
   "cell_type": "code",
   "execution_count": null,
   "id": "19b2e549",
   "metadata": {},
   "outputs": [],
   "source": [
    "train.head(5)"
   ]
  },
  {
   "cell_type": "code",
   "execution_count": null,
   "id": "d4f56e96",
   "metadata": {},
   "outputs": [],
   "source": [
    "validation.head(5)"
   ]
  },
  {
   "cell_type": "code",
   "execution_count": null,
   "id": "7fe997e0",
   "metadata": {},
   "outputs": [],
   "source": [
    "y_train = train[['label']]\n",
    "y_validation = validation[['label']]\n",
    "\n",
    "id_train = train[['wiki_name']]\n",
    "id_validation = validation[['wiki_name']]\n",
    "\n",
    "fe_train = train[['languages', 'num_langs', 'reference']]\n",
    "fe_validation = validation[['languages', 'num_langs', 'reference']]\n",
    "\n",
    "fe_str_train = train[['category', 'subcategory', 'type']]\n",
    "fe_str_validation = validation[['category', 'subcategory', 'type']]"
   ]
  },
  {
   "cell_type": "code",
   "execution_count": null,
   "id": "848b1d56",
   "metadata": {},
   "outputs": [],
   "source": [
    "train_cat, validation_cat, _ =  onehot_encode(fe_str_train, fe_str_validation, ['category'] )\n",
    "train_scat, validation_scat, _ = onehot_encode(fe_str_train, fe_str_validation, ['subcategory'] )\n",
    "train_t, validation_t, _ = onehot_encode(fe_str_train, fe_str_validation, ['type'] )\n"
   ]
  },
  {
   "cell_type": "code",
   "execution_count": null,
   "id": "fd34cf58",
   "metadata": {},
   "outputs": [],
   "source": [
    "print(validation_cat.shape)\n",
    "print(validation_scat.shape)\n",
    "print(validation_t.shape)"
   ]
  },
  {
   "cell_type": "code",
   "execution_count": null,
   "id": "85fba437",
   "metadata": {},
   "outputs": [],
   "source": [
    "from sklearn.decomposition import PCA"
   ]
  },
  {
   "cell_type": "code",
   "execution_count": null,
   "id": "76c105c6",
   "metadata": {},
   "outputs": [],
   "source": [
    "#pca = PCA(n_components=10)\n",
    "#validation_cat = pd.DataFrame(pca.fit_transform(validation_cat))\n",
    "#train_cat = pd.DataFrame(pca.fit_transform(train_cat))\n",
    "#pca = PCA(n_components=50)\n",
    "#validation_scat = pd.DataFrame(pca.fit_transform(validation_scat))\n",
    "#train_scat = pd.DataFrame(pca.fit_transform(train_scat))\n"
   ]
  },
  {
   "cell_type": "code",
   "execution_count": null,
   "id": "6f384973",
   "metadata": {},
   "outputs": [],
   "source": [
    "print(validation_cat.shape)\n",
    "print(validation_scat.shape)\n",
    "print(validation_t.shape)"
   ]
  },
  {
   "cell_type": "code",
   "execution_count": null,
   "id": "eb7c32db",
   "metadata": {},
   "outputs": [],
   "source": [
    "train = pd.concat([fe_train, train_cat, train_scat, train_t, y_train], axis=1)\n",
    "validation = pd.concat([fe_validation, validation_cat, validation_scat, validation_t, y_validation], axis=1) \n",
    "\n",
    "print(train.shape)"
   ]
  },
  {
   "cell_type": "code",
   "execution_count": null,
   "id": "58a46a44",
   "metadata": {},
   "outputs": [],
   "source": [
    "train.head(3)"
   ]
  },
  {
   "cell_type": "code",
   "execution_count": null,
   "id": "c01ad7e1",
   "metadata": {},
   "outputs": [],
   "source": [
    "validation.head(3)"
   ]
  },
  {
   "cell_type": "markdown",
   "id": "a2c0b35a",
   "metadata": {},
   "source": [
    "## Network"
   ]
  },
  {
   "cell_type": "code",
   "execution_count": null,
   "id": "aea974e3",
   "metadata": {},
   "outputs": [],
   "source": [
    "from sklearn.neural_network import MLPClassifier\n",
    "from sklearn.metrics import classification_report"
   ]
  },
  {
   "cell_type": "markdown",
   "id": "0e44b664",
   "metadata": {},
   "source": [
    "### Agnostic-Rappresentative classifier"
   ]
  },
  {
   "cell_type": "code",
   "execution_count": null,
   "id": "6ef6582a",
   "metadata": {},
   "outputs": [],
   "source": [
    "# prepare  il dataset in modo da prendere solo due classi ed elimina gli identificativi degli elementi\n",
    "d = train.query(\"label == 0 or label == 1\")\n",
    "y = d['label'].astype(int).to_numpy()\n",
    "x = d.drop(['label'], axis=1).astype(float).to_numpy()"
   ]
  },
  {
   "cell_type": "code",
   "execution_count": null,
   "id": "8c23aa41",
   "metadata": {},
   "outputs": [],
   "source": [
    "ar_tree = MLPClassifier().fit(x, y)"
   ]
  },
  {
   "cell_type": "code",
   "execution_count": null,
   "id": "2c92b575",
   "metadata": {},
   "outputs": [],
   "source": [
    "d = validation.query(\"label == 0 or label == 1\")\n",
    "y = d['label'].astype(int).to_numpy()\n",
    "x = d.drop(['label'], axis=1).astype(float).to_numpy()"
   ]
  },
  {
   "cell_type": "code",
   "execution_count": null,
   "id": "edeccb8b",
   "metadata": {},
   "outputs": [],
   "source": [
    "y_pred = ar_tree.predict(x)\n",
    "print(classification_report(y, y_pred))"
   ]
  },
  {
   "cell_type": "markdown",
   "id": "db137e02",
   "metadata": {},
   "source": [
    "## Agnostic-Exclusive Classifier"
   ]
  },
  {
   "cell_type": "code",
   "execution_count": null,
   "id": "23f4b0c2",
   "metadata": {},
   "outputs": [],
   "source": [
    "# prepare  il dataset in modo da prendere solo due classi ed elimina gli identificativi degli elementi\n",
    "d = train.query(\"label == 0 or label == 2\")\n",
    "y = d['label'].astype(int).to_numpy()\n",
    "x = d.drop(['label'], axis=1).astype(float).to_numpy()"
   ]
  },
  {
   "cell_type": "code",
   "execution_count": null,
   "id": "f4f024d5",
   "metadata": {},
   "outputs": [],
   "source": [
    "ae_tree = MLPClassifier().fit(x, y)"
   ]
  },
  {
   "cell_type": "code",
   "execution_count": null,
   "id": "c407e485",
   "metadata": {},
   "outputs": [],
   "source": [
    "d = validation.query(\"label == 0 or label == 2\")\n",
    "y = d['label'].astype(int).to_numpy()\n",
    "x = d.drop(['label'], axis=1).astype(float).to_numpy()"
   ]
  },
  {
   "cell_type": "code",
   "execution_count": null,
   "id": "9df4318f",
   "metadata": {},
   "outputs": [],
   "source": [
    "y_pred = ae_tree.predict(x)\n",
    "print(classification_report(y, y_pred))"
   ]
  },
  {
   "cell_type": "markdown",
   "id": "e660edf4",
   "metadata": {},
   "source": [
    "## Rappresentative-Exclusive"
   ]
  },
  {
   "cell_type": "code",
   "execution_count": null,
   "id": "6574aa69",
   "metadata": {},
   "outputs": [],
   "source": [
    "d = train.query(\"label == 1 or label == 2\")\n",
    "y = d['label'].astype(int).to_numpy()\n",
    "x = d.drop(['label'], axis=1).astype(float).to_numpy()"
   ]
  },
  {
   "cell_type": "code",
   "execution_count": null,
   "id": "d2b6d462",
   "metadata": {},
   "outputs": [],
   "source": [
    "from sklearn.ensemble import RandomForestClassifier"
   ]
  },
  {
   "cell_type": "code",
   "execution_count": null,
   "id": "04dbb492",
   "metadata": {},
   "outputs": [],
   "source": [
    "re_tree = RandomForestClassifier().fit(x, y)"
   ]
  },
  {
   "cell_type": "code",
   "execution_count": null,
   "id": "4b6f229e",
   "metadata": {},
   "outputs": [],
   "source": [
    "d = validation.query(\"label == 1 or label == 2\")\n",
    "y = d['label'].astype(int).to_numpy()\n",
    "x = d.drop(['label'], axis=1).astype(float).to_numpy()"
   ]
  },
  {
   "cell_type": "code",
   "execution_count": null,
   "id": "204616b9",
   "metadata": {},
   "outputs": [],
   "source": [
    "y_pred = re_tree.predict(x)\n",
    "print(classification_report(y, y_pred))"
   ]
  },
  {
   "cell_type": "markdown",
   "id": "5255d629",
   "metadata": {},
   "source": [
    "# Voting Schema\n"
   ]
  },
  {
   "cell_type": "code",
   "execution_count": null,
   "id": "2977b883",
   "metadata": {},
   "outputs": [],
   "source": [
    "model = VotingClassifier([ ('agnostic_rapresentative',ar_tree), ('agnostic_exsclusive',ae_tree), ('rappresentative_exsclusive',re_tree)])"
   ]
  },
  {
   "cell_type": "code",
   "execution_count": null,
   "id": "0ea21a36",
   "metadata": {},
   "outputs": [],
   "source": [
    "from scipy.stats import mode\n",
    "from sklearn.base import BaseEstimator\n",
    "class Model(BaseEstimator):\n",
    "    def __init__(self, t1:MLPClassifier,t2:MLPClassifier,t3:MLPClassifier) -> None:\n",
    "        \n",
    "        self.t1 = t1 \n",
    "        self.t2 = t2 \n",
    "        self.t3 = t3\n",
    "    \n",
    "    def fit(self, X, y):\n",
    "        \n",
    "        \n",
    "        return self\n",
    "    def predict(self, X:pd.DataFrame|np.ndarray) -> np.ndarray:\n",
    "        v1 = self.t1.predict(X)\n",
    "        v2 = self.t2.predict(X)\n",
    "        v3 = self.t3.predict(X)\n",
    "        \n",
    "        # 2) impila in un array (3, n_samples)\n",
    "        votes = np.vstack([v1, v2, v3])\n",
    "\n",
    "        # 3) funzione che prende la classe più frequente in un vettore di voti\n",
    "        def majority_vote(col):\n",
    "            counts = np.bincount(col)\n",
    "            return np.argmax(counts)\n",
    "\n",
    "        majority, _ = mode(votes, axis=0)\n",
    "        return majority.ravel()"
   ]
  },
  {
   "cell_type": "code",
   "execution_count": null,
   "id": "af9e6aad",
   "metadata": {},
   "outputs": [],
   "source": [
    "from scipy.stats import mode\n",
    "from sklearn.base import ClassifierMixin, BaseEstimator\n",
    "from sklearn.ensemble import IsolationForest\n",
    "# Cultural-classification Network\n",
    "class CABNet(BaseEstimator, ClassifierMixin):\n",
    "    def __init__(self, ar_estimator, ae_estimator, re_estimator) -> None:\n",
    "        \n",
    "        self.ar = ar_estimator \n",
    "        self.ae = ae_estimator \n",
    "        self.re = re_estimator\n",
    "        \n",
    "    \n",
    "    def __fit(self, e, X, y) -> BaseEstimator:\n",
    "        return e.fit(X, y)\n",
    "\n",
    "\n",
    "    def fit(self, X, y=None):\n",
    "       \n",
    "        d = X.query(\"label == 0 or label == 1 \")\n",
    "        y = d['label'].astype(int).to_numpy()\n",
    "        x = d.drop(['label'], axis=1).astype(float).to_numpy()\n",
    "        self.ar = self.__fit(self.ar, x, y)\n",
    "        d = X.query(\"label == 0 or label == 2\")\n",
    "        y = d['label'].astype(int).to_numpy()\n",
    "        x = d.drop(['label'], axis=1).astype(float).to_numpy()\n",
    "        self.ae = self.__fit(self.ae, x, y)\n",
    "        d = X.query(\"label == 1 or label == 2\")\n",
    "        y = d['label'].astype(int).to_numpy()\n",
    "        x = d.drop(['label'], axis=1).astype(float).to_numpy()\n",
    "        self.re = self.__fit(self.re, x, y)\n",
    "        return self\n",
    "        \n",
    "    def predict(self, X):\n",
    "        v1 = self.ar.predict(X)\n",
    "        v2 = self.ae.predict(X)\n",
    "        v3 = self.re.predict(X)\n",
    "       \n",
    "  \n",
    "        votes = np.vstack([v1, v2, v3])\n",
    "        majority, _ = mode(votes, axis=0)\n",
    "        return majority.ravel()"
   ]
  },
  {
   "cell_type": "code",
   "execution_count": null,
   "id": "fcec1752",
   "metadata": {},
   "outputs": [],
   "source": [
    "from sklearn.ensemble import AdaBoostClassifier, RandomForestClassifier, IsolationForest\n",
    "from sklearn.neural_network import MLPClassifier\n",
    "from sklearn.tree import DecisionTreeClassifier\n",
    "\n"
   ]
  },
  {
   "cell_type": "code",
   "execution_count": null,
   "id": "bd526559",
   "metadata": {},
   "outputs": [],
   "source": [
    "model =  CABNet(RandomForestClassifier(n_estimators=100), RandomForestClassifier(n_estimators=500), RandomForestClassifier(n_estimators=500))"
   ]
  },
  {
   "cell_type": "code",
   "execution_count": null,
   "id": "6d654b29",
   "metadata": {},
   "outputs": [],
   "source": [
    "model = model.fit(train)"
   ]
  },
  {
   "cell_type": "code",
   "execution_count": null,
   "id": "b22d643d",
   "metadata": {},
   "outputs": [],
   "source": [
    "d = validation\n",
    "y = d['label'].astype(int).to_numpy()\n",
    "x = d.drop(['label'], axis=1).astype(float).to_numpy()"
   ]
  },
  {
   "cell_type": "code",
   "execution_count": null,
   "id": "aa4a43b6",
   "metadata": {},
   "outputs": [],
   "source": [
    "y_pred = model.predict(x)\n",
    "print(classification_report(y, y_pred))"
   ]
  }
 ],
 "metadata": {
  "kernelspec": {
   "display_name": "MNLP",
   "language": "python",
   "name": "python3"
  },
  "language_info": {
   "codemirror_mode": {
    "name": "ipython",
    "version": 3
   },
   "file_extension": ".py",
   "mimetype": "text/x-python",
   "name": "python",
   "nbconvert_exporter": "python",
   "pygments_lexer": "ipython3",
   "version": "3.13.2"
  }
 },
 "nbformat": 4,
 "nbformat_minor": 5
}
