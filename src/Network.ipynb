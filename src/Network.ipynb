{
 "cells": [
  {
   "cell_type": "markdown",
   "id": "c5df55e1",
   "metadata": {},
   "source": [
    "## The NGNet\n",
    "--*Neural G_Factor Net*--\n",
    "Simple neural network used for the computation of the G_Factor, a numerical value defined by specific values of a graph built on the links of a page.\n",
    "\n",
    "### Training Phase\n",
    "\n",
    "The training process is quite standard and straight-forward: given the n G_features we want to directly predict the associated class.\n",
    "\n",
    "### Employment Phase\n",
    "\n",
    "The training model will be inserted in a wider model called X and utilized as a function for the computation of the G_Factor"
   ]
  },
  {
   "cell_type": "code",
   "execution_count": null,
   "id": "ba0f8879",
   "metadata": {},
   "outputs": [],
   "source": [
    "!export CUDA_LAUNCH_BLOCKING=1"
   ]
  },
  {
   "cell_type": "code",
   "execution_count": null,
   "id": "4bab86aa",
   "metadata": {},
   "outputs": [],
   "source": [
    "import torch\n",
    "from torch.nn import Module\n",
    "from torch import nn"
   ]
  },
  {
   "cell_type": "code",
   "execution_count": null,
   "id": "33318b48",
   "metadata": {},
   "outputs": [],
   "source": [
    "class NGNet(Module):\n",
    "    def __init__(self, num_features:int, G_dim:int, n_class:int) -> None:\n",
    "        super().__init__()\n",
    "        \n",
    "\n",
    "        self.linear = nn.Linear(in_features=num_features, out_features=num_features)\n",
    "        self.act1 = nn.Sigmoid()\n",
    "        self.feacture = nn.Linear(in_features=num_features, out_features=G_dim)\n",
    "        self.act2 = nn.Sigmoid()\n",
    "        self.classifier = nn.Linear(in_features=G_dim, out_features=n_class)\n",
    "        \n",
    "    def forward(self, x:torch.Tensor) -> torch.Tensor:\n",
    "        x = self.linear(x)\n",
    "        x = self.act1(x)\n",
    "        x = self.feacture(x)\n",
    "        x = self.act2(x) \n",
    "        x = self.classifier(x)\n",
    "        return x"
   ]
  },
  {
   "cell_type": "markdown",
   "id": "e4b724d1",
   "metadata": {},
   "source": [
    "## Dataset\n",
    "\n",
    "Load the dataset"
   ]
  },
  {
   "cell_type": "code",
   "execution_count": null,
   "id": "c2116a0e",
   "metadata": {},
   "outputs": [],
   "source": [
    "from Train_Classificator import Train_Classificator\n",
    "from PyDataset import PyDataset\n",
    "from torch.utils.data import DataLoader\n",
    "from pathlib import PosixPath"
   ]
  },
  {
   "cell_type": "code",
   "execution_count": null,
   "id": "637c93ba",
   "metadata": {},
   "outputs": [],
   "source": [
    "dataset = PyDataset(PosixPath('./dataset/validation.tsv'), ['G_num_cliques','G_mean_pr','G_nodes'],  target_label='label')\n",
    "dataloader = DataLoader(dataset, batch_size=16)"
   ]
  },
  {
   "cell_type": "markdown",
   "id": "a2c0b35a",
   "metadata": {},
   "source": [
    "## Network"
   ]
  },
  {
   "cell_type": "code",
   "execution_count": null,
   "id": "c6d167fe",
   "metadata": {},
   "outputs": [],
   "source": [
    "network = NGNet(num_features=3, G_dim=16, n_class=3)"
   ]
  },
  {
   "cell_type": "markdown",
   "id": "a2a150d9",
   "metadata": {},
   "source": [
    "## Train"
   ]
  },
  {
   "cell_type": "code",
   "execution_count": null,
   "id": "252d1ccb",
   "metadata": {},
   "outputs": [],
   "source": [
    "trainer = Train_Classificator(network, torch.nn.CrossEntropyLoss(), torch.optim.Adam(params=network.parameters(), lr=0.001))"
   ]
  },
  {
   "cell_type": "code",
   "execution_count": null,
   "id": "44e20f8c",
   "metadata": {},
   "outputs": [],
   "source": [
    "m = trainer.fit_and_get(dataloader, PosixPath('./NGNet/'), 100)"
   ]
  },
  {
   "cell_type": "markdown",
   "id": "700cde8f",
   "metadata": {},
   "source": [
    "## Test"
   ]
  },
  {
   "cell_type": "code",
   "execution_count": null,
   "id": "15dea472",
   "metadata": {},
   "outputs": [],
   "source": []
  },
  {
   "cell_type": "markdown",
   "id": "5255d629",
   "metadata": {},
   "source": [
    "# X Net\n",
    "--*full-no transformer model for Cultural Classification*--\n"
   ]
  },
  {
   "cell_type": "code",
   "execution_count": null,
   "id": "00bfae17",
   "metadata": {},
   "outputs": [],
   "source": [
    "import numpy as np\n",
    "from sklearn.decomposition import SparsePCA\n",
    "from sklearn.tree import DecisionTreeClassifier\n",
    "from sklearn.ensemble import RandomForestClassifier\n",
    "from sklearn.metrics import accuracy_score, recall_score, f1_score, roc_auc_score, precision_score\n"
   ]
  },
  {
   "cell_type": "code",
   "execution_count": null,
   "id": "265b29a5",
   "metadata": {},
   "outputs": [],
   "source": [
    "class XNet:\n",
    "    def __init__(self, num_features:int, G_dim:int, G_weigths, num_comp:int):\n",
    "        self._dimensional_red = SparsePCA(n_components=num_comp)\n",
    "        self._NGN = NGNet(num_features=num_features, G_dim=G_dim, n_class=3)\n",
    "        self.classifier = RandomForestClassifier(n_estimators=100, max_depth=None, random_state=2025)\n",
    "        \n",
    "        \n",
    "    def fit(self, base_fe, G_fe, cu_fe, y) -> None:\n",
    "            \n",
    "        fe_to_reduce = base_fe\n",
    "        reduced_fe = self._dimensional_red.fit_transform(fe_to_reduce)\n",
    "        embeddings = np.concat((reduced_fe, G_fe, cu_fe), axis=1)\n",
    "\n",
    "        self.classifier = self.classifier.fit(embeddings, y)\n",
    "    \n",
    "    def predict(self, base_fe, G_fe,cu_fe, y):\n",
    "        fe_to_reduce = base_fe\n",
    "        reduced_fe = self._dimensional_red.transform(fe_to_reduce)\n",
    "        \n",
    "        embeddings = np.concat((reduced_fe, G_fe, cu_fe), axis=1)\n",
    "        y_pred = self.classifier.predict(embeddings)\n",
    "\n",
    "        print(accuracy_score(y, y_pred))\n",
    "        print(recall_score(y, y_pred, average='macro'))\n",
    "        print(precision_score(y, y_pred, average='macro'))\n",
    "        print(f1_score(y, y_pred, average='macro'))\n",
    "        return y_pred"
   ]
  },
  {
   "cell_type": "markdown",
   "id": "d6abfe5d",
   "metadata": {},
   "source": [
    "## Load Data\n"
   ]
  },
  {
   "cell_type": "code",
   "execution_count": null,
   "id": "5d1a0128",
   "metadata": {},
   "outputs": [],
   "source": [
    "import pandas as pd"
   ]
  },
  {
   "cell_type": "code",
   "execution_count": null,
   "id": "4fb01676",
   "metadata": {},
   "outputs": [],
   "source": [
    "dataset = pd.read_csv('dataset/validation.tsv', sep='\\t', index_col=None)\n",
    "dataset = dataset.drop('Unnamed: 0', axis=1)"
   ]
  },
  {
   "cell_type": "markdown",
   "id": "1e6614bb",
   "metadata": {},
   "source": [
    "## Prepare Data"
   ]
  },
  {
   "cell_type": "code",
   "execution_count": null,
   "id": "f5d16fee",
   "metadata": {},
   "outputs": [],
   "source": [
    "y = dataset['label']\n",
    "X = dataset.drop('label', axis=1)\n"
   ]
  },
  {
   "cell_type": "code",
   "execution_count": null,
   "id": "399f93bb",
   "metadata": {},
   "outputs": [],
   "source": [
    "X_train = X.iloc[0:250, :]\n",
    "X_test = X.iloc[250:, :]\n",
    "\n",
    "y_train = y.iloc[0:250]\n",
    "y_test = y.iloc[250:]"
   ]
  },
  {
   "cell_type": "code",
   "execution_count": null,
   "id": "e5336dd8",
   "metadata": {},
   "outputs": [],
   "source": [
    "X_test.head "
   ]
  },
  {
   "cell_type": "code",
   "execution_count": null,
   "id": "460c5254",
   "metadata": {},
   "outputs": [],
   "source": [
    "G_fe = X_train[['G_nodes','G_num_cliques','G_rank','G_mean_pr']].to_numpy()\n",
    "page_fe = X_train.iloc[:, 12:].to_numpy()\n",
    "cu_fe = X_train[['languages', 'reference']]"
   ]
  },
  {
   "cell_type": "markdown",
   "id": "d2d3961d",
   "metadata": {},
   "source": []
  },
  {
   "cell_type": "code",
   "execution_count": null,
   "id": "3733b7ce",
   "metadata": {},
   "outputs": [],
   "source": [
    "model = XNet(num_features=4, G_dim=16, G_weigths=torch.load('./NGNet/checkpoint_20250422_210000.pth', weights_only=True), num_comp=8)"
   ]
  },
  {
   "cell_type": "markdown",
   "id": "997f90e0",
   "metadata": {},
   "source": [
    "## Train"
   ]
  },
  {
   "cell_type": "code",
   "execution_count": null,
   "id": "22c0ce74",
   "metadata": {},
   "outputs": [],
   "source": [
    "model.fit(page_fe, G_fe, cu_fe, y_train)\n",
    "model.predict(page_fe, G_fe,cu_fe, y_train)"
   ]
  },
  {
   "cell_type": "code",
   "execution_count": null,
   "id": "4f6ec035",
   "metadata": {},
   "outputs": [],
   "source": [
    "G_fe = X_test[['G_nodes','G_num_cliques','G_rank','G_mean_pr']].to_numpy()\n",
    "page_fe = X_test.iloc[:, 12:].to_numpy()\n",
    "cu_fe = X_test[['languages', 'reference']]"
   ]
  },
  {
   "cell_type": "code",
   "execution_count": null,
   "id": "63b58b1d",
   "metadata": {},
   "outputs": [],
   "source": [
    "y_pred = model.predict(page_fe, G_fe,cu_fe, y_test)"
   ]
  }
 ],
 "metadata": {
  "kernelspec": {
   "display_name": "MNLP",
   "language": "python",
   "name": "python3"
  },
  "language_info": {
   "codemirror_mode": {
    "name": "ipython",
    "version": 3
   },
   "file_extension": ".py",
   "mimetype": "text/x-python",
   "name": "python",
   "nbconvert_exporter": "python",
   "pygments_lexer": "ipython3",
   "version": "3.11.2"
  }
 },
 "nbformat": 4,
 "nbformat_minor": 5
}
