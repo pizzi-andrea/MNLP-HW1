{
 "cells": [
  {
   "cell_type": "markdown",
   "id": "c5df55e1",
   "metadata": {},
   "source": [
    "## The NGNet\n",
    "--*Neural G_Factor Net*--\n",
    "Simple neural network used for the computation of the G_Factor, a numerical value defined by specific values of a graph built on the links of a page.\n",
    "\n",
    "### Training Phase\n",
    "\n",
    "The training process is quite standard and straight-forward: given the n G_features we want to directly predict the associated class.\n",
    "\n",
    "### Employment Phase\n",
    "\n",
    "The training model will be inserted in a wider model called X and utilized as a function for the computation of the G_Factor"
   ]
  },
  {
   "cell_type": "code",
   "execution_count": 225,
   "id": "ba0f8879",
   "metadata": {},
   "outputs": [],
   "source": [
    "!export CUDA_LAUNCH_BLOCKING=1"
   ]
  },
  {
   "cell_type": "code",
   "execution_count": 226,
   "id": "4bab86aa",
   "metadata": {},
   "outputs": [],
   "source": [
    "import torch\n",
    "from torch.nn import Module\n",
    "from torch import nn"
   ]
  },
  {
   "cell_type": "code",
   "execution_count": 227,
   "id": "33318b48",
   "metadata": {},
   "outputs": [],
   "source": [
    "class NGNet(Module):\n",
    "    def __init__(self, num_features:int, hide_size:int, G_dim:int, n_class:int) -> None:\n",
    "        super().__init__()\n",
    "        \n",
    "\n",
    "        self.encoder = nn.Sequential(\n",
    "            nn.Linear(in_features=num_features, out_features=G_dim),\n",
    "            \n",
    "        )\n",
    "\n",
    "        self.decoder = nn.Sequential(\n",
    "            nn.Linear(in_features=G_dim, out_features=num_features),\n",
    "            \n",
    "        )\n",
    "        self.classifier = nn.Sequential(\n",
    "            nn.Linear(in_features=num_features, out_features=n_class)\n",
    "        )\n",
    "    def forward(self, x:torch.Tensor) -> torch.Tensor:\n",
    "        x = self.encoder(x)\n",
    "        x = self.decoder(x)\n",
    "        x = self.classifier(x)\n",
    "        return x"
   ]
  },
  {
   "cell_type": "markdown",
   "id": "e4b724d1",
   "metadata": {},
   "source": [
    "## Dataset\n",
    "\n",
    "Load the dataset"
   ]
  },
  {
   "cell_type": "code",
   "execution_count": 228,
   "id": "c2116a0e",
   "metadata": {},
   "outputs": [],
   "source": [
    "from Train_Classificator import Train_Classificator\n",
    "from PyDataset import PyDataset\n",
    "from torch.utils.data import DataLoader\n",
    "from pathlib import PosixPath"
   ]
  },
  {
   "cell_type": "code",
   "execution_count": 229,
   "id": "637c93ba",
   "metadata": {},
   "outputs": [],
   "source": [
    "dataset = PyDataset(PosixPath('./dataset/validation.tsv'), ['G_num_cliques','G_mean_pr','G_nodes'],  target_label='label')\n",
    "dataloader = DataLoader(dataset, batch_size=16)"
   ]
  },
  {
   "cell_type": "markdown",
   "id": "a2c0b35a",
   "metadata": {},
   "source": [
    "## Network"
   ]
  },
  {
   "cell_type": "code",
   "execution_count": 230,
   "id": "c6d167fe",
   "metadata": {},
   "outputs": [],
   "source": [
    "network = NGNet(num_features=3, hide_size=3, G_dim=1, n_class=3)"
   ]
  },
  {
   "cell_type": "markdown",
   "id": "a2a150d9",
   "metadata": {},
   "source": [
    "## Train"
   ]
  },
  {
   "cell_type": "code",
   "execution_count": 231,
   "id": "252d1ccb",
   "metadata": {},
   "outputs": [],
   "source": [
    "trainer = Train_Classificator(network, torch.nn.CrossEntropyLoss(), torch.optim.Adam(params=network.parameters(), lr=0.01))"
   ]
  },
  {
   "cell_type": "code",
   "execution_count": 232,
   "id": "44e20f8c",
   "metadata": {},
   "outputs": [
    {
     "name": "stderr",
     "output_type": "stream",
     "text": [
      "Epoch 1: 100%|██████████| 19/19 [00:00<00:00, 439.93it/s]\n",
      "Epoch 2: 100%|██████████| 19/19 [00:00<00:00, 492.91it/s]\n",
      "Epoch 3: 100%|██████████| 19/19 [00:00<00:00, 486.70it/s]\n",
      "Epoch 4: 100%|██████████| 19/19 [00:00<00:00, 477.65it/s]\n",
      "Epoch 5: 100%|██████████| 19/19 [00:00<00:00, 479.13it/s]\n",
      "Epoch 6: 100%|██████████| 19/19 [00:00<00:00, 492.37it/s]\n",
      "Epoch 7: 100%|██████████| 19/19 [00:00<00:00, 471.86it/s]\n",
      "Epoch 8: 100%|██████████| 19/19 [00:00<00:00, 478.67it/s]\n",
      "Epoch 9: 100%|██████████| 19/19 [00:00<00:00, 509.68it/s]\n",
      "Epoch 10: 100%|██████████| 19/19 [00:00<00:00, 460.84it/s]\n"
     ]
    }
   ],
   "source": [
    "m = trainer.fit_and_get(dataloader, PosixPath('./NGNet/'), 10)"
   ]
  },
  {
   "cell_type": "markdown",
   "id": "700cde8f",
   "metadata": {},
   "source": [
    "## Test"
   ]
  },
  {
   "cell_type": "code",
   "execution_count": null,
   "id": "15dea472",
   "metadata": {},
   "outputs": [],
   "source": []
  },
  {
   "cell_type": "markdown",
   "id": "5255d629",
   "metadata": {},
   "source": [
    "# X Net\n",
    "--*full-no transformer model for Cultural Classification*--\n"
   ]
  },
  {
   "cell_type": "code",
   "execution_count": null,
   "id": "00bfae17",
   "metadata": {},
   "outputs": [],
   "source": [
    "from sklearn.decomposition import SparsePCA\n",
    "from sklearn.tree import DecisionTreeClassifier"
   ]
  },
  {
   "cell_type": "code",
   "execution_count": null,
   "id": "265b29a5",
   "metadata": {},
   "outputs": [],
   "source": [
    "class XNet(nn.Module):\n",
    "    def __init__(self, num_features:int, G_dim:int, G_weigths, num_comp:int):\n",
    "        self._dimensional_red = SparsePCA(n_components=num_comp)\n",
    "        self._NGN = NGNet(num_features=num_features, hide_size=0, G_dim=G_dim)\n",
    "        self._NGN.classifier = nn.Identity()\n",
    "        self.classifier = DecisionTreeClassifier()\n",
    "        \n",
    "    def fit(self, base_fe:np., G_fe:torch.Tensor) -> torch.Tensor:\n",
    "        if self.training:\n",
    "            \n",
    "            fe_to_reduce = base_fe.numpy(force=True)\n",
    "\n",
    "            reduced_fe = torch.Tensor(self._dimensional_red.fit(fe_to_reduce))\n",
    "            G_factor = self._NGN(G_fe)\n",
    "\n",
    "\n",
    "            \n"
   ]
  }
 ],
 "metadata": {
  "kernelspec": {
   "display_name": "MNLP",
   "language": "python",
   "name": "python3"
  },
  "language_info": {
   "codemirror_mode": {
    "name": "ipython",
    "version": 3
   },
   "file_extension": ".py",
   "mimetype": "text/x-python",
   "name": "python",
   "nbconvert_exporter": "python",
   "pygments_lexer": "ipython3",
   "version": "3.13.2"
  }
 },
 "nbformat": 4,
 "nbformat_minor": 5
}
