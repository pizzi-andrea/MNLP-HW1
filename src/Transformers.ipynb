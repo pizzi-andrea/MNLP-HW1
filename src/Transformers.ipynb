{
 "cells": [
  {
   "cell_type": "code",
   "execution_count": 1,
   "id": "424d5747",
   "metadata": {},
   "outputs": [
    {
     "name": "stderr",
     "output_type": "stream",
     "text": [
      "/Library/Frameworks/Python.framework/Versions/3.11/lib/python3.11/site-packages/tqdm/auto.py:21: TqdmWarning: IProgress not found. Please update jupyter and ipywidgets. See https://ipywidgets.readthedocs.io/en/stable/user_install.html\n",
      "  from .autonotebook import tqdm as notebook_tqdm\n"
     ]
    }
   ],
   "source": [
    "from CU_Dataset_Factory import Hf_Loader, CU_Dataset_Factory"
   ]
  },
  {
   "cell_type": "code",
   "execution_count": 2,
   "id": "192117a3",
   "metadata": {},
   "outputs": [],
   "source": [
    "factory = CU_Dataset_Factory('.')\n",
    "train_l = Hf_Loader(\"sapienzanlp/nlp2025_hw1_cultural_dataset\", 'train')\n",
    "validation_l = Hf_Loader(\"sapienzanlp/nlp2025_hw1_cultural_dataset\", 'validation')"
   ]
  },
  {
   "cell_type": "code",
   "execution_count": 3,
   "id": "1c6dc6b2",
   "metadata": {},
   "outputs": [
    {
     "name": "stderr",
     "output_type": "stream",
     "text": [
      "100%|██████████| 126/126 [00:01<00:00, 125.93it/s]\n",
      "copy dataset: 100%|██████████| 1/1 [00:00<00:00, 1055.97it/s]\n",
      "batch compute: 100%|██████████| 6251/6251 [00:00<00:00, 39934.25it/s, batch=626]\n",
      "100%|██████████| 6/6 [00:01<00:00,  5.25it/s]\n",
      "copy dataset: 100%|██████████| 1/1 [00:00<00:00, 1492.10it/s]\n",
      "batch compute: 100%|██████████| 300/300 [00:00<00:00, 14531.94it/s, batch=30]\n"
     ]
    }
   ],
   "source": [
    "train = factory.produce(train_l, 'tr_train.tsv', ['description'], 'label', 10, False)\n",
    "test  = factory.produce(validation_l, 'tr_validation.tsv', ['description'], 'label', 10, False)"
   ]
  },
  {
   "cell_type": "code",
   "execution_count": 4,
   "id": "7bd3dfa6",
   "metadata": {},
   "outputs": [],
   "source": [
    "train_data = train[['label', 'description']].rename({'description': 'text'}, axis=1)\n",
    "validation_data = test[['label', 'description']].rename({'description': 'text'}, axis=1)"
   ]
  },
  {
   "cell_type": "code",
   "execution_count": 5,
   "id": "88c0a1ab",
   "metadata": {},
   "outputs": [
    {
     "data": {
      "text/html": [
       "<div>\n",
       "<style scoped>\n",
       "    .dataframe tbody tr th:only-of-type {\n",
       "        vertical-align: middle;\n",
       "    }\n",
       "\n",
       "    .dataframe tbody tr th {\n",
       "        vertical-align: top;\n",
       "    }\n",
       "\n",
       "    .dataframe thead th {\n",
       "        text-align: right;\n",
       "    }\n",
       "</style>\n",
       "<table border=\"1\" class=\"dataframe\">\n",
       "  <thead>\n",
       "    <tr style=\"text-align: right;\">\n",
       "      <th></th>\n",
       "      <th>description</th>\n",
       "      <th>qid</th>\n",
       "      <th>wiki_name</th>\n",
       "      <th>label</th>\n",
       "    </tr>\n",
       "  </thead>\n",
       "  <tbody>\n",
       "    <tr>\n",
       "      <th>0</th>\n",
       "      <td>2012 film by M. Mohanan</td>\n",
       "      <td>Q32786</td>\n",
       "      <td>916 (film)</td>\n",
       "      <td>1</td>\n",
       "    </tr>\n",
       "    <tr>\n",
       "      <th>1</th>\n",
       "      <td>American dance-punk band from California</td>\n",
       "      <td>Q371</td>\n",
       "      <td>!!!</td>\n",
       "      <td>2</td>\n",
       "    </tr>\n",
       "    <tr>\n",
       "      <th>2</th>\n",
       "      <td>Mort &amp; Phil comic</td>\n",
       "      <td>Q3729947</td>\n",
       "      <td>¡Soborno!</td>\n",
       "      <td>2</td>\n",
       "    </tr>\n",
       "    <tr>\n",
       "      <th>3</th>\n",
       "      <td>American band</td>\n",
       "      <td>Q158611</td>\n",
       "      <td>+44 (band)</td>\n",
       "      <td>2</td>\n",
       "    </tr>\n",
       "    <tr>\n",
       "      <th>4</th>\n",
       "      <td>building in Monmouth, Wales</td>\n",
       "      <td>Q280375</td>\n",
       "      <td>1 Monk Street, Monmouth</td>\n",
       "      <td>1</td>\n",
       "    </tr>\n",
       "  </tbody>\n",
       "</table>\n",
       "</div>"
      ],
      "text/plain": [
       "                                description       qid  \\\n",
       "0                   2012 film by M. Mohanan    Q32786   \n",
       "1  American dance-punk band from California      Q371   \n",
       "2                         Mort & Phil comic  Q3729947   \n",
       "3                             American band   Q158611   \n",
       "4               building in Monmouth, Wales   Q280375   \n",
       "\n",
       "                 wiki_name  label  \n",
       "0               916 (film)      1  \n",
       "1                      !!!      2  \n",
       "2                ¡Soborno!      2  \n",
       "3               +44 (band)      2  \n",
       "4  1 Monk Street, Monmouth      1  "
      ]
     },
     "execution_count": 5,
     "metadata": {},
     "output_type": "execute_result"
    }
   ],
   "source": [
    "train.head(5)"
   ]
  },
  {
   "cell_type": "code",
   "execution_count": 6,
   "id": "704f246e",
   "metadata": {},
   "outputs": [],
   "source": [
    "from datasets import Dataset\n",
    "from datasets import Features\n",
    "from datasets import Split, Value"
   ]
  },
  {
   "cell_type": "code",
   "execution_count": 7,
   "id": "99ff0b4f",
   "metadata": {},
   "outputs": [],
   "source": [
    "train_data = Dataset.from_pandas(train_data, features=Features({\n",
    "    'label': Value('int32'),\n",
    "    'text' : Value('string')\n",
    "}), split=Split.TRAIN)"
   ]
  },
  {
   "cell_type": "code",
   "execution_count": 8,
   "id": "63aaf92b",
   "metadata": {},
   "outputs": [],
   "source": [
    "validation_data = Dataset.from_pandas(validation_data, features=Features({\n",
    "    'label': Value('int32'),\n",
    "    'text' : Value('string')\n",
    "}), split=Split.TEST)"
   ]
  },
  {
   "cell_type": "code",
   "execution_count": 9,
   "id": "310168c0",
   "metadata": {},
   "outputs": [],
   "source": [
    "from transformers import AutoTokenizer"
   ]
  },
  {
   "cell_type": "code",
   "execution_count": 10,
   "id": "c3493202",
   "metadata": {},
   "outputs": [],
   "source": [
    "tokenizer = AutoTokenizer.from_pretrained(\"distilbert/distilbert-base-uncased\")"
   ]
  },
  {
   "cell_type": "code",
   "execution_count": 11,
   "id": "54d2cd96",
   "metadata": {},
   "outputs": [],
   "source": [
    "class Preprocessor:\n",
    "    def __init__(self, tokenizer) -> None:\n",
    "        self.tokenizer = tokenizer\n",
    "    def process_samples(self, samples):\n",
    "        return samples.map(lambda sample: self.tokenizer(sample['text'], truncation=True))"
   ]
  },
  {
   "cell_type": "code",
   "execution_count": 12,
   "id": "c824d600",
   "metadata": {},
   "outputs": [],
   "source": [
    "p = Preprocessor(tokenizer)"
   ]
  },
  {
   "cell_type": "code",
   "execution_count": 13,
   "id": "dcfca7ea",
   "metadata": {},
   "outputs": [
    {
     "name": "stderr",
     "output_type": "stream",
     "text": [
      "Map: 100%|██████████| 6251/6251 [00:00<00:00, 16071.48 examples/s]\n",
      "Map: 100%|██████████| 300/300 [00:00<00:00, 16123.67 examples/s]\n"
     ]
    }
   ],
   "source": [
    "tokenize_train = p.process_samples(train_data)\n",
    "tokenize_test = p.process_samples(validation_data)"
   ]
  },
  {
   "cell_type": "code",
   "execution_count": 14,
   "id": "fd0ae0f3",
   "metadata": {},
   "outputs": [],
   "source": [
    "from transformers import DataCollatorWithPadding"
   ]
  },
  {
   "cell_type": "code",
   "execution_count": 15,
   "id": "d67a0817",
   "metadata": {},
   "outputs": [],
   "source": [
    "collector = DataCollatorWithPadding(tokenizer)"
   ]
  },
  {
   "cell_type": "code",
   "execution_count": 16,
   "id": "9e831039",
   "metadata": {},
   "outputs": [],
   "source": [
    "import numpy as np\n",
    "import evaluate"
   ]
  },
  {
   "cell_type": "code",
   "execution_count": 17,
   "id": "64092eb1",
   "metadata": {},
   "outputs": [],
   "source": [
    "def compute_metrics(eval_pred):\n",
    "    acc = evaluate.load('accuracy')\n",
    "    \n",
    "    \n",
    "    pred, true = eval_pred\n",
    "    pred = np.argmax(pred, axis=1)\n",
    "    return acc.compute(predictions=pred, references=true)"
   ]
  },
  {
   "cell_type": "code",
   "execution_count": 18,
   "id": "e1d55959",
   "metadata": {},
   "outputs": [],
   "source": [
    "cls2label = {0:'Cultural Agnostic', 1:'Cultural Rapresentative', 2:'Cultural Exclusive'}\n",
    "label2cls = {l:c for c ,l in cls2label.items()}"
   ]
  },
  {
   "cell_type": "code",
   "execution_count": 19,
   "id": "10827cc7",
   "metadata": {},
   "outputs": [],
   "source": [
    "from transformers import AutoModelForSequenceClassification\n",
    "from transformers import TrainingArguments, Trainer"
   ]
  },
  {
   "cell_type": "code",
   "execution_count": 20,
   "id": "d8bb379e",
   "metadata": {},
   "outputs": [
    {
     "name": "stderr",
     "output_type": "stream",
     "text": [
      "Some weights of DistilBertForSequenceClassification were not initialized from the model checkpoint at distilbert/distilbert-base-uncased and are newly initialized: ['classifier.bias', 'classifier.weight', 'pre_classifier.bias', 'pre_classifier.weight']\n",
      "You should probably TRAIN this model on a down-stream task to be able to use it for predictions and inference.\n"
     ]
    }
   ],
   "source": [
    "model = model = AutoModelForSequenceClassification.from_pretrained(\"distilbert/distilbert-base-uncased\", num_labels=3)"
   ]
  },
  {
   "cell_type": "code",
   "execution_count": 21,
   "id": "a9e7833f",
   "metadata": {},
   "outputs": [],
   "source": [
    "traning_args = TrainingArguments(\n",
    "    output_dir='CU_with_bert',\n",
    "    eval_strategy='epoch',\n",
    "    push_to_hub=False\n",
    ")\n",
    "\n",
    "trainer = Trainer(\n",
    "    model=model,\n",
    "    args=traning_args,\n",
    "    data_collator=collector,\n",
    "    train_dataset=tokenize_train,\n",
    "    eval_dataset=tokenize_test,\n",
    "    compute_metrics=compute_metrics,\n",
    ")"
   ]
  },
  {
   "cell_type": "code",
   "execution_count": 22,
   "id": "78808776",
   "metadata": {},
   "outputs": [
    {
     "data": {
      "text/html": [
       "\n",
       "    <div>\n",
       "      \n",
       "      <progress value='2346' max='2346' style='width:300px; height:20px; vertical-align: middle;'></progress>\n",
       "      [2346/2346 06:37, Epoch 3/3]\n",
       "    </div>\n",
       "    <table border=\"1\" class=\"dataframe\">\n",
       "  <thead>\n",
       " <tr style=\"text-align: left;\">\n",
       "      <th>Epoch</th>\n",
       "      <th>Training Loss</th>\n",
       "      <th>Validation Loss</th>\n",
       "      <th>Accuracy</th>\n",
       "    </tr>\n",
       "  </thead>\n",
       "  <tbody>\n",
       "    <tr>\n",
       "      <td>1</td>\n",
       "      <td>0.678200</td>\n",
       "      <td>0.699003</td>\n",
       "      <td>0.703333</td>\n",
       "    </tr>\n",
       "    <tr>\n",
       "      <td>2</td>\n",
       "      <td>0.435100</td>\n",
       "      <td>0.800173</td>\n",
       "      <td>0.703333</td>\n",
       "    </tr>\n",
       "    <tr>\n",
       "      <td>3</td>\n",
       "      <td>0.291400</td>\n",
       "      <td>0.968295</td>\n",
       "      <td>0.740000</td>\n",
       "    </tr>\n",
       "  </tbody>\n",
       "</table><p>"
      ],
      "text/plain": [
       "<IPython.core.display.HTML object>"
      ]
     },
     "metadata": {},
     "output_type": "display_data"
    },
    {
     "name": "stderr",
     "output_type": "stream",
     "text": [
      "Downloading builder script: 100%|██████████| 4.20k/4.20k [00:00<00:00, 5.05MB/s]\n"
     ]
    },
    {
     "data": {
      "text/plain": [
       "TrainOutput(global_step=2346, training_loss=0.45521617281264154, metrics={'train_runtime': 405.364, 'train_samples_per_second': 46.262, 'train_steps_per_second': 5.787, 'total_flos': 97452983823318.0, 'train_loss': 0.45521617281264154, 'epoch': 3.0})"
      ]
     },
     "execution_count": 22,
     "metadata": {},
     "output_type": "execute_result"
    }
   ],
   "source": [
    "trainer.train()"
   ]
  }
 ],
 "metadata": {
  "kernelspec": {
   "display_name": "MNLP",
   "language": "python",
   "name": "python3"
  },
  "language_info": {
   "codemirror_mode": {
    "name": "ipython",
    "version": 3
   },
   "file_extension": ".py",
   "mimetype": "text/x-python",
   "name": "python",
   "nbconvert_exporter": "python",
   "pygments_lexer": "ipython3",
   "version": "3.11.2"
  }
 },
 "nbformat": 4,
 "nbformat_minor": 5
}
