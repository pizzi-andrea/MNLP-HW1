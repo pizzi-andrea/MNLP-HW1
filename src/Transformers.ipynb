{
 "cells": [
  {
   "cell_type": "code",
   "execution_count": 2,
   "id": "424d5747",
   "metadata": {},
   "outputs": [
    {
     "name": "stderr",
     "output_type": "stream",
     "text": [
      "/home/andrea/miniconda3/envs/MNLP/lib/python3.13/site-packages/tqdm/auto.py:21: TqdmWarning: IProgress not found. Please update jupyter and ipywidgets. See https://ipywidgets.readthedocs.io/en/stable/user_install.html\n",
      "  from .autonotebook import tqdm as notebook_tqdm\n"
     ]
    }
   ],
   "source": [
    "from CU_Dataset_Factory import Hf_Loader, CU_Dataset_Factory"
   ]
  },
  {
   "cell_type": "code",
   "execution_count": 3,
   "id": "192117a3",
   "metadata": {},
   "outputs": [],
   "source": [
    "factory = CU_Dataset_Factory('.')\n",
    "train_l = Hf_Loader(\"sapienzanlp/nlp2025_hw1_cultural_dataset\", 'train')\n",
    "validation_l = Hf_Loader(\"sapienzanlp/nlp2025_hw1_cultural_dataset\", 'validation')"
   ]
  },
  {
   "cell_type": "code",
   "execution_count": 4,
   "id": "1c6dc6b2",
   "metadata": {},
   "outputs": [
    {
     "name": "stderr",
     "output_type": "stream",
     "text": [
      "100%|██████████| 126/126 [00:00<00:00, 135.93it/s]\n",
      "copy dataset: 100%|██████████| 1/1 [00:00<00:00, 255.24it/s]\n",
      "batch compute: 100%|██████████| 6251/6251 [00:00<00:00, 7040.20it/s, batch=626]\n",
      "100%|██████████| 6/6 [00:00<00:00, 73.62it/s]\n",
      "copy dataset: 100%|██████████| 1/1 [00:00<00:00, 593.42it/s]\n",
      "batch compute: 100%|██████████| 300/300 [00:00<00:00, 7799.97it/s, batch=30]\n"
     ]
    }
   ],
   "source": [
    "\n",
    "\n",
    "train = factory.produce(train_l, 'tr_train.tsv', ['description'], 'label', 10, False)\n",
    "test  = factory.produce(validation_l, 'tr_validation.tsv', ['description'], 'label', 10, False)"
   ]
  },
  {
   "cell_type": "code",
   "execution_count": 5,
   "id": "7bd3dfa6",
   "metadata": {},
   "outputs": [],
   "source": [
    "train_data = train[['label', 'description']].rename({'description': 'text'}, axis=1)\n",
    "validation_data = test[['label', 'description']].rename({'description': 'text'}, axis=1)"
   ]
  },
  {
   "cell_type": "code",
   "execution_count": 6,
   "id": "88c0a1ab",
   "metadata": {},
   "outputs": [
    {
     "data": {
      "application/vnd.microsoft.datawrangler.viewer.v0+json": {
       "columns": [
        {
         "name": "index",
         "rawType": "int64",
         "type": "integer"
        },
        {
         "name": "description",
         "rawType": "object",
         "type": "string"
        },
        {
         "name": "wiki_name",
         "rawType": "object",
         "type": "string"
        },
        {
         "name": "qid",
         "rawType": "object",
         "type": "string"
        },
        {
         "name": "label",
         "rawType": "int64",
         "type": "integer"
        }
       ],
       "conversionMethod": "pd.DataFrame",
       "ref": "8ff7eb2f-a0eb-4896-a27b-c86a2f8b4b8a",
       "rows": [
        [
         "0",
         "2012 film by M. Mohanan",
         "916 (film)",
         "Q32786",
         "1"
        ],
        [
         "1",
         "American dance-punk band from California",
         "!!!",
         "Q371",
         "2"
        ],
        [
         "2",
         "Mort & Phil comic",
         "¡Soborno!",
         "Q3729947",
         "2"
        ],
        [
         "3",
         "American band",
         "+44 (band)",
         "Q158611",
         "2"
        ],
        [
         "4",
         "building in Monmouth, Wales",
         "1 Monk Street, Monmouth",
         "Q280375",
         "1"
        ]
       ],
       "shape": {
        "columns": 4,
        "rows": 5
       }
      },
      "text/html": [
       "<div>\n",
       "<style scoped>\n",
       "    .dataframe tbody tr th:only-of-type {\n",
       "        vertical-align: middle;\n",
       "    }\n",
       "\n",
       "    .dataframe tbody tr th {\n",
       "        vertical-align: top;\n",
       "    }\n",
       "\n",
       "    .dataframe thead th {\n",
       "        text-align: right;\n",
       "    }\n",
       "</style>\n",
       "<table border=\"1\" class=\"dataframe\">\n",
       "  <thead>\n",
       "    <tr style=\"text-align: right;\">\n",
       "      <th></th>\n",
       "      <th>description</th>\n",
       "      <th>wiki_name</th>\n",
       "      <th>qid</th>\n",
       "      <th>label</th>\n",
       "    </tr>\n",
       "  </thead>\n",
       "  <tbody>\n",
       "    <tr>\n",
       "      <th>0</th>\n",
       "      <td>2012 film by M. Mohanan</td>\n",
       "      <td>916 (film)</td>\n",
       "      <td>Q32786</td>\n",
       "      <td>1</td>\n",
       "    </tr>\n",
       "    <tr>\n",
       "      <th>1</th>\n",
       "      <td>American dance-punk band from California</td>\n",
       "      <td>!!!</td>\n",
       "      <td>Q371</td>\n",
       "      <td>2</td>\n",
       "    </tr>\n",
       "    <tr>\n",
       "      <th>2</th>\n",
       "      <td>Mort &amp; Phil comic</td>\n",
       "      <td>¡Soborno!</td>\n",
       "      <td>Q3729947</td>\n",
       "      <td>2</td>\n",
       "    </tr>\n",
       "    <tr>\n",
       "      <th>3</th>\n",
       "      <td>American band</td>\n",
       "      <td>+44 (band)</td>\n",
       "      <td>Q158611</td>\n",
       "      <td>2</td>\n",
       "    </tr>\n",
       "    <tr>\n",
       "      <th>4</th>\n",
       "      <td>building in Monmouth, Wales</td>\n",
       "      <td>1 Monk Street, Monmouth</td>\n",
       "      <td>Q280375</td>\n",
       "      <td>1</td>\n",
       "    </tr>\n",
       "  </tbody>\n",
       "</table>\n",
       "</div>"
      ],
      "text/plain": [
       "                                description                wiki_name  \\\n",
       "0                   2012 film by M. Mohanan               916 (film)   \n",
       "1  American dance-punk band from California                      !!!   \n",
       "2                         Mort & Phil comic                ¡Soborno!   \n",
       "3                             American band               +44 (band)   \n",
       "4               building in Monmouth, Wales  1 Monk Street, Monmouth   \n",
       "\n",
       "        qid  label  \n",
       "0    Q32786      1  \n",
       "1      Q371      2  \n",
       "2  Q3729947      2  \n",
       "3   Q158611      2  \n",
       "4   Q280375      1  "
      ]
     },
     "execution_count": 6,
     "metadata": {},
     "output_type": "execute_result"
    }
   ],
   "source": [
    "train.head(5)"
   ]
  },
  {
   "cell_type": "code",
   "execution_count": 7,
   "id": "704f246e",
   "metadata": {},
   "outputs": [],
   "source": [
    "from datasets import Dataset\n",
    "from datasets import Features\n",
    "from datasets import Split, Value"
   ]
  },
  {
   "cell_type": "code",
   "execution_count": 8,
   "id": "99ff0b4f",
   "metadata": {},
   "outputs": [],
   "source": [
    "train_data = Dataset.from_pandas(train_data, features=Features({\n",
    "    'label': Value('int32'),\n",
    "    'text' : Value('string')\n",
    "}), split=Split.TRAIN)"
   ]
  },
  {
   "cell_type": "code",
   "execution_count": 9,
   "id": "63aaf92b",
   "metadata": {},
   "outputs": [],
   "source": [
    "validation_data = Dataset.from_pandas(validation_data, features=Features({\n",
    "    'label': Value('int32'),\n",
    "    'text' : Value('string')\n",
    "}), split=Split.TEST)\n",
    "\n"
   ]
  },
  {
   "cell_type": "code",
   "execution_count": 10,
   "id": "310168c0",
   "metadata": {},
   "outputs": [],
   "source": [
    "from transformers import AutoTokenizer"
   ]
  },
  {
   "cell_type": "code",
   "execution_count": 11,
   "id": "c3493202",
   "metadata": {},
   "outputs": [],
   "source": [
    "tokenizer = AutoTokenizer.from_pretrained(\"distilbert/distilbert-base-uncased\")"
   ]
  },
  {
   "cell_type": "code",
   "execution_count": 12,
   "id": "54d2cd96",
   "metadata": {},
   "outputs": [],
   "source": [
    "class Preprocessor:\n",
    "    def __init__(self, tokenizer) -> None:\n",
    "        self.tokenizer = tokenizer\n",
    "    def process_samples(self, samples):\n",
    "        return samples.map(lambda sample: self.tokenizer(sample['text'], truncation=True))"
   ]
  },
  {
   "cell_type": "code",
   "execution_count": 13,
   "id": "c824d600",
   "metadata": {},
   "outputs": [],
   "source": [
    "p = Preprocessor(tokenizer)"
   ]
  },
  {
   "cell_type": "code",
   "execution_count": 14,
   "id": "dcfca7ea",
   "metadata": {},
   "outputs": [
    {
     "name": "stderr",
     "output_type": "stream",
     "text": [
      "Map: 100%|██████████| 6251/6251 [00:02<00:00, 2955.50 examples/s]\n",
      "Map: 100%|██████████| 300/300 [00:00<00:00, 2780.54 examples/s]\n"
     ]
    }
   ],
   "source": [
    "tokenize_train = p.process_samples(train_data)\n",
    "tokenize_test = p.process_samples(validation_data)"
   ]
  },
  {
   "cell_type": "code",
   "execution_count": 15,
   "id": "fd0ae0f3",
   "metadata": {},
   "outputs": [],
   "source": [
    "from transformers import DataCollatorWithPadding"
   ]
  },
  {
   "cell_type": "code",
   "execution_count": 16,
   "id": "d67a0817",
   "metadata": {},
   "outputs": [],
   "source": [
    "collector = DataCollatorWithPadding(tokenizer)"
   ]
  },
  {
   "cell_type": "code",
   "execution_count": 17,
   "id": "9e831039",
   "metadata": {},
   "outputs": [],
   "source": [
    "import numpy as np\n",
    "import evaluate"
   ]
  },
  {
   "cell_type": "code",
   "execution_count": 18,
   "id": "64092eb1",
   "metadata": {},
   "outputs": [],
   "source": [
    "def compute_metrics(eval_pred):\n",
    "    acc = evaluate.load('accuracy')\n",
    "    \n",
    "    \n",
    "    pred, true = eval_pred\n",
    "    pred = np.argmax(pred, axis=1)\n",
    "    return acc.compute(predictions=pred, references=true)"
   ]
  },
  {
   "cell_type": "code",
   "execution_count": 19,
   "id": "e1d55959",
   "metadata": {},
   "outputs": [],
   "source": [
    "cls2label = {0:'Cultural Agnostic', 1:'Cultural Rapresentative', 2:'Cultural Exclusive'}\n",
    "label2cls = {l:c for c ,l in cls2label.items()}"
   ]
  },
  {
   "cell_type": "code",
   "execution_count": 20,
   "id": "10827cc7",
   "metadata": {},
   "outputs": [],
   "source": [
    "from transformers import AutoModelForSequenceClassification\n",
    "from transformers import TrainingArguments, Trainer\n"
   ]
  },
  {
   "cell_type": "code",
   "execution_count": 21,
   "id": "d8bb379e",
   "metadata": {},
   "outputs": [
    {
     "name": "stderr",
     "output_type": "stream",
     "text": [
      "Xet Storage is enabled for this repo, but the 'hf_xet' package is not installed. Falling back to regular HTTP download. For better performance, install the package with: `pip install huggingface_hub[hf_xet]` or `pip install hf_xet`\n",
      "Some weights of DistilBertForSequenceClassification were not initialized from the model checkpoint at distilbert/distilbert-base-uncased and are newly initialized: ['classifier.bias', 'classifier.weight', 'pre_classifier.bias', 'pre_classifier.weight']\n",
      "You should probably TRAIN this model on a down-stream task to be able to use it for predictions and inference.\n"
     ]
    }
   ],
   "source": [
    "model = model = AutoModelForSequenceClassification.from_pretrained(\"distilbert/distilbert-base-uncased\", num_labels=3)"
   ]
  },
  {
   "cell_type": "code",
   "execution_count": 22,
   "id": "a9e7833f",
   "metadata": {},
   "outputs": [],
   "source": [
    "traning_args = TrainingArguments(\n",
    "    output_dir='CU_with_bert',\n",
    "    eval_strategy='epoch',\n",
    "    push_to_hub=False\n",
    ")\n",
    "\n",
    "trainer = Trainer(\n",
    "    model=model,\n",
    "    args=traning_args,\n",
    "    data_collator=collector,\n",
    "    train_dataset=tokenize_train,\n",
    "    eval_dataset=tokenize_test,\n",
    "    compute_metrics=compute_metrics,\n",
    ")"
   ]
  },
  {
   "cell_type": "code",
   "execution_count": 23,
   "id": "78808776",
   "metadata": {},
   "outputs": [
    {
     "name": "stderr",
     "output_type": "stream",
     "text": [
      "/home/andrea/miniconda3/envs/MNLP/lib/python3.13/site-packages/torch/utils/data/dataloader.py:665: UserWarning: 'pin_memory' argument is set as true but no accelerator is found, then device pinned memory won't be used.\n",
      "  warnings.warn(warn_msg)\n"
     ]
    },
    {
     "data": {
      "text/html": [
       "\n",
       "    <div>\n",
       "      \n",
       "      <progress value='2346' max='2346' style='width:300px; height:20px; vertical-align: middle;'></progress>\n",
       "      [2346/2346 18:28, Epoch 3/3]\n",
       "    </div>\n",
       "    <table border=\"1\" class=\"dataframe\">\n",
       "  <thead>\n",
       " <tr style=\"text-align: left;\">\n",
       "      <th>Epoch</th>\n",
       "      <th>Training Loss</th>\n",
       "      <th>Validation Loss</th>\n",
       "      <th>Accuracy</th>\n",
       "    </tr>\n",
       "  </thead>\n",
       "  <tbody>\n",
       "    <tr>\n",
       "      <td>1</td>\n",
       "      <td>0.673600</td>\n",
       "      <td>0.700462</td>\n",
       "      <td>0.713333</td>\n",
       "    </tr>\n",
       "    <tr>\n",
       "      <td>2</td>\n",
       "      <td>0.439200</td>\n",
       "      <td>0.751048</td>\n",
       "      <td>0.726667</td>\n",
       "    </tr>\n",
       "    <tr>\n",
       "      <td>3</td>\n",
       "      <td>0.293300</td>\n",
       "      <td>1.014506</td>\n",
       "      <td>0.723333</td>\n",
       "    </tr>\n",
       "  </tbody>\n",
       "</table><p>"
      ],
      "text/plain": [
       "<IPython.core.display.HTML object>"
      ]
     },
     "metadata": {},
     "output_type": "display_data"
    },
    {
     "name": "stderr",
     "output_type": "stream",
     "text": [
      "/home/andrea/miniconda3/envs/MNLP/lib/python3.13/site-packages/torch/utils/data/dataloader.py:665: UserWarning: 'pin_memory' argument is set as true but no accelerator is found, then device pinned memory won't be used.\n",
      "  warnings.warn(warn_msg)\n",
      "Downloading builder script: 100%|██████████| 4.20k/4.20k [00:00<00:00, 5.08MB/s]\n",
      "/home/andrea/miniconda3/envs/MNLP/lib/python3.13/site-packages/torch/utils/data/dataloader.py:665: UserWarning: 'pin_memory' argument is set as true but no accelerator is found, then device pinned memory won't be used.\n",
      "  warnings.warn(warn_msg)\n",
      "/home/andrea/miniconda3/envs/MNLP/lib/python3.13/site-packages/torch/utils/data/dataloader.py:665: UserWarning: 'pin_memory' argument is set as true but no accelerator is found, then device pinned memory won't be used.\n",
      "  warnings.warn(warn_msg)\n",
      "/home/andrea/miniconda3/envs/MNLP/lib/python3.13/site-packages/torch/utils/data/dataloader.py:665: UserWarning: 'pin_memory' argument is set as true but no accelerator is found, then device pinned memory won't be used.\n",
      "  warnings.warn(warn_msg)\n",
      "/home/andrea/miniconda3/envs/MNLP/lib/python3.13/site-packages/torch/utils/data/dataloader.py:665: UserWarning: 'pin_memory' argument is set as true but no accelerator is found, then device pinned memory won't be used.\n",
      "  warnings.warn(warn_msg)\n"
     ]
    },
    {
     "data": {
      "text/plain": [
       "TrainOutput(global_step=2346, training_loss=0.45589785563671376, metrics={'train_runtime': 1110.4948, 'train_samples_per_second': 16.887, 'train_steps_per_second': 2.113, 'total_flos': 97452983823318.0, 'train_loss': 0.45589785563671376, 'epoch': 3.0})"
      ]
     },
     "execution_count": 23,
     "metadata": {},
     "output_type": "execute_result"
    }
   ],
   "source": [
    "trainer.train()"
   ]
  }
 ],
 "metadata": {
  "kernelspec": {
   "display_name": "MNLP",
   "language": "python",
   "name": "python3"
  },
  "language_info": {
   "codemirror_mode": {
    "name": "ipython",
    "version": 3
   },
   "file_extension": ".py",
   "mimetype": "text/x-python",
   "name": "python",
   "nbconvert_exporter": "python",
   "pygments_lexer": "ipython3",
   "version": "3.13.2"
  }
 },
 "nbformat": 4,
 "nbformat_minor": 5
}
