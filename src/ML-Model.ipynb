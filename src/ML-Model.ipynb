{
 "cells": [
  {
   "cell_type": "markdown",
   "id": "c5df55e1",
   "metadata": {},
   "source": [
    "# ML-Model - Advanced ML methods for Cultural Rappresentation Task (Network I)"
   ]
  },
  {
   "cell_type": "markdown",
   "id": "a00f47ce",
   "metadata": {},
   "source": [
    " In this notebook we propose a novel Voting Schema with multiple binary classification estimators. The network implements a voting scheme based on three different trees:\n",
    "\n",
    "* Cultural **Agnostic-Rappresentative** Estimator\n",
    "* Cultural **Agnostic-Exclusive** Estimator\n",
    "* Cultural **Exclusive-Rappresentative** Estimator\n",
    "\n",
    "the most voted class will be the predicted class."
   ]
  },
  {
   "cell_type": "markdown",
   "id": "848def6d",
   "metadata": {},
   "source": [
    "## Import Necessary Libraries"
   ]
  },
  {
   "cell_type": "code",
   "execution_count": 1201,
   "id": "4cbb965e",
   "metadata": {},
   "outputs": [],
   "source": [
    "import numpy as np\n",
    "import pandas as pd\n",
    "import matplotlib.pyplot as plt\n",
    "import seaborn as sns\n",
    "\n",
    "from scipy.stats import mode\n",
    "\n",
    "from sklearn.base import BaseEstimator, ClassifierMixin\n",
    "from sklearn.ensemble import ExtraTreesClassifier\n",
    "from sklearn.feature_selection import SelectFdr, chi2\n",
    "from sklearn.metrics import classification_report, confusion_matrix\n",
    "from sklearn.model_selection import RandomizedSearchCV\n",
    "from sklearn.neighbors import LocalOutlierFactor\n",
    "from sklearn.preprocessing import OneHotEncoder\n"
   ]
  },
  {
   "cell_type": "markdown",
   "id": "e4b724d1",
   "metadata": {},
   "source": [
    "## Dataset"
   ]
  },
  {
   "cell_type": "markdown",
   "id": "3dbbfbb5",
   "metadata": {},
   "source": [
    "### Load the dataset"
   ]
  },
  {
   "cell_type": "code",
   "execution_count": 1202,
   "id": "afebd71f",
   "metadata": {},
   "outputs": [],
   "source": [
    "from typing import Optional\n",
    "\n",
    "from sklearn.decomposition import PCA\n",
    "\n",
    "\n",
    "def onehot_encode(\n",
    "    dfs: list[pd.DataFrame],\n",
    "    cat_cols: Optional[list[str]] = None,\n",
    "    sparse: bool = False,\n",
    "    handle_unknown: str = \"ignore\",\n",
    "    pca_module: Optional[PCA] = None\n",
    ") -> tuple[list[pd.DataFrame], OneHotEncoder, Optional[PCA]]:\n",
    "    \"\"\"\n",
    "    Fit a OneHotEncoder on specified categorical columns of multiple DataFrames and\n",
    "    return only the one-hot encoded features using scikit-learn. Optionally apply PCA.\n",
    "\n",
    "    Args:\n",
    "        dfs (list[pd.DataFrame]): List of DataFrames to encode.\n",
    "        cat_cols (list[str], optional): Categorical columns. If None, infer object dtypes from first df.\n",
    "        sparse (bool, optional): If True, returns sparse output; otherwise dense array. Defaults to False.\n",
    "        handle_unknown (str, optional): Strategy for unknown categories. Defaults to 'ignore'.\n",
    "        pca_module (PCA, optional): PCA instance to apply to the encoded features. Defaults to None.\n",
    "\n",
    "    Returns:\n",
    "        tuple[list[pd.DataFrame], OneHotEncoder, Optional[PCA]]:\n",
    "            - List of DataFrames with encoded (and possibly PCA-transformed) columns.\n",
    "            - Fitted OneHotEncoder instance.\n",
    "            - Fitted PCA instance if provided, else None.\n",
    "    \"\"\"\n",
    "    # Infer categorical columns\n",
    "    df0 = dfs[0]\n",
    "    if cat_cols is None:\n",
    "        cat_cols = df0.select_dtypes(include=\"object\").columns.tolist()\n",
    "\n",
    "    # Fit encoder on all categories combined\n",
    "    combined_cats = pd.concat([df[cat_cols] for df in dfs], ignore_index=True)\n",
    "    encoder = OneHotEncoder(sparse_output=sparse, handle_unknown=handle_unknown)\n",
    "    encoder.fit(combined_cats)\n",
    "\n",
    "    # Generate feature names\n",
    "    ohe_cols = encoder.get_feature_names_out(cat_cols)\n",
    "\n",
    "    # Transform each DataFrame\n",
    "    encoded_list: list[pd.DataFrame] = []\n",
    "    for df in dfs:\n",
    "        ohe_array = encoder.transform(df[cat_cols])\n",
    "        arr = ohe_array.toarray() if sparse else ohe_array\n",
    "        encoded_df = pd.DataFrame(arr, columns=ohe_cols, index=df.index)\n",
    "        encoded_list.append(encoded_df)\n",
    "\n",
    "    # Optionally apply PCA\n",
    "    if pca_module is not None:\n",
    "        all_data = pd.concat(encoded_list, axis=0)\n",
    "        pca_module.fit(all_data)\n",
    "        encoded_list = [pd.DataFrame(pca_module.transform(df), index=df.index) for df in encoded_list]\n",
    "\n",
    "    return encoded_list, encoder, pca_module"
   ]
  },
  {
   "cell_type": "markdown",
   "id": "c5133b41",
   "metadata": {},
   "source": [
    "### Load the Dataset\n",
    "\n",
    "* train - *Silver Annotate* 6200 items\n",
    "* test  - *Gold Annotate*   300 items (no labels)\n",
    "* validation - *Gold Annotate* 300 items"
   ]
  },
  {
   "cell_type": "code",
   "execution_count": 1203,
   "id": "652d72d8",
   "metadata": {},
   "outputs": [],
   "source": [
    "train = pd.read_csv('train.tsv', sep='\\t')\n",
    "validation = pd.read_csv('validation.tsv', sep='\\t')\n",
    "test = pd.read_csv('test.tsv', sep='\\t')"
   ]
  },
  {
   "cell_type": "code",
   "execution_count": 1204,
   "id": "19b2e549",
   "metadata": {},
   "outputs": [
    {
     "name": "stdout",
     "output_type": "stream",
     "text": [
      "<class 'pandas.core.frame.DataFrame'>\n",
      "RangeIndex: 6251 entries, 0 to 6250\n",
      "Data columns (total 20 columns):\n",
      " #   Column         Non-Null Count  Dtype  \n",
      "---  ------         --------------  -----  \n",
      " 0   length_lan     6251 non-null   float64\n",
      " 1   type           6251 non-null   object \n",
      " 2   subcategory    6251 non-null   object \n",
      " 3   category       6251 non-null   object \n",
      " 4   G_mean_pr      6251 non-null   float64\n",
      " 5   G_density      6251 non-null   float64\n",
      " 6   G_num_cliques  6251 non-null   float64\n",
      " 7   G_avg          6251 non-null   float64\n",
      " 8   G_nodes        6251 non-null   float64\n",
      " 9   n_visits       6251 non-null   float64\n",
      " 10  back_links     6251 non-null   float64\n",
      " 11  n_mod          6251 non-null   float64\n",
      " 12  reference      6251 non-null   float64\n",
      " 13  num_langs      6251 non-null   float64\n",
      " 14  languages      6251 non-null   float64\n",
      " 15  qid            6251 non-null   object \n",
      " 16  name           6251 non-null   object \n",
      " 17  wiki_name      6248 non-null   object \n",
      " 18  item           6251 non-null   object \n",
      " 19  label          6251 non-null   int64  \n",
      "dtypes: float64(12), int64(1), object(7)\n",
      "memory usage: 976.8+ KB\n"
     ]
    }
   ],
   "source": [
    "train.info()"
   ]
  },
  {
   "cell_type": "markdown",
   "id": "e9728c07",
   "metadata": {},
   "source": [
    "## Features Selection"
   ]
  },
  {
   "cell_type": "markdown",
   "id": "f8aa9e57",
   "metadata": {},
   "source": [
    "The features exstracted are grouped in many different categories. We have individuated three:\n",
    "\n",
    "- **Static Features**: regard page structure, numbers of links and other aspects connected to the page that in general changes very slow\n",
    "- **Semi-Dynamic Features**: regard information about wikipedia network like page references or page links, in general they tend to change in large amount of time\n",
    "- **Dynamic Features**: Regard information about users and number of iteractions with corpus pages, in general they tend to change very quickly change very quicly and be very interesting because they allow us to classify instances based on natural cultural change\n",
    "\n",
    "In the next cell we had selected the best features for our purposes"
   ]
  },
  {
   "cell_type": "code",
   "execution_count": 1205,
   "id": "7fe997e0",
   "metadata": {},
   "outputs": [],
   "source": [
    "# Labels\n",
    "y_train = train[['label']]\n",
    "y_validation = validation[['label']]\n",
    "# Identificators\n",
    "id_train = train[['wiki_name']]\n",
    "id_validation = validation[['wiki_name']]\n",
    "# Numeric features\n",
    "fe_train = train[['G_nodes', 'G_num_cliques', 'G_density', 'G_mean_pr','languages','G_avg', 'num_langs', 'reference', 'n_mod', 'back_links', 'n_visits', 'length_lan']]\n",
    "fe_validation = validation[['G_nodes', 'G_num_cliques', 'G_density', 'G_mean_pr', 'G_avg','languages', 'num_langs', 'reference', 'n_mod', 'back_links', 'n_visits', 'length_lan']]\n",
    "fe_test = test[[ 'G_nodes', 'G_num_cliques', 'G_density', 'G_mean_pr','G_avg', 'languages', 'num_langs', 'reference', 'n_mod', 'back_links', 'n_visits', 'length_lan']]\n",
    "# String features\n",
    "fe_str_train = train[['category', 'subcategory', 'type']]\n",
    "fe_str_validation = validation[['category', 'subcategory', 'type']]\n",
    "fe_str_test = test[['category', 'subcategory', 'type']]"
   ]
  },
  {
   "cell_type": "code",
   "execution_count": 1206,
   "id": "2967e521",
   "metadata": {},
   "outputs": [
    {
     "name": "stdout",
     "output_type": "stream",
     "text": [
      "best features for train set {'num_langs', 'G_num_cliques', 'G_density', 'reference', 'back_links', 'length_lan', 'n_mod', 'G_mean_pr', 'n_visits', 'G_avg', 'G_nodes', 'languages'}\n",
      "best features for validation set  {'num_langs', 'G_num_cliques', 'reference', 'back_links', 'length_lan', 'n_mod', 'G_mean_pr', 'n_visits', 'G_nodes', 'languages'}\n",
      "Absolute best features {'num_langs', 'reference', 'G_num_cliques', 'back_links', 'length_lan', 'n_mod', 'G_mean_pr', 'n_visits', 'G_nodes', 'languages'}\n"
     ]
    }
   ],
   "source": [
    "from sklearn.feature_selection import SelectKBest\n",
    "best_feactures_tr = set (SelectFdr(chi2, alpha=0.06).fit(fe_train, y_train).get_feature_names_out())\n",
    "best_features_te  = set (SelectFdr(chi2, alpha=0.06).fit(fe_validation, y_validation).get_feature_names_out())\n",
    "\n",
    "best_fe = best_feactures_tr.intersection(best_features_te)\n",
    "print(f'best features for train set {best_feactures_tr}')\n",
    "print(f'best features for validation set  {best_features_te}')\n",
    "\n",
    "print(f'Absolute best features {best_fe}')\n",
    "\n",
    "# Select 'absolute' best features\n",
    "fe_train = train[list(best_fe)]\n",
    "fe_validation = validation[list(best_fe)]\n",
    "fe_test = test[list(best_fe)]"
   ]
  },
  {
   "cell_type": "code",
   "execution_count": 1207,
   "id": "848b1d56",
   "metadata": {},
   "outputs": [],
   "source": [
    "#######################################\n",
    "# One-hot-encoding on string features #\n",
    "#######################################\n",
    "from sklearn.decomposition import PCA\n",
    "cat, _, _ = onehot_encode([fe_str_train, fe_str_validation, fe_str_test], ['category'])\n",
    "train_cat, validation_cat, test_cat =  cat\n",
    "\n",
    "scat, _, _ = onehot_encode([fe_str_train, fe_str_validation, fe_str_test], ['subcategory'])\n",
    "train_scat, validation_scat, test_scat = scat\n",
    "\n",
    "t, _, _ = onehot_encode([fe_str_train, fe_str_validation, fe_str_test], ['type'] )\n",
    "train_t, validation_t, test_t = t\n",
    "\n"
   ]
  },
  {
   "cell_type": "code",
   "execution_count": 1208,
   "id": "eb7c32db",
   "metadata": {},
   "outputs": [],
   "source": [
    "train_set = pd.concat([fe_train, train_cat, train_scat, train_t, y_train], axis=1)\n",
    "validation_set = pd.concat([fe_validation, validation_cat, validation_scat, validation_t, y_validation], axis=1) \n",
    "test_set = pd.concat([fe_test, test_cat, test_scat, test_t], axis=1) "
   ]
  },
  {
   "cell_type": "code",
   "execution_count": 1209,
   "id": "58a46a44",
   "metadata": {},
   "outputs": [
    {
     "name": "stdout",
     "output_type": "stream",
     "text": [
      "<class 'pandas.core.frame.DataFrame'>\n",
      "RangeIndex: 300 entries, 0 to 299\n",
      "Columns: 156 entries, num_langs to type_named entity\n",
      "dtypes: float64(156)\n",
      "memory usage: 365.8 KB\n"
     ]
    }
   ],
   "source": [
    "test_set.info()"
   ]
  },
  {
   "cell_type": "code",
   "execution_count": 1210,
   "id": "440df78d",
   "metadata": {},
   "outputs": [
    {
     "name": "stdout",
     "output_type": "stream",
     "text": [
      "<class 'pandas.core.frame.DataFrame'>\n",
      "RangeIndex: 6251 entries, 0 to 6250\n",
      "Columns: 157 entries, num_langs to label\n",
      "dtypes: float64(156), int64(1)\n",
      "memory usage: 7.5 MB\n",
      "None\n"
     ]
    }
   ],
   "source": [
    "print(train_set.info())"
   ]
  },
  {
   "cell_type": "code",
   "execution_count": 1211,
   "id": "89f4f3a8",
   "metadata": {},
   "outputs": [
    {
     "name": "stdout",
     "output_type": "stream",
     "text": [
      "<class 'pandas.core.frame.DataFrame'>\n",
      "RangeIndex: 300 entries, 0 to 299\n",
      "Columns: 157 entries, num_langs to label\n",
      "dtypes: float64(156), int64(1)\n",
      "memory usage: 368.1 KB\n"
     ]
    }
   ],
   "source": [
    "validation_set.info()"
   ]
  },
  {
   "cell_type": "markdown",
   "id": "a2c0b35a",
   "metadata": {},
   "source": [
    "## Network - Preliminar Experiments\n",
    "\n",
    "In this section we tolking about proposed ML approach"
   ]
  },
  {
   "cell_type": "markdown",
   "id": "0e44b664",
   "metadata": {},
   "source": [
    "### Agnostic-Representative Classifier"
   ]
  },
  {
   "cell_type": "code",
   "execution_count": 1212,
   "id": "6ef6582a",
   "metadata": {},
   "outputs": [],
   "source": [
    "# prepare the dataset in order to take only two classes and eliminates the labels of the elements\n",
    "d = train_set.query(\"label == 0 or label == 1\")\n",
    "y = d['label'].astype(int).to_numpy()\n",
    "x = d.drop(['label'], axis=1).astype(float).to_numpy()"
   ]
  },
  {
   "cell_type": "code",
   "execution_count": 1213,
   "id": "8c23aa41",
   "metadata": {},
   "outputs": [],
   "source": [
    "ar_tree = ExtraTreesClassifier().fit(x, y)"
   ]
  },
  {
   "cell_type": "code",
   "execution_count": 1214,
   "id": "2c92b575",
   "metadata": {},
   "outputs": [],
   "source": [
    "d = validation_set.query(\"label == 0 or label == 1\")\n",
    "y = d['label'].astype(int).to_numpy()\n",
    "x = d.drop(['label'], axis=1).astype(float).to_numpy()"
   ]
  },
  {
   "cell_type": "code",
   "execution_count": 1215,
   "id": "edeccb8b",
   "metadata": {},
   "outputs": [
    {
     "name": "stdout",
     "output_type": "stream",
     "text": [
      "              precision    recall  f1-score   support\n",
      "\n",
      "           0       0.89      0.91      0.90       117\n",
      "           1       0.86      0.83      0.85        76\n",
      "\n",
      "    accuracy                           0.88       193\n",
      "   macro avg       0.88      0.87      0.87       193\n",
      "weighted avg       0.88      0.88      0.88       193\n",
      "\n"
     ]
    }
   ],
   "source": [
    "y_pred = ar_tree.predict(x)\n",
    "print(classification_report(y, y_pred))"
   ]
  },
  {
   "cell_type": "markdown",
   "id": "db137e02",
   "metadata": {},
   "source": [
    "### Agnostic-Exclusive Classifier"
   ]
  },
  {
   "cell_type": "code",
   "execution_count": 1216,
   "id": "23f4b0c2",
   "metadata": {},
   "outputs": [],
   "source": [
    "# prepare the dataset in order to take only two classes and eliminates the labels of the elements\n",
    "d = train_set.query(\"label == 0 or label == 2\")\n",
    "y = d['label'].astype(int).to_numpy()\n",
    "x = d.drop(['label'], axis=1).astype(float).to_numpy()"
   ]
  },
  {
   "cell_type": "code",
   "execution_count": 1217,
   "id": "f4f024d5",
   "metadata": {},
   "outputs": [],
   "source": [
    "ae_tree = ExtraTreesClassifier().fit(x, y)"
   ]
  },
  {
   "cell_type": "code",
   "execution_count": 1218,
   "id": "c407e485",
   "metadata": {},
   "outputs": [],
   "source": [
    "d = validation_set.query(\"label == 0 or label == 2\")\n",
    "y = d['label'].astype(int).to_numpy()\n",
    "x = d.drop(['label'], axis=1).astype(float).to_numpy()"
   ]
  },
  {
   "cell_type": "code",
   "execution_count": 1219,
   "id": "9df4318f",
   "metadata": {},
   "outputs": [
    {
     "name": "stdout",
     "output_type": "stream",
     "text": [
      "              precision    recall  f1-score   support\n",
      "\n",
      "           0       0.78      0.86      0.82       117\n",
      "           2       0.83      0.73      0.78       107\n",
      "\n",
      "    accuracy                           0.80       224\n",
      "   macro avg       0.80      0.80      0.80       224\n",
      "weighted avg       0.80      0.80      0.80       224\n",
      "\n"
     ]
    }
   ],
   "source": [
    "y_pred = ae_tree.predict(x)\n",
    "print(classification_report(y, y_pred))"
   ]
  },
  {
   "cell_type": "markdown",
   "id": "e660edf4",
   "metadata": {},
   "source": [
    "### Representative-Exclusive Classifier"
   ]
  },
  {
   "cell_type": "code",
   "execution_count": 1220,
   "id": "6574aa69",
   "metadata": {},
   "outputs": [],
   "source": [
    "# prepare the dataset in order to take only two classes and eliminates the labels of the elements\n",
    "d = train_set.query(\"label == 1 or label == 2\")\n",
    "y = d['label'].astype(int).to_numpy()\n",
    "x = d.drop(['label'], axis=1).astype(float).to_numpy()"
   ]
  },
  {
   "cell_type": "code",
   "execution_count": 1221,
   "id": "04dbb492",
   "metadata": {},
   "outputs": [],
   "source": [
    "re_tree = ExtraTreesClassifier().fit(x, y)"
   ]
  },
  {
   "cell_type": "code",
   "execution_count": 1222,
   "id": "4b6f229e",
   "metadata": {},
   "outputs": [],
   "source": [
    "d = validation_set.query(\"label == 1 or label == 2\")\n",
    "y = d['label'].astype(int).to_numpy()\n",
    "x = d.drop(['label'], axis=1).astype(float).to_numpy()"
   ]
  },
  {
   "cell_type": "code",
   "execution_count": 1223,
   "id": "204616b9",
   "metadata": {},
   "outputs": [
    {
     "name": "stdout",
     "output_type": "stream",
     "text": [
      "              precision    recall  f1-score   support\n",
      "\n",
      "           1       0.68      0.76      0.72        76\n",
      "           2       0.82      0.75      0.78       107\n",
      "\n",
      "    accuracy                           0.75       183\n",
      "   macro avg       0.75      0.76      0.75       183\n",
      "weighted avg       0.76      0.75      0.76       183\n",
      "\n"
     ]
    }
   ],
   "source": [
    "y_pred = re_tree.predict(x)\n",
    "print(classification_report(y, y_pred))"
   ]
  },
  {
   "cell_type": "markdown",
   "id": "5255d629",
   "metadata": {},
   "source": [
    "## Network - CABNet *(Cultural Advanced Binary Network)*\n",
    "\n",
    "Follow propose projected Network based on Basic ml approchs for classificarion tasck\n"
   ]
  },
  {
   "cell_type": "code",
   "execution_count": 1224,
   "id": "af9e6aad",
   "metadata": {},
   "outputs": [],
   "source": [
    "class CABNet(BaseEstimator, ClassifierMixin):\n",
    "    \"\"\"\n",
    "    Cultural-Classification Network:\n",
    "      - ar: classifier for classes {Cultural Agnostic, Cultural Rappresentative} \n",
    "      - ae: classifier for classes {Cultural Agnostic, Cultural Exsclusive}\n",
    "      - re: classifier for classes {Cultural Rappresentative, Cultural Exsclusive}\n",
    "      - detector: optional unsupervised estimator to filter outliers\n",
    "    \n",
    "    The CABNet combine multiple binary estimators trained in discriminative and voting schema to produce accurate cultural\n",
    "    prediction. To improve Accuracy of network is possibile use outliers detector, if neet, to detect and then remove outliers values\n",
    "    during the train.\n",
    "\n",
    "    Note:\n",
    "        The network can be integrate in Sklearn Pipline grate to sklearn-like interface\n",
    "\n",
    "    \"\"\"\n",
    "    def __init__(self,\n",
    "                 ar_estimator,\n",
    "                 ae_estimator,\n",
    "                 re_estimator,\n",
    "                 th=0.45,\n",
    "                 th_ar=0,\n",
    "                 th_ae=-0.6,\n",
    "                 th_re=0,\n",
    "                 detector=None) -> None:\n",
    "        # Store base estimators for hyperparameter tuning\n",
    "        self.ar_estimator = ar_estimator\n",
    "        self.ae_estimator = ae_estimator\n",
    "        self.re_estimator = re_estimator\n",
    "        self.global_estimator = ExtraTreesClassifier()\n",
    "        self.th = th\n",
    "        self.th_ar = th_ar\n",
    "        self.th_ae = th_ae\n",
    "        self.th_re = th_re\n",
    "        self.detector = detector\n",
    "        \n",
    "        # Label maps\n",
    "        self._label_map = {\n",
    "            'ar': {0, 1},\n",
    "            'ae': {0, 2},\n",
    "            're': {1, 2}\n",
    "        }\n",
    "\n",
    "    def _fit_binary(self, estimator, X, y):\n",
    "        return estimator.fit(X, y)\n",
    "        \n",
    "\n",
    "    def fit(self, X, y):\n",
    "        \"\"\"\n",
    "        Fit CABNet on feature matrix X (array-like, shape (n_samples, n_features))\n",
    "        and labels y (array-like, shape (n_samples,)).\n",
    "        \"\"\"\n",
    "        X_arr = np.asarray(X, dtype=float)\n",
    "        y_arr = np.asarray(y, dtype=int)\n",
    "\n",
    "        # Optional outlier removal via detector\n",
    "        if self.detector is not None:\n",
    "            mask_inliers = self.detector.fit_predict(X_arr) == 1\n",
    "            X_in = X_arr[mask_inliers]\n",
    "            y_in = y_arr[mask_inliers]\n",
    "        else:\n",
    "            X_in = X_arr\n",
    "            y_in = y_arr\n",
    "\n",
    "\n",
    "        # global 3 class estimator\n",
    "        \n",
    "        X_ar, y_ar = X_in, y_in\n",
    "        self.global_estimator = self._fit_binary(self.global_estimator, X_ar, y_ar)\n",
    "\n",
    "        # Train ar: classes 0 vs 1\n",
    "        mask_ar = np.isin(y_in, list(self._label_map['ar']))\n",
    "        X_ar, y_ar = X_in[mask_ar], y_in[mask_ar]\n",
    "        self.ar_estimator = self._fit_binary(self.ar_estimator, X_ar, y_ar)\n",
    "\n",
    "        # Train ae: classes 0 vs 2\n",
    "        mask_ae = np.isin(y_in, list(self._label_map['ae']))\n",
    "        X_ae, y_ae = X_in[mask_ae], y_in[mask_ae]\n",
    "        self.ae_estimator = self._fit_binary(self.ae_estimator, X_ae, y_ae)\n",
    "\n",
    "        # Train re: classes 1 vs 2\n",
    "        mask_re = np.isin(y_in, list(self._label_map['re']))\n",
    "        X_re, y_re = X_in[mask_re], y_in[mask_re]\n",
    "        self.re_estimator = self._fit_binary(self.re_estimator, X_re, y_re)\n",
    "\n",
    "        return self\n",
    "\n",
    "    def predict(self, X):\n",
    "        \"\"\"\n",
    "        Predict class labels for samples in X.\n",
    "        \"\"\"\n",
    "\n",
    "        threshold = self.th\n",
    "        X_arr = np.asarray(X, dtype=float)\n",
    "        # Individual predictions\n",
    "        v1 = self.ar_estimator.predict(X_arr)\n",
    "        v2 = self.ae_estimator.predict(X_arr)\n",
    "        v3 = self.re_estimator.predict(X_arr)\n",
    "        v4 = self.global_estimator.predict(X_arr)\n",
    "\n",
    "        p1 = self.ar_estimator.predict_proba(X_arr)\n",
    "        p2 = self.ae_estimator.predict_proba(X_arr)\n",
    "        p3 = self.re_estimator.predict_proba(X_arr)\n",
    "        p4 = self.global_estimator.predict_proba(X_arr)\n",
    "\n",
    "        \n",
    "        n = X_arr.shape[0]\n",
    "        final_votes = np.empty(n, dtype=v1.dtype)\n",
    "\n",
    "        for i in range(n):\n",
    "            # raccogli i voti “sicuri”\n",
    "            votes_safe = []\n",
    "            if p1[i].max() >= threshold + self.th_ar:\n",
    "                votes_safe.append(v1[i])\n",
    "            if p2[i].max() >= threshold + self.th_ae:\n",
    "                votes_safe.append(v2[i]) \n",
    "            if p3[i].max() >= threshold + self.th_re:\n",
    "                votes_safe.append(v3[i])\n",
    "            \n",
    "            if votes_safe:\n",
    "                # maggioranza fra i voti sicuri\n",
    "                maj, _ = mode(votes_safe, keepdims=False)\n",
    "                final_votes[i] = maj\n",
    "            else:\n",
    "                probs = [p1[i].max(), p2[i].max(), p3[i].max(), p4[i].max()]\n",
    "                votes = [v1[i],    v2[i],    v3[i],    v4[i]]\n",
    "                best_idx = int(np.argmax(probs))\n",
    "                final_votes[i] = votes[best_idx]\n",
    "    \n",
    "        return final_votes\n"
   ]
  },
  {
   "cell_type": "markdown",
   "id": "65168db5",
   "metadata": {},
   "source": [
    "### Randomize hyper-parameter tunning"
   ]
  },
  {
   "cell_type": "code",
   "execution_count": 1225,
   "id": "dee6b5af",
   "metadata": {},
   "outputs": [],
   "source": [
    "##########################\n",
    "# May require many hours #\n",
    "##########################\n",
    "from scipy.stats import randint, uniform\n",
    "param_dist = {\n",
    "    # interi da 50 a 150\n",
    "    'ar_estimator__n_estimators': randint(50, 151),\n",
    "    'ae_estimator__n_estimators': randint(50, 151),\n",
    "    're_estimator__n_estimators': randint(50, 151),\n",
    "    # profondità discrete, manteniamo la lista\n",
    "    'ar_estimator__max_depth':    [None, 10],\n",
    "    'ae_estimator__max_depth':    [None, 10],\n",
    "    're_estimator__max_depth':    [None, 10],\n",
    "    # soglie campionate tra 0.4 e 0.9\n",
    "    'th':    uniform(loc=0.4, scale=0.5),       # [0.4, 0.9)\n",
    "    'th_ar': uniform(loc=-0.05, scale=0.10),    # [-0.05, +0.05)\n",
    "    'th_ae': uniform(loc=-0.05, scale=0.10),\n",
    "    'th_re': uniform(loc=-0.05, scale=0.10),\n",
    "}\n",
    "\n",
    "# 2) Modello di base\n",
    "base_model = CABNet(\n",
    "    ar_estimator=ExtraTreesClassifier(random_state=42),\n",
    "    ae_estimator=ExtraTreesClassifier(random_state=42),\n",
    "    re_estimator=ExtraTreesClassifier(random_state=42),\n",
    "    detector=LocalOutlierFactor()\n",
    ")\n",
    "\n",
    "# 3) Impostazione RandomizedSearchCV\n",
    "rand_search = RandomizedSearchCV(\n",
    "    estimator=base_model,\n",
    "    param_distributions=param_dist,\n",
    "    n_iter=10,           # numero di campionamenti casuali\n",
    "    scoring='accuracy',\n",
    "    cv=5,\n",
    "    verbose=1,\n",
    "    random_state=42,\n",
    "    n_jobs=-1\n",
    ")\n",
    "\n"
   ]
  },
  {
   "cell_type": "code",
   "execution_count": 1226,
   "id": "8a43165a",
   "metadata": {},
   "outputs": [],
   "source": [
    "d = train_set\n",
    "y = d['label'].astype(int)\n",
    "x = d.drop(['label'], axis=1).astype(float)\n",
    "\n",
    "##############################\n",
    "# For exaustive Gride Search #\n",
    "##############################\n",
    "# 4) Avvio della ricerca\n",
    "#rand_search.fit(x, y)\n",
    "\n",
    "# 5) Risultati migliori\n",
    "#print(\"Best CV score :\", rand_search.best_score_)\n",
    "#print(\"Best params   :\", rand_search.best_params_)"
   ]
  },
  {
   "cell_type": "code",
   "execution_count": 1227,
   "id": "0b3358e3",
   "metadata": {},
   "outputs": [],
   "source": [
    "\n",
    "from sklearn.ensemble import RandomForestClassifier, AdaBoostClassifier\n",
    "from sklearn.neural_network import MLPClassifier\n",
    "model =  CABNet(\n",
    "    AdaBoostClassifier(estimator=ExtraTreesClassifier(n_estimators=110)), \n",
    "    AdaBoostClassifier(estimator=ExtraTreesClassifier(n_estimators=130)), \n",
    "    AdaBoostClassifier(estimator=ExtraTreesClassifier(n_estimators=130)), th=0.60,th_ae=0.0, th_ar=0.00, th_re=0.00, detector=LocalOutlierFactor())"
   ]
  },
  {
   "cell_type": "code",
   "execution_count": 1228,
   "id": "bbafdaaa",
   "metadata": {},
   "outputs": [],
   "source": [
    "d = train_set\n",
    "y = d['label'].astype(int)\n",
    "x = d.drop(['label'], axis=1).astype(float)\n",
    "\n",
    "model = model.fit(x, y)"
   ]
  },
  {
   "cell_type": "code",
   "execution_count": 1229,
   "id": "b22d643d",
   "metadata": {},
   "outputs": [
    {
     "name": "stdout",
     "output_type": "stream",
     "text": [
      "              precision    recall  f1-score   support\n",
      "\n",
      "           0       0.73      0.86      0.79       117\n",
      "           1       0.70      0.67      0.68        76\n",
      "           2       0.73      0.61      0.66       107\n",
      "\n",
      "    accuracy                           0.72       300\n",
      "   macro avg       0.72      0.71      0.71       300\n",
      "weighted avg       0.72      0.72      0.72       300\n",
      "\n"
     ]
    }
   ],
   "source": [
    "d = validation_set\n",
    "y = d['label'].astype(int).to_numpy()\n",
    "x = d.drop(['label'], axis=1).astype(float).to_numpy()\n",
    "\n",
    "y_pred = model.predict(x)\n",
    "print(classification_report(y, y_pred))"
   ]
  },
  {
   "cell_type": "code",
   "execution_count": 1230,
   "id": "2b46bdc0",
   "metadata": {},
   "outputs": [
    {
     "data": {
      "image/png": "[encoded data removed]",
      "text/plain": [
       "<Figure size 640x480 with 2 Axes>"
      ]
     },
     "metadata": {},
     "output_type": "display_data"
    }
   ],
   "source": [
    "cm = confusion_matrix(y, y_pred)\n",
    "sns.heatmap(cm, annot=True, fmt='d')\n",
    "plt.xlabel('Predicted Label')\n",
    "plt.ylabel('Real Label')\n",
    "plt.title('Confusion Matrix')\n",
    "plt.show()"
   ]
  },
  {
   "cell_type": "markdown",
   "id": "a257dba6",
   "metadata": {},
   "source": [
    "## Test Section \n",
    "\n",
    "This section is reserved for testing and evaluation purposes. The result of this section is annotate the validation test set"
   ]
  },
  {
   "cell_type": "code",
   "execution_count": 1231,
   "id": "39b3999c",
   "metadata": {},
   "outputs": [],
   "source": [
    "x = test_set\n",
    "y_pred = model.predict(x)"
   ]
  },
  {
   "cell_type": "code",
   "execution_count": 1232,
   "id": "6d17a6ef",
   "metadata": {},
   "outputs": [],
   "source": [
    "# Annotate the results\n",
    "test = pd.read_csv('test_unlabeled.csv', sep=',')\n",
    "test.insert(len(test.columns), 'label', y_pred)\n",
    "test.to_csv('Many_Naps_Little_Progress_modello1.csv', sep=',')"
   ]
  }
 ],
 "metadata": {
  "kernelspec": {
   "display_name": "MNLP",
   "language": "python",
   "name": "python3"
  },
  "language_info": {
   "codemirror_mode": {
    "name": "ipython",
    "version": 3
   },
   "file_extension": ".py",
   "mimetype": "text/x-python",
   "name": "python",
   "nbconvert_exporter": "python",
   "pygments_lexer": "ipython3",
   "version": "3.13.2"
  }
 },
 "nbformat": 4,
 "nbformat_minor": 5
}
