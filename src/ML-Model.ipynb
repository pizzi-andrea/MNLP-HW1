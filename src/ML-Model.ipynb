{
 "cells": [
  {
   "cell_type": "markdown",
   "id": "c5df55e1",
   "metadata": {},
   "source": [
    "## The CrossTree\n",
    "\n",
    "Voting Schema with multiple binary classification trees. The network implements a voting scheme based on three different trees:\n",
    "\n",
    "* Cultural **Agnostic-Rappresentative** tree\n",
    "* Cultural **Agnostic-Exclusive** tree\n",
    "* Cultural **Exclusive-Rappresentative** tree\n",
    "\n",
    "the most voted class will be the predicted class.\n",
    "\n",
    "### Training Phase\n",
    "\n",
    "The training process is quite standard and straight-forward: given the n G_features we want to directly predict the associated class.\n",
    "\n",
    "### Employment Phase\n",
    "\n",
    "The training model will be inserted in a wider model called X and utilized as a function for the computation of the G_Factor"
   ]
  },
  {
   "cell_type": "markdown",
   "id": "e4b724d1",
   "metadata": {},
   "source": [
    "## Dataset\n",
    "\n",
    "Load the dataset"
   ]
  },
  {
   "cell_type": "code",
   "execution_count": null,
   "id": "afebd71f",
   "metadata": {},
   "outputs": [],
   "source": [
    "import pandas as pd\n",
    "import numpy as np\n",
    "from sklearn.preprocessing import OneHotEncoder\n",
    "from CU_Dataset_Factory import Hf_Loader, CU_Dataset_Factory\n",
    "\n",
    "def onehot_encode(\n",
    "    df_train: pd.DataFrame,\n",
    "    df_test: pd.DataFrame,\n",
    "    cat_cols: list[str]|None = None,\n",
    "    num_cols: list[str]|None = None,\n",
    "    sparse: bool = False\n",
    ") -> tuple[pd.DataFrame, pd.DataFrame, OneHotEncoder]:\n",
    "    \n",
    "    \"\"\"\n",
    "    Applies One-Hot Encoding to df_train and df_test guaranteeing the same\n",
    "    set of columns, even if train is missing categories who are in the test set.\n",
    "\n",
    "    Parameters\n",
    "    ----------\n",
    "    df_train : pd.DataFrame\n",
    "        Training DataFrame.\n",
    "    df_test : pd.DataFrame\n",
    "        Testing DataFrame.\n",
    "    cat_cols : list[str], optional\n",
    "        List of categorical columns to encode.\n",
    "        If None, all columns of type 'object' are taken.\n",
    "    num_cols : list[str], optional\n",
    "        List of numerical (or non-categorical) columns to preserve.\n",
    "        If None, all columns not in cat_cols are taken. \n",
    "    handle_unknown : str, default=\"ignore\"\n",
    "        Beahavior on unknown values in test (typically \"ignore\").\n",
    "    sparse : bool, default=False\n",
    "        If True, returns sparse matrix, otherwise dense.\n",
    "\n",
    "    Returns\n",
    "    -------\n",
    "    df_train_enc : pd.DataFrame\n",
    "        Training DataFrame with One-Hot Encoding + original num_cols.\n",
    "    df_test_enc : pd.DataFrame\n",
    "        Testing DataFrame with One-Hot Encoding + original num_cols.\n",
    "    encoder : OneHotEncoder\n",
    "        The fitted OneHotEncoder object, useful for future transform.\n",
    "    \"\"\"\n",
    "    \n",
    "    # 1) Identify category and numerical columns (if not given)\n",
    "    if cat_cols is None:\n",
    "        cat_cols = df_train.select_dtypes(include=\"object\").columns.tolist()\n",
    "    if num_cols is None:\n",
    "        num_cols = [c for c in df_train.columns if c not in cat_cols]\n",
    "\n",
    "    # 2) Fit encoder on all category data (train + test)\n",
    "    all_cats = pd.concat([df_train[cat_cols], df_test[cat_cols]], \n",
    "                         axis=0, ignore_index=True)\n",
    "    encoder = OneHotEncoder(\n",
    "        sparse_output=sparse\n",
    "    ).fit(all_cats)\n",
    "\n",
    "    # 3) Transform separatly train and test\n",
    "    X_train_ohe = encoder.transform(df_train[cat_cols])\n",
    "    X_test_ohe  = encoder.transform(df_test[cat_cols])\n",
    "\n",
    "    # 4) Name the new columns\n",
    "    ohe_cols = encoder.get_feature_names_out(cat_cols).tolist()\n",
    "\n",
    "    # 5) Compose the final DataFrames\n",
    "    df_train_enc = pd.DataFrame(\n",
    "        np.hstack([X_train_ohe.toarray() if sparse else X_train_ohe,\n",
    "                   df_train[num_cols].values]), # type: ignore\n",
    "        columns=ohe_cols + num_cols,\n",
    "        index=df_train.index\n",
    "    )\n",
    "    df_test_enc = pd.DataFrame(\n",
    "        np.hstack([X_test_ohe.toarray() if sparse else X_test_ohe,\n",
    "                   df_test[num_cols].values]),\n",
    "        columns=ohe_cols + num_cols,\n",
    "        index=df_test.index\n",
    "    )\n",
    "\n",
    "    return df_train_enc[ohe_cols], df_test_enc[ohe_cols], encoder\n"
   ]
  },
  {
   "cell_type": "markdown",
   "id": "c5133b41",
   "metadata": {},
   "source": [
    "## Produce the Dataset"
   ]
  },
  {
   "cell_type": "code",
   "execution_count": 408,
   "id": "b75c3161",
   "metadata": {},
   "outputs": [
    {
     "name": "stdout",
     "output_type": "stream",
     "text": [
      "Cultural Dataset argumentation start\n"
     ]
    },
    {
     "name": "stderr",
     "output_type": "stream",
     "text": [
      " 68%|██████▊   | 86/126 [00:02<00:01, 38.08it/s] \n"
     ]
    },
    {
     "ename": "KeyboardInterrupt",
     "evalue": "",
     "output_type": "error",
     "traceback": [
      "\u001b[31m---------------------------------------------------------------------------\u001b[39m",
      "\u001b[31mKeyboardInterrupt\u001b[39m                         Traceback (most recent call last)",
      "\u001b[36mCell\u001b[39m\u001b[36m \u001b[39m\u001b[32mIn[408]\u001b[39m\u001b[32m, line 6\u001b[39m\n\u001b[32m      3\u001b[39m train_l = Hf_Loader(\u001b[33m\"\u001b[39m\u001b[33msapienzanlp/nlp2025_hw1_cultural_dataset\u001b[39m\u001b[33m\"\u001b[39m, \u001b[33m'\u001b[39m\u001b[33mtrain\u001b[39m\u001b[33m'\u001b[39m)\n\u001b[32m      4\u001b[39m validation_l = Hf_Loader(\u001b[33m\"\u001b[39m\u001b[33msapienzanlp/nlp2025_hw1_cultural_dataset\u001b[39m\u001b[33m\"\u001b[39m, \u001b[33m'\u001b[39m\u001b[33mvalidation\u001b[39m\u001b[33m'\u001b[39m)\n\u001b[32m----> \u001b[39m\u001b[32m6\u001b[39m \u001b[43mfactory\u001b[49m\u001b[43m.\u001b[49m\u001b[43mproduce\u001b[49m\u001b[43m(\u001b[49m\u001b[43mtrain_l\u001b[49m\u001b[43m,\u001b[49m\u001b[43m \u001b[49m\u001b[33;43m'\u001b[39;49m\u001b[33;43mtrain.tsv\u001b[39;49m\u001b[33;43m'\u001b[39;49m\u001b[43m,\u001b[49m\u001b[43m \u001b[49m\u001b[43m[\u001b[49m\u001b[33;43m'\u001b[39;49m\u001b[33;43mcategory\u001b[39;49m\u001b[33;43m'\u001b[39;49m\u001b[43m,\u001b[49m\u001b[43m \u001b[49m\u001b[33;43m'\u001b[39;49m\u001b[33;43msubcategory\u001b[39;49m\u001b[33;43m'\u001b[39;49m\u001b[43m,\u001b[49m\u001b[33;43m'\u001b[39;49m\u001b[33;43mtype\u001b[39;49m\u001b[33;43m'\u001b[39;49m\u001b[43m,\u001b[49m\u001b[33;43m'\u001b[39;49m\u001b[33;43mlanguages\u001b[39;49m\u001b[33;43m'\u001b[39;49m\u001b[43m,\u001b[49m\u001b[33;43m'\u001b[39;49m\u001b[33;43mreference\u001b[39;49m\u001b[33;43m'\u001b[39;49m\u001b[43m,\u001b[49m\u001b[33;43m'\u001b[39;49m\u001b[33;43mnum_langs\u001b[39;49m\u001b[33;43m'\u001b[39;49m\u001b[43m,\u001b[49m\u001b[43m \u001b[49m\u001b[33;43m'\u001b[39;49m\u001b[33;43mambiguos\u001b[39;49m\u001b[33;43m'\u001b[39;49m\u001b[43m,\u001b[49m\u001b[43m \u001b[49m\u001b[33;43m'\u001b[39;49m\u001b[33;43mG\u001b[39;49m\u001b[33;43m'\u001b[39;49m\u001b[43m,\u001b[49m\u001b[43m \u001b[49m\u001b[33;43m'\u001b[39;49m\u001b[33;43mn_mod\u001b[39;49m\u001b[33;43m'\u001b[39;49m\u001b[43m,\u001b[49m\u001b[43m \u001b[49m\u001b[33;43m'\u001b[39;49m\u001b[33;43mback_links\u001b[39;49m\u001b[33;43m'\u001b[39;49m\u001b[43m]\u001b[49m\u001b[43m,\u001b[49m\u001b[43m \u001b[49m\u001b[33;43m'\u001b[39;49m\u001b[33;43mlabel\u001b[39;49m\u001b[33;43m'\u001b[39;49m\u001b[43m,\u001b[49m\u001b[43m \u001b[49m\u001b[32;43m16\u001b[39;49m\u001b[43m,\u001b[49m\u001b[43m \u001b[49m\u001b[38;5;28;43;01mFalse\u001b[39;49;00m\u001b[43m)\u001b[49m\n\u001b[32m      7\u001b[39m factory.produce(validation_l, \u001b[33m'\u001b[39m\u001b[33mvalidation.tsv\u001b[39m\u001b[33m'\u001b[39m, [\u001b[33m'\u001b[39m\u001b[33mcategory\u001b[39m\u001b[33m'\u001b[39m, \u001b[33m'\u001b[39m\u001b[33msubcategory\u001b[39m\u001b[33m'\u001b[39m,\u001b[33m'\u001b[39m\u001b[33mtype\u001b[39m\u001b[33m'\u001b[39m,\u001b[33m'\u001b[39m\u001b[33mlanguages\u001b[39m\u001b[33m'\u001b[39m,\u001b[33m'\u001b[39m\u001b[33mreference\u001b[39m\u001b[33m'\u001b[39m,\u001b[33m'\u001b[39m\u001b[33mnum_langs\u001b[39m\u001b[33m'\u001b[39m, \u001b[33m'\u001b[39m\u001b[33mambiguos\u001b[39m\u001b[33m'\u001b[39m, \u001b[33m'\u001b[39m\u001b[33mG\u001b[39m\u001b[33m'\u001b[39m, \u001b[33m'\u001b[39m\u001b[33mn_mod\u001b[39m\u001b[33m'\u001b[39m, \u001b[33m'\u001b[39m\u001b[33mback_links\u001b[39m\u001b[33m'\u001b[39m], \u001b[33m'\u001b[39m\u001b[33mlabel\u001b[39m\u001b[33m'\u001b[39m, \u001b[32m16\u001b[39m, \u001b[38;5;28;01mFalse\u001b[39;00m)\n\u001b[32m      8\u001b[39m \u001b[38;5;28mprint\u001b[39m(\u001b[33m'\u001b[39m\u001b[33mEnd process\u001b[39m\u001b[33m'\u001b[39m)\n",
      "\u001b[36mFile \u001b[39m\u001b[32m~/Documenti/MNLP-HW1/src/CU_Dataset_Factory.py:241\u001b[39m, in \u001b[36mCU_Dataset_Factory.produce\u001b[39m\u001b[34m(self, loader, out_file, enable_feature, targe_feature, batch_s, encoding)\u001b[39m\n\u001b[32m    238\u001b[39m     \u001b[38;5;28;01mreturn\u001b[39;00m \u001b[38;5;28;01mNone\u001b[39;00m\n\u001b[32m    240\u001b[39m dataset[\u001b[33m'\u001b[39m\u001b[33mqid\u001b[39m\u001b[33m'\u001b[39m] = dataset[\u001b[33m'\u001b[39m\u001b[33mitem\u001b[39m\u001b[33m'\u001b[39m].str.extract(\u001b[33mr\u001b[39m\u001b[33m'\u001b[39m\u001b[33m(Q\u001b[39m\u001b[33m\\\u001b[39m\u001b[33md+)\u001b[39m\u001b[33m'\u001b[39m, expand=\u001b[38;5;28;01mFalse\u001b[39;00m)\n\u001b[32m--> \u001b[39m\u001b[32m241\u001b[39m dataset[\u001b[33m'\u001b[39m\u001b[33mwiki_name\u001b[39m\u001b[33m'\u001b[39m] = dataset[\u001b[33m'\u001b[39m\u001b[33mqid\u001b[39m\u001b[33m'\u001b[39m].map(\u001b[38;5;28;43mself\u001b[39;49m\u001b[43m.\u001b[49m\u001b[43m__wiki_name\u001b[49m\u001b[43m(\u001b[49m\u001b[43mdataset\u001b[49m\u001b[43m[\u001b[49m\u001b[33;43m'\u001b[39;49m\u001b[33;43mqid\u001b[39;49m\u001b[33;43m'\u001b[39;49m\u001b[43m]\u001b[49m\u001b[43m.\u001b[49m\u001b[43mto_list\u001b[49m\u001b[43m(\u001b[49m\u001b[43m)\u001b[49m\u001b[43m)\u001b[49m).fillna(\u001b[32m0\u001b[39m)\n\u001b[32m    242\u001b[39m dataset = dataset.drop([\u001b[33m'\u001b[39m\u001b[33mitem\u001b[39m\u001b[33m'\u001b[39m, \u001b[33m'\u001b[39m\u001b[33mname\u001b[39m\u001b[33m'\u001b[39m], axis=\u001b[32m1\u001b[39m)\n\u001b[32m    243\u001b[39m \u001b[38;5;66;03m# Function that calls back __produce and returns the new dataset\u001b[39;00m\n",
      "\u001b[36mFile \u001b[39m\u001b[32m~/Documenti/MNLP-HW1/src/CU_Dataset_Factory.py:106\u001b[39m, in \u001b[36mCU_Dataset_Factory.__wiki_name\u001b[39m\u001b[34m(self, qids)\u001b[39m\n\u001b[32m    104\u001b[39m \u001b[38;5;28;01mfor\u001b[39;00m i \u001b[38;5;129;01min\u001b[39;00m tqdm(\u001b[38;5;28mrange\u001b[39m(\u001b[32m0\u001b[39m, \u001b[38;5;28mlen\u001b[39m(qids), batch_size)):\n\u001b[32m    105\u001b[39m     batch = qids[i:i + batch_size]\n\u001b[32m--> \u001b[39m\u001b[32m106\u001b[39m     qid_to_title.update(\u001b[43mfetch_batch\u001b[49m\u001b[43m(\u001b[49m\u001b[43mbatch\u001b[49m\u001b[43m,\u001b[49m\u001b[43m \u001b[49m\u001b[43mconn\u001b[49m\u001b[43m)\u001b[49m)\n\u001b[32m    107\u001b[39m \u001b[38;5;28;01mreturn\u001b[39;00m qid_to_title\n",
      "\u001b[36mFile \u001b[39m\u001b[32m~/Documenti/MNLP-HW1/src/CU_Dataset_Factory.py:93\u001b[39m, in \u001b[36mCU_Dataset_Factory.__wiki_name.<locals>.fetch_batch\u001b[39m\u001b[34m(qids_batch, conn)\u001b[39m\n\u001b[32m     81\u001b[39m \u001b[38;5;28;01mdef\u001b[39;00m\u001b[38;5;250m \u001b[39m\u001b[34mfetch_batch\u001b[39m(qids_batch: \u001b[38;5;28mlist\u001b[39m[\u001b[38;5;28mstr\u001b[39m], conn:Wiki_high_conn) -> \u001b[38;5;28mdict\u001b[39m[\u001b[38;5;28mstr\u001b[39m, \u001b[38;5;28mstr\u001b[39m]:\n\u001b[32m     82\u001b[39m \n\u001b[32m     83\u001b[39m     \u001b[38;5;66;03m# Parameters for Wikidata's API\u001b[39;00m\n\u001b[32m     85\u001b[39m     params = {\n\u001b[32m     86\u001b[39m         \u001b[33m'\u001b[39m\u001b[33maction\u001b[39m\u001b[33m'\u001b[39m: \u001b[33m'\u001b[39m\u001b[33mwbgetentities\u001b[39m\u001b[33m'\u001b[39m,\n\u001b[32m     87\u001b[39m         \u001b[33m'\u001b[39m\u001b[33msites\u001b[39m\u001b[33m'\u001b[39m: \u001b[33m'\u001b[39m\u001b[33mwikipedia\u001b[39m\u001b[33m'\u001b[39m,\n\u001b[32m   (...)\u001b[39m\u001b[32m     90\u001b[39m         \u001b[33m'\u001b[39m\u001b[33mutf8\u001b[39m\u001b[33m'\u001b[39m: \u001b[32m1\u001b[39m\n\u001b[32m     91\u001b[39m     }\n\u001b[32m---> \u001b[39m\u001b[32m93\u001b[39m     data = \u001b[43mconn\u001b[49m\u001b[43m.\u001b[49m\u001b[43mget_wikidata\u001b[49m\u001b[43m(\u001b[49m\u001b[43mqids_batch\u001b[49m\u001b[43m,\u001b[49m\u001b[43m \u001b[49m\u001b[43mparams\u001b[49m\u001b[43m)\u001b[49m.get(\u001b[33m'\u001b[39m\u001b[33mentities\u001b[39m\u001b[33m'\u001b[39m, {})\n\u001b[32m     94\u001b[39m     batch_map = {}\n\u001b[32m     95\u001b[39m     \u001b[38;5;28;01mfor\u001b[39;00m qid, entity \u001b[38;5;129;01min\u001b[39;00m data.items():\n",
      "\u001b[36mFile \u001b[39m\u001b[32m~/Documenti/MNLP-HW1/src/Connection.py:75\u001b[39m, in \u001b[36mWiki_high_conn.get_wikidata\u001b[39m\u001b[34m(self, queries, params)\u001b[39m\n\u001b[32m     73\u001b[39m params[\u001b[33m'\u001b[39m\u001b[33mids\u001b[39m\u001b[33m'\u001b[39m] = \u001b[33m'\u001b[39m\u001b[33m|\u001b[39m\u001b[33m'\u001b[39m.join(queries)\n\u001b[32m     74\u001b[39m \u001b[38;5;28;01mtry\u001b[39;00m:\n\u001b[32m---> \u001b[39m\u001b[32m75\u001b[39m     response = \u001b[38;5;28;43mself\u001b[39;49m\u001b[43m.\u001b[49m\u001b[43msession\u001b[49m\u001b[43m.\u001b[49m\u001b[43mget\u001b[49m\u001b[43m(\u001b[49m\u001b[43murl\u001b[49m\u001b[43m,\u001b[49m\u001b[43m \u001b[49m\u001b[43mparams\u001b[49m\u001b[43m=\u001b[49m\u001b[43mparams\u001b[49m\u001b[43m)\u001b[49m\n\u001b[32m     76\u001b[39m     data = response.json()\n\u001b[32m     77\u001b[39m     response.raise_for_status()\n",
      "\u001b[36mFile \u001b[39m\u001b[32m~/miniconda3/envs/MNLP/lib/python3.13/site-packages/requests_cache/session.py:127\u001b[39m, in \u001b[36mCacheMixin.get\u001b[39m\u001b[34m(self, url, params, **kwargs)\u001b[39m\n\u001b[32m    125\u001b[39m \u001b[38;5;28;01mdef\u001b[39;00m\u001b[38;5;250m \u001b[39m\u001b[34mget\u001b[39m(\u001b[38;5;28mself\u001b[39m, url: \u001b[38;5;28mstr\u001b[39m, params=\u001b[38;5;28;01mNone\u001b[39;00m, **kwargs) -> AnyResponse:  \u001b[38;5;66;03m# type: ignore\u001b[39;00m\n\u001b[32m    126\u001b[39m     kwargs.setdefault(\u001b[33m'\u001b[39m\u001b[33mallow_redirects\u001b[39m\u001b[33m'\u001b[39m, \u001b[38;5;28;01mTrue\u001b[39;00m)\n\u001b[32m--> \u001b[39m\u001b[32m127\u001b[39m     \u001b[38;5;28;01mreturn\u001b[39;00m \u001b[38;5;28;43mself\u001b[39;49m\u001b[43m.\u001b[49m\u001b[43mrequest\u001b[49m\u001b[43m(\u001b[49m\u001b[33;43m'\u001b[39;49m\u001b[33;43mGET\u001b[39;49m\u001b[33;43m'\u001b[39;49m\u001b[43m,\u001b[49m\u001b[43m \u001b[49m\u001b[43murl\u001b[49m\u001b[43m,\u001b[49m\u001b[43m \u001b[49m\u001b[43mparams\u001b[49m\u001b[43m=\u001b[49m\u001b[43mparams\u001b[49m\u001b[43m,\u001b[49m\u001b[43m \u001b[49m\u001b[43m*\u001b[49m\u001b[43m*\u001b[49m\u001b[43mkwargs\u001b[49m\u001b[43m)\u001b[49m\n",
      "\u001b[36mFile \u001b[39m\u001b[32m~/miniconda3/envs/MNLP/lib/python3.13/site-packages/requests_cache/session.py:183\u001b[39m, in \u001b[36mCacheMixin.request\u001b[39m\u001b[34m(self, method, url, headers, expire_after, only_if_cached, refresh, force_refresh, *args, **kwargs)\u001b[39m\n\u001b[32m    181\u001b[39m headers = set_request_headers(headers, expire_after, only_if_cached, refresh, force_refresh)\n\u001b[32m    182\u001b[39m \u001b[38;5;28;01mwith\u001b[39;00m patch_form_boundary() \u001b[38;5;28;01mif\u001b[39;00m kwargs.get(\u001b[33m'\u001b[39m\u001b[33mfiles\u001b[39m\u001b[33m'\u001b[39m) \u001b[38;5;28;01melse\u001b[39;00m nullcontext():\n\u001b[32m--> \u001b[39m\u001b[32m183\u001b[39m     \u001b[38;5;28;01mreturn\u001b[39;00m \u001b[38;5;28;43msuper\u001b[39;49m\u001b[43m(\u001b[49m\u001b[43m)\u001b[49m\u001b[43m.\u001b[49m\u001b[43mrequest\u001b[49m\u001b[43m(\u001b[49m\u001b[43mmethod\u001b[49m\u001b[43m,\u001b[49m\u001b[43m \u001b[49m\u001b[43murl\u001b[49m\u001b[43m,\u001b[49m\u001b[43m \u001b[49m\u001b[43m*\u001b[49m\u001b[43margs\u001b[49m\u001b[43m,\u001b[49m\u001b[43m \u001b[49m\u001b[43mheaders\u001b[49m\u001b[43m=\u001b[49m\u001b[43mheaders\u001b[49m\u001b[43m,\u001b[49m\u001b[43m \u001b[49m\u001b[43m*\u001b[49m\u001b[43m*\u001b[49m\u001b[43mkwargs\u001b[49m\u001b[43m)\u001b[49m\n",
      "\u001b[36mFile \u001b[39m\u001b[32m~/miniconda3/envs/MNLP/lib/python3.13/site-packages/requests/sessions.py:589\u001b[39m, in \u001b[36mSession.request\u001b[39m\u001b[34m(self, method, url, params, data, headers, cookies, files, auth, timeout, allow_redirects, proxies, hooks, stream, verify, cert, json)\u001b[39m\n\u001b[32m    584\u001b[39m send_kwargs = {\n\u001b[32m    585\u001b[39m     \u001b[33m\"\u001b[39m\u001b[33mtimeout\u001b[39m\u001b[33m\"\u001b[39m: timeout,\n\u001b[32m    586\u001b[39m     \u001b[33m\"\u001b[39m\u001b[33mallow_redirects\u001b[39m\u001b[33m\"\u001b[39m: allow_redirects,\n\u001b[32m    587\u001b[39m }\n\u001b[32m    588\u001b[39m send_kwargs.update(settings)\n\u001b[32m--> \u001b[39m\u001b[32m589\u001b[39m resp = \u001b[38;5;28;43mself\u001b[39;49m\u001b[43m.\u001b[49m\u001b[43msend\u001b[49m\u001b[43m(\u001b[49m\u001b[43mprep\u001b[49m\u001b[43m,\u001b[49m\u001b[43m \u001b[49m\u001b[43m*\u001b[49m\u001b[43m*\u001b[49m\u001b[43msend_kwargs\u001b[49m\u001b[43m)\u001b[49m\n\u001b[32m    591\u001b[39m \u001b[38;5;28;01mreturn\u001b[39;00m resp\n",
      "\u001b[36mFile \u001b[39m\u001b[32m~/miniconda3/envs/MNLP/lib/python3.13/site-packages/requests_cache/session.py:230\u001b[39m, in \u001b[36mCacheMixin.send\u001b[39m\u001b[34m(self, request, expire_after, only_if_cached, refresh, force_refresh, **kwargs)\u001b[39m\n\u001b[32m    228\u001b[39m     response = \u001b[38;5;28mself\u001b[39m._resend(request, actions, cached_response, **kwargs)  \u001b[38;5;66;03m# type: ignore\u001b[39;00m\n\u001b[32m    229\u001b[39m \u001b[38;5;28;01melif\u001b[39;00m actions.send_request:\n\u001b[32m--> \u001b[39m\u001b[32m230\u001b[39m     response = \u001b[38;5;28;43mself\u001b[39;49m\u001b[43m.\u001b[49m\u001b[43m_send_and_cache\u001b[49m\u001b[43m(\u001b[49m\u001b[43mrequest\u001b[49m\u001b[43m,\u001b[49m\u001b[43m \u001b[49m\u001b[43mactions\u001b[49m\u001b[43m,\u001b[49m\u001b[43m \u001b[49m\u001b[43mcached_response\u001b[49m\u001b[43m,\u001b[49m\u001b[43m \u001b[49m\u001b[43m*\u001b[49m\u001b[43m*\u001b[49m\u001b[43mkwargs\u001b[49m\u001b[43m)\u001b[49m\n\u001b[32m    231\u001b[39m \u001b[38;5;28;01melse\u001b[39;00m:\n\u001b[32m    232\u001b[39m     response = cached_response  \u001b[38;5;66;03m# type: ignore  # Guaranteed to be non-None by this point\u001b[39;00m\n",
      "\u001b[36mFile \u001b[39m\u001b[32m~/miniconda3/envs/MNLP/lib/python3.13/site-packages/requests_cache/session.py:254\u001b[39m, in \u001b[36mCacheMixin._send_and_cache\u001b[39m\u001b[34m(self, request, actions, cached_response, **kwargs)\u001b[39m\n\u001b[32m    250\u001b[39m \u001b[38;5;250m\u001b[39m\u001b[33;03m\"\"\"Send a request and cache the response, unless disabled by settings or headers.\u001b[39;00m\n\u001b[32m    251\u001b[39m \u001b[33;03mIf applicable, also handle conditional requests.\u001b[39;00m\n\u001b[32m    252\u001b[39m \u001b[33;03m\"\"\"\u001b[39;00m\n\u001b[32m    253\u001b[39m request = actions.update_request(request)\n\u001b[32m--> \u001b[39m\u001b[32m254\u001b[39m response = \u001b[38;5;28;43msuper\u001b[39;49m\u001b[43m(\u001b[49m\u001b[43m)\u001b[49m\u001b[43m.\u001b[49m\u001b[43msend\u001b[49m\u001b[43m(\u001b[49m\u001b[43mrequest\u001b[49m\u001b[43m,\u001b[49m\u001b[43m \u001b[49m\u001b[43m*\u001b[49m\u001b[43m*\u001b[49m\u001b[43mkwargs\u001b[49m\u001b[43m)\u001b[49m\n\u001b[32m    255\u001b[39m actions.update_from_response(response)\n\u001b[32m    257\u001b[39m \u001b[38;5;28;01mif\u001b[39;00m \u001b[38;5;129;01mnot\u001b[39;00m actions.skip_write:\n",
      "\u001b[36mFile \u001b[39m\u001b[32m~/miniconda3/envs/MNLP/lib/python3.13/site-packages/requests/sessions.py:703\u001b[39m, in \u001b[36mSession.send\u001b[39m\u001b[34m(self, request, **kwargs)\u001b[39m\n\u001b[32m    700\u001b[39m start = preferred_clock()\n\u001b[32m    702\u001b[39m \u001b[38;5;66;03m# Send the request\u001b[39;00m\n\u001b[32m--> \u001b[39m\u001b[32m703\u001b[39m r = \u001b[43madapter\u001b[49m\u001b[43m.\u001b[49m\u001b[43msend\u001b[49m\u001b[43m(\u001b[49m\u001b[43mrequest\u001b[49m\u001b[43m,\u001b[49m\u001b[43m \u001b[49m\u001b[43m*\u001b[49m\u001b[43m*\u001b[49m\u001b[43mkwargs\u001b[49m\u001b[43m)\u001b[49m\n\u001b[32m    705\u001b[39m \u001b[38;5;66;03m# Total elapsed time of the request (approximately)\u001b[39;00m\n\u001b[32m    706\u001b[39m elapsed = preferred_clock() - start\n",
      "\u001b[36mFile \u001b[39m\u001b[32m~/miniconda3/envs/MNLP/lib/python3.13/site-packages/requests/adapters.py:667\u001b[39m, in \u001b[36mHTTPAdapter.send\u001b[39m\u001b[34m(self, request, stream, timeout, verify, cert, proxies)\u001b[39m\n\u001b[32m    664\u001b[39m     timeout = TimeoutSauce(connect=timeout, read=timeout)\n\u001b[32m    666\u001b[39m \u001b[38;5;28;01mtry\u001b[39;00m:\n\u001b[32m--> \u001b[39m\u001b[32m667\u001b[39m     resp = \u001b[43mconn\u001b[49m\u001b[43m.\u001b[49m\u001b[43murlopen\u001b[49m\u001b[43m(\u001b[49m\n\u001b[32m    668\u001b[39m \u001b[43m        \u001b[49m\u001b[43mmethod\u001b[49m\u001b[43m=\u001b[49m\u001b[43mrequest\u001b[49m\u001b[43m.\u001b[49m\u001b[43mmethod\u001b[49m\u001b[43m,\u001b[49m\n\u001b[32m    669\u001b[39m \u001b[43m        \u001b[49m\u001b[43murl\u001b[49m\u001b[43m=\u001b[49m\u001b[43murl\u001b[49m\u001b[43m,\u001b[49m\n\u001b[32m    670\u001b[39m \u001b[43m        \u001b[49m\u001b[43mbody\u001b[49m\u001b[43m=\u001b[49m\u001b[43mrequest\u001b[49m\u001b[43m.\u001b[49m\u001b[43mbody\u001b[49m\u001b[43m,\u001b[49m\n\u001b[32m    671\u001b[39m \u001b[43m        \u001b[49m\u001b[43mheaders\u001b[49m\u001b[43m=\u001b[49m\u001b[43mrequest\u001b[49m\u001b[43m.\u001b[49m\u001b[43mheaders\u001b[49m\u001b[43m,\u001b[49m\n\u001b[32m    672\u001b[39m \u001b[43m        \u001b[49m\u001b[43mredirect\u001b[49m\u001b[43m=\u001b[49m\u001b[38;5;28;43;01mFalse\u001b[39;49;00m\u001b[43m,\u001b[49m\n\u001b[32m    673\u001b[39m \u001b[43m        \u001b[49m\u001b[43massert_same_host\u001b[49m\u001b[43m=\u001b[49m\u001b[38;5;28;43;01mFalse\u001b[39;49;00m\u001b[43m,\u001b[49m\n\u001b[32m    674\u001b[39m \u001b[43m        \u001b[49m\u001b[43mpreload_content\u001b[49m\u001b[43m=\u001b[49m\u001b[38;5;28;43;01mFalse\u001b[39;49;00m\u001b[43m,\u001b[49m\n\u001b[32m    675\u001b[39m \u001b[43m        \u001b[49m\u001b[43mdecode_content\u001b[49m\u001b[43m=\u001b[49m\u001b[38;5;28;43;01mFalse\u001b[39;49;00m\u001b[43m,\u001b[49m\n\u001b[32m    676\u001b[39m \u001b[43m        \u001b[49m\u001b[43mretries\u001b[49m\u001b[43m=\u001b[49m\u001b[38;5;28;43mself\u001b[39;49m\u001b[43m.\u001b[49m\u001b[43mmax_retries\u001b[49m\u001b[43m,\u001b[49m\n\u001b[32m    677\u001b[39m \u001b[43m        \u001b[49m\u001b[43mtimeout\u001b[49m\u001b[43m=\u001b[49m\u001b[43mtimeout\u001b[49m\u001b[43m,\u001b[49m\n\u001b[32m    678\u001b[39m \u001b[43m        \u001b[49m\u001b[43mchunked\u001b[49m\u001b[43m=\u001b[49m\u001b[43mchunked\u001b[49m\u001b[43m,\u001b[49m\n\u001b[32m    679\u001b[39m \u001b[43m    \u001b[49m\u001b[43m)\u001b[49m\n\u001b[32m    681\u001b[39m \u001b[38;5;28;01mexcept\u001b[39;00m (ProtocolError, \u001b[38;5;167;01mOSError\u001b[39;00m) \u001b[38;5;28;01mas\u001b[39;00m err:\n\u001b[32m    682\u001b[39m     \u001b[38;5;28;01mraise\u001b[39;00m \u001b[38;5;167;01mConnectionError\u001b[39;00m(err, request=request)\n",
      "\u001b[36mFile \u001b[39m\u001b[32m~/miniconda3/envs/MNLP/lib/python3.13/site-packages/urllib3/connectionpool.py:787\u001b[39m, in \u001b[36mHTTPConnectionPool.urlopen\u001b[39m\u001b[34m(self, method, url, body, headers, retries, redirect, assert_same_host, timeout, pool_timeout, release_conn, chunked, body_pos, preload_content, decode_content, **response_kw)\u001b[39m\n\u001b[32m    784\u001b[39m response_conn = conn \u001b[38;5;28;01mif\u001b[39;00m \u001b[38;5;129;01mnot\u001b[39;00m release_conn \u001b[38;5;28;01melse\u001b[39;00m \u001b[38;5;28;01mNone\u001b[39;00m\n\u001b[32m    786\u001b[39m \u001b[38;5;66;03m# Make the request on the HTTPConnection object\u001b[39;00m\n\u001b[32m--> \u001b[39m\u001b[32m787\u001b[39m response = \u001b[38;5;28;43mself\u001b[39;49m\u001b[43m.\u001b[49m\u001b[43m_make_request\u001b[49m\u001b[43m(\u001b[49m\n\u001b[32m    788\u001b[39m \u001b[43m    \u001b[49m\u001b[43mconn\u001b[49m\u001b[43m,\u001b[49m\n\u001b[32m    789\u001b[39m \u001b[43m    \u001b[49m\u001b[43mmethod\u001b[49m\u001b[43m,\u001b[49m\n\u001b[32m    790\u001b[39m \u001b[43m    \u001b[49m\u001b[43murl\u001b[49m\u001b[43m,\u001b[49m\n\u001b[32m    791\u001b[39m \u001b[43m    \u001b[49m\u001b[43mtimeout\u001b[49m\u001b[43m=\u001b[49m\u001b[43mtimeout_obj\u001b[49m\u001b[43m,\u001b[49m\n\u001b[32m    792\u001b[39m \u001b[43m    \u001b[49m\u001b[43mbody\u001b[49m\u001b[43m=\u001b[49m\u001b[43mbody\u001b[49m\u001b[43m,\u001b[49m\n\u001b[32m    793\u001b[39m \u001b[43m    \u001b[49m\u001b[43mheaders\u001b[49m\u001b[43m=\u001b[49m\u001b[43mheaders\u001b[49m\u001b[43m,\u001b[49m\n\u001b[32m    794\u001b[39m \u001b[43m    \u001b[49m\u001b[43mchunked\u001b[49m\u001b[43m=\u001b[49m\u001b[43mchunked\u001b[49m\u001b[43m,\u001b[49m\n\u001b[32m    795\u001b[39m \u001b[43m    \u001b[49m\u001b[43mretries\u001b[49m\u001b[43m=\u001b[49m\u001b[43mretries\u001b[49m\u001b[43m,\u001b[49m\n\u001b[32m    796\u001b[39m \u001b[43m    \u001b[49m\u001b[43mresponse_conn\u001b[49m\u001b[43m=\u001b[49m\u001b[43mresponse_conn\u001b[49m\u001b[43m,\u001b[49m\n\u001b[32m    797\u001b[39m \u001b[43m    \u001b[49m\u001b[43mpreload_content\u001b[49m\u001b[43m=\u001b[49m\u001b[43mpreload_content\u001b[49m\u001b[43m,\u001b[49m\n\u001b[32m    798\u001b[39m \u001b[43m    \u001b[49m\u001b[43mdecode_content\u001b[49m\u001b[43m=\u001b[49m\u001b[43mdecode_content\u001b[49m\u001b[43m,\u001b[49m\n\u001b[32m    799\u001b[39m \u001b[43m    \u001b[49m\u001b[43m*\u001b[49m\u001b[43m*\u001b[49m\u001b[43mresponse_kw\u001b[49m\u001b[43m,\u001b[49m\n\u001b[32m    800\u001b[39m \u001b[43m\u001b[49m\u001b[43m)\u001b[49m\n\u001b[32m    802\u001b[39m \u001b[38;5;66;03m# Everything went great!\u001b[39;00m\n\u001b[32m    803\u001b[39m clean_exit = \u001b[38;5;28;01mTrue\u001b[39;00m\n",
      "\u001b[36mFile \u001b[39m\u001b[32m~/miniconda3/envs/MNLP/lib/python3.13/site-packages/urllib3/connectionpool.py:534\u001b[39m, in \u001b[36mHTTPConnectionPool._make_request\u001b[39m\u001b[34m(self, conn, method, url, body, headers, retries, timeout, chunked, response_conn, preload_content, decode_content, enforce_content_length)\u001b[39m\n\u001b[32m    532\u001b[39m \u001b[38;5;66;03m# Receive the response from the server\u001b[39;00m\n\u001b[32m    533\u001b[39m \u001b[38;5;28;01mtry\u001b[39;00m:\n\u001b[32m--> \u001b[39m\u001b[32m534\u001b[39m     response = \u001b[43mconn\u001b[49m\u001b[43m.\u001b[49m\u001b[43mgetresponse\u001b[49m\u001b[43m(\u001b[49m\u001b[43m)\u001b[49m\n\u001b[32m    535\u001b[39m \u001b[38;5;28;01mexcept\u001b[39;00m (BaseSSLError, \u001b[38;5;167;01mOSError\u001b[39;00m) \u001b[38;5;28;01mas\u001b[39;00m e:\n\u001b[32m    536\u001b[39m     \u001b[38;5;28mself\u001b[39m._raise_timeout(err=e, url=url, timeout_value=read_timeout)\n",
      "\u001b[36mFile \u001b[39m\u001b[32m~/miniconda3/envs/MNLP/lib/python3.13/site-packages/urllib3/connection.py:516\u001b[39m, in \u001b[36mHTTPConnection.getresponse\u001b[39m\u001b[34m(self)\u001b[39m\n\u001b[32m    513\u001b[39m _shutdown = \u001b[38;5;28mgetattr\u001b[39m(\u001b[38;5;28mself\u001b[39m.sock, \u001b[33m\"\u001b[39m\u001b[33mshutdown\u001b[39m\u001b[33m\"\u001b[39m, \u001b[38;5;28;01mNone\u001b[39;00m)\n\u001b[32m    515\u001b[39m \u001b[38;5;66;03m# Get the response from http.client.HTTPConnection\u001b[39;00m\n\u001b[32m--> \u001b[39m\u001b[32m516\u001b[39m httplib_response = \u001b[38;5;28;43msuper\u001b[39;49m\u001b[43m(\u001b[49m\u001b[43m)\u001b[49m\u001b[43m.\u001b[49m\u001b[43mgetresponse\u001b[49m\u001b[43m(\u001b[49m\u001b[43m)\u001b[49m\n\u001b[32m    518\u001b[39m \u001b[38;5;28;01mtry\u001b[39;00m:\n\u001b[32m    519\u001b[39m     assert_header_parsing(httplib_response.msg)\n",
      "\u001b[36mFile \u001b[39m\u001b[32m~/miniconda3/envs/MNLP/lib/python3.13/http/client.py:1430\u001b[39m, in \u001b[36mHTTPConnection.getresponse\u001b[39m\u001b[34m(self)\u001b[39m\n\u001b[32m   1428\u001b[39m \u001b[38;5;28;01mtry\u001b[39;00m:\n\u001b[32m   1429\u001b[39m     \u001b[38;5;28;01mtry\u001b[39;00m:\n\u001b[32m-> \u001b[39m\u001b[32m1430\u001b[39m         \u001b[43mresponse\u001b[49m\u001b[43m.\u001b[49m\u001b[43mbegin\u001b[49m\u001b[43m(\u001b[49m\u001b[43m)\u001b[49m\n\u001b[32m   1431\u001b[39m     \u001b[38;5;28;01mexcept\u001b[39;00m \u001b[38;5;167;01mConnectionError\u001b[39;00m:\n\u001b[32m   1432\u001b[39m         \u001b[38;5;28mself\u001b[39m.close()\n",
      "\u001b[36mFile \u001b[39m\u001b[32m~/miniconda3/envs/MNLP/lib/python3.13/http/client.py:331\u001b[39m, in \u001b[36mHTTPResponse.begin\u001b[39m\u001b[34m(self)\u001b[39m\n\u001b[32m    329\u001b[39m \u001b[38;5;66;03m# read until we get a non-100 response\u001b[39;00m\n\u001b[32m    330\u001b[39m \u001b[38;5;28;01mwhile\u001b[39;00m \u001b[38;5;28;01mTrue\u001b[39;00m:\n\u001b[32m--> \u001b[39m\u001b[32m331\u001b[39m     version, status, reason = \u001b[38;5;28;43mself\u001b[39;49m\u001b[43m.\u001b[49m\u001b[43m_read_status\u001b[49m\u001b[43m(\u001b[49m\u001b[43m)\u001b[49m\n\u001b[32m    332\u001b[39m     \u001b[38;5;28;01mif\u001b[39;00m status != CONTINUE:\n\u001b[32m    333\u001b[39m         \u001b[38;5;28;01mbreak\u001b[39;00m\n",
      "\u001b[36mFile \u001b[39m\u001b[32m~/miniconda3/envs/MNLP/lib/python3.13/http/client.py:292\u001b[39m, in \u001b[36mHTTPResponse._read_status\u001b[39m\u001b[34m(self)\u001b[39m\n\u001b[32m    291\u001b[39m \u001b[38;5;28;01mdef\u001b[39;00m\u001b[38;5;250m \u001b[39m\u001b[34m_read_status\u001b[39m(\u001b[38;5;28mself\u001b[39m):\n\u001b[32m--> \u001b[39m\u001b[32m292\u001b[39m     line = \u001b[38;5;28mstr\u001b[39m(\u001b[38;5;28;43mself\u001b[39;49m\u001b[43m.\u001b[49m\u001b[43mfp\u001b[49m\u001b[43m.\u001b[49m\u001b[43mreadline\u001b[49m\u001b[43m(\u001b[49m\u001b[43m_MAXLINE\u001b[49m\u001b[43m \u001b[49m\u001b[43m+\u001b[49m\u001b[43m \u001b[49m\u001b[32;43m1\u001b[39;49m\u001b[43m)\u001b[49m, \u001b[33m\"\u001b[39m\u001b[33miso-8859-1\u001b[39m\u001b[33m\"\u001b[39m)\n\u001b[32m    293\u001b[39m     \u001b[38;5;28;01mif\u001b[39;00m \u001b[38;5;28mlen\u001b[39m(line) > _MAXLINE:\n\u001b[32m    294\u001b[39m         \u001b[38;5;28;01mraise\u001b[39;00m LineTooLong(\u001b[33m\"\u001b[39m\u001b[33mstatus line\u001b[39m\u001b[33m\"\u001b[39m)\n",
      "\u001b[36mFile \u001b[39m\u001b[32m~/miniconda3/envs/MNLP/lib/python3.13/socket.py:719\u001b[39m, in \u001b[36mSocketIO.readinto\u001b[39m\u001b[34m(self, b)\u001b[39m\n\u001b[32m    717\u001b[39m     \u001b[38;5;28;01mraise\u001b[39;00m \u001b[38;5;167;01mOSError\u001b[39;00m(\u001b[33m\"\u001b[39m\u001b[33mcannot read from timed out object\u001b[39m\u001b[33m\"\u001b[39m)\n\u001b[32m    718\u001b[39m \u001b[38;5;28;01mtry\u001b[39;00m:\n\u001b[32m--> \u001b[39m\u001b[32m719\u001b[39m     \u001b[38;5;28;01mreturn\u001b[39;00m \u001b[38;5;28;43mself\u001b[39;49m\u001b[43m.\u001b[49m\u001b[43m_sock\u001b[49m\u001b[43m.\u001b[49m\u001b[43mrecv_into\u001b[49m\u001b[43m(\u001b[49m\u001b[43mb\u001b[49m\u001b[43m)\u001b[49m\n\u001b[32m    720\u001b[39m \u001b[38;5;28;01mexcept\u001b[39;00m timeout:\n\u001b[32m    721\u001b[39m     \u001b[38;5;28mself\u001b[39m._timeout_occurred = \u001b[38;5;28;01mTrue\u001b[39;00m\n",
      "\u001b[36mFile \u001b[39m\u001b[32m~/miniconda3/envs/MNLP/lib/python3.13/ssl.py:1304\u001b[39m, in \u001b[36mSSLSocket.recv_into\u001b[39m\u001b[34m(self, buffer, nbytes, flags)\u001b[39m\n\u001b[32m   1300\u001b[39m     \u001b[38;5;28;01mif\u001b[39;00m flags != \u001b[32m0\u001b[39m:\n\u001b[32m   1301\u001b[39m         \u001b[38;5;28;01mraise\u001b[39;00m \u001b[38;5;167;01mValueError\u001b[39;00m(\n\u001b[32m   1302\u001b[39m           \u001b[33m\"\u001b[39m\u001b[33mnon-zero flags not allowed in calls to recv_into() on \u001b[39m\u001b[38;5;132;01m%s\u001b[39;00m\u001b[33m\"\u001b[39m %\n\u001b[32m   1303\u001b[39m           \u001b[38;5;28mself\u001b[39m.\u001b[34m__class__\u001b[39m)\n\u001b[32m-> \u001b[39m\u001b[32m1304\u001b[39m     \u001b[38;5;28;01mreturn\u001b[39;00m \u001b[38;5;28;43mself\u001b[39;49m\u001b[43m.\u001b[49m\u001b[43mread\u001b[49m\u001b[43m(\u001b[49m\u001b[43mnbytes\u001b[49m\u001b[43m,\u001b[49m\u001b[43m \u001b[49m\u001b[43mbuffer\u001b[49m\u001b[43m)\u001b[49m\n\u001b[32m   1305\u001b[39m \u001b[38;5;28;01melse\u001b[39;00m:\n\u001b[32m   1306\u001b[39m     \u001b[38;5;28;01mreturn\u001b[39;00m \u001b[38;5;28msuper\u001b[39m().recv_into(buffer, nbytes, flags)\n",
      "\u001b[36mFile \u001b[39m\u001b[32m~/miniconda3/envs/MNLP/lib/python3.13/ssl.py:1138\u001b[39m, in \u001b[36mSSLSocket.read\u001b[39m\u001b[34m(self, len, buffer)\u001b[39m\n\u001b[32m   1136\u001b[39m \u001b[38;5;28;01mtry\u001b[39;00m:\n\u001b[32m   1137\u001b[39m     \u001b[38;5;28;01mif\u001b[39;00m buffer \u001b[38;5;129;01mis\u001b[39;00m \u001b[38;5;129;01mnot\u001b[39;00m \u001b[38;5;28;01mNone\u001b[39;00m:\n\u001b[32m-> \u001b[39m\u001b[32m1138\u001b[39m         \u001b[38;5;28;01mreturn\u001b[39;00m \u001b[38;5;28;43mself\u001b[39;49m\u001b[43m.\u001b[49m\u001b[43m_sslobj\u001b[49m\u001b[43m.\u001b[49m\u001b[43mread\u001b[49m\u001b[43m(\u001b[49m\u001b[38;5;28;43mlen\u001b[39;49m\u001b[43m,\u001b[49m\u001b[43m \u001b[49m\u001b[43mbuffer\u001b[49m\u001b[43m)\u001b[49m\n\u001b[32m   1139\u001b[39m     \u001b[38;5;28;01melse\u001b[39;00m:\n\u001b[32m   1140\u001b[39m         \u001b[38;5;28;01mreturn\u001b[39;00m \u001b[38;5;28mself\u001b[39m._sslobj.read(\u001b[38;5;28mlen\u001b[39m)\n",
      "\u001b[31mKeyboardInterrupt\u001b[39m: "
     ]
    }
   ],
   "source": [
    "print('Cultural Dataset argumentation start')\n",
    "factory = CU_Dataset_Factory('.')\n",
    "train_l = Hf_Loader(\"sapienzanlp/nlp2025_hw1_cultural_dataset\", 'train')\n",
    "validation_l = Hf_Loader(\"sapienzanlp/nlp2025_hw1_cultural_dataset\", 'validation')\n",
    "\n",
    "factory.produce(train_l, 'train.tsv', ['category', 'subcategory','type','languages','reference','num_langs', 'ambiguos', 'G', 'n_mod', 'back_links'], 'label', 16, False)\n",
    "factory.produce(validation_l, 'validation.tsv', ['category', 'subcategory','type','languages','reference','num_langs', 'ambiguos', 'G', 'n_mod', 'back_links'], 'label', 16, False)\n",
    "print('End process')"
   ]
  },
  {
   "cell_type": "code",
   "execution_count": 459,
   "id": "652d72d8",
   "metadata": {},
   "outputs": [],
   "source": [
    "train = pd.read_csv('train.tsv', sep='\\t')\n",
    "validation = pd.read_csv('validation.tsv', sep='\\t')"
   ]
  },
  {
   "cell_type": "code",
   "execution_count": 460,
   "id": "19b2e549",
   "metadata": {},
   "outputs": [
    {
     "data": {
      "application/vnd.microsoft.datawrangler.viewer.v0+json": {
       "columns": [
        {
         "name": "index",
         "rawType": "int64",
         "type": "integer"
        },
        {
         "name": "Unnamed: 0",
         "rawType": "int64",
         "type": "integer"
        },
        {
         "name": "back_links",
         "rawType": "int64",
         "type": "integer"
        },
        {
         "name": "n_mod",
         "rawType": "int64",
         "type": "integer"
        },
        {
         "name": "G_num_components",
         "rawType": "float64",
         "type": "float"
        },
        {
         "name": "G_avg",
         "rawType": "float64",
         "type": "float"
        },
        {
         "name": "G_nodes",
         "rawType": "float64",
         "type": "float"
        },
        {
         "name": "G_largest_component_size",
         "rawType": "float64",
         "type": "float"
        },
        {
         "name": "G_mean_pr",
         "rawType": "float64",
         "type": "float"
        },
        {
         "name": "G_density",
         "rawType": "float64",
         "type": "float"
        },
        {
         "name": "G_num_cliques",
         "rawType": "float64",
         "type": "float"
        },
        {
         "name": "num_langs",
         "rawType": "int64",
         "type": "integer"
        },
        {
         "name": "reference",
         "rawType": "int64",
         "type": "integer"
        },
        {
         "name": "languages",
         "rawType": "int64",
         "type": "integer"
        },
        {
         "name": "type",
         "rawType": "object",
         "type": "string"
        },
        {
         "name": "subcategory",
         "rawType": "object",
         "type": "string"
        },
        {
         "name": "category",
         "rawType": "object",
         "type": "string"
        },
        {
         "name": "wiki_name",
         "rawType": "object",
         "type": "string"
        },
        {
         "name": "qid",
         "rawType": "object",
         "type": "string"
        },
        {
         "name": "label",
         "rawType": "int64",
         "type": "integer"
        }
       ],
       "conversionMethod": "pd.DataFrame",
       "ref": "10a58612-4302-4070-bd68-9a33d35d6fe1",
       "rows": [
        [
         "0",
         "0",
         "36",
         "79",
         "1.0",
         "1.0",
         "1.0",
         "1.0",
         "1.0",
         "0.0",
         "1.0",
         "6",
         "5",
         "2",
         "entity",
         "film",
         "films",
         "916 (film)",
         "Q32786",
         "1"
        ],
        [
         "1",
         "1",
         "222",
         "614",
         "1.0",
         "1.4175824175824177",
         "182.0",
         "182.0",
         "0.004404711942713",
         "0.0139032238479752",
         "179.0",
         "30",
         "40",
         "8",
         "entity",
         "musical group",
         "music",
         "!!!",
         "Q371",
         "2"
        ],
        [
         "2",
         "2",
         "24",
         "16",
         "1.0",
         "3.2",
         "5.0",
         "5.0",
         "0.244155696936492",
         "0.9",
         "2.0",
         "4",
         "1",
         "3",
         "entity",
         "comics",
         "comics and anime",
         "¡Soborno!",
         "Q3729947",
         "2"
        ],
        [
         "3",
         "3",
         "227",
         "2375",
         "1.0",
         "1.4553571428571428",
         "224.0",
         "224.0",
         "0.0036557739676017",
         "0.0114509929532351",
         "231.0",
         "38",
         "67",
         "9",
         "entity",
         "musical group",
         "music",
         "+44 (band)",
         "Q158611",
         "2"
        ],
        [
         "4",
         "4",
         "85",
         "30",
         "1.0",
         "1.339622641509434",
         "159.0",
         "159.0",
         "0.00475057249652",
         "0.0152057957169015",
         "153.0",
         "2",
         "7",
         "1",
         "entity",
         "building",
         "architecture",
         "1 Monk Street, Monmouth",
         "Q280375",
         "1"
        ]
       ],
       "shape": {
        "columns": 19,
        "rows": 5
       }
      },
      "text/html": [
       "<div>\n",
       "<style scoped>\n",
       "    .dataframe tbody tr th:only-of-type {\n",
       "        vertical-align: middle;\n",
       "    }\n",
       "\n",
       "    .dataframe tbody tr th {\n",
       "        vertical-align: top;\n",
       "    }\n",
       "\n",
       "    .dataframe thead th {\n",
       "        text-align: right;\n",
       "    }\n",
       "</style>\n",
       "<table border=\"1\" class=\"dataframe\">\n",
       "  <thead>\n",
       "    <tr style=\"text-align: right;\">\n",
       "      <th></th>\n",
       "      <th>Unnamed: 0</th>\n",
       "      <th>back_links</th>\n",
       "      <th>n_mod</th>\n",
       "      <th>G_num_components</th>\n",
       "      <th>G_avg</th>\n",
       "      <th>G_nodes</th>\n",
       "      <th>G_largest_component_size</th>\n",
       "      <th>G_mean_pr</th>\n",
       "      <th>G_density</th>\n",
       "      <th>G_num_cliques</th>\n",
       "      <th>num_langs</th>\n",
       "      <th>reference</th>\n",
       "      <th>languages</th>\n",
       "      <th>type</th>\n",
       "      <th>subcategory</th>\n",
       "      <th>category</th>\n",
       "      <th>wiki_name</th>\n",
       "      <th>qid</th>\n",
       "      <th>label</th>\n",
       "    </tr>\n",
       "  </thead>\n",
       "  <tbody>\n",
       "    <tr>\n",
       "      <th>0</th>\n",
       "      <td>0</td>\n",
       "      <td>36</td>\n",
       "      <td>79</td>\n",
       "      <td>1.0</td>\n",
       "      <td>1.000000</td>\n",
       "      <td>1.0</td>\n",
       "      <td>1.0</td>\n",
       "      <td>1.000000</td>\n",
       "      <td>0.000000</td>\n",
       "      <td>1.0</td>\n",
       "      <td>6</td>\n",
       "      <td>5</td>\n",
       "      <td>2</td>\n",
       "      <td>entity</td>\n",
       "      <td>film</td>\n",
       "      <td>films</td>\n",
       "      <td>916 (film)</td>\n",
       "      <td>Q32786</td>\n",
       "      <td>1</td>\n",
       "    </tr>\n",
       "    <tr>\n",
       "      <th>1</th>\n",
       "      <td>1</td>\n",
       "      <td>222</td>\n",
       "      <td>614</td>\n",
       "      <td>1.0</td>\n",
       "      <td>1.417582</td>\n",
       "      <td>182.0</td>\n",
       "      <td>182.0</td>\n",
       "      <td>0.004405</td>\n",
       "      <td>0.013903</td>\n",
       "      <td>179.0</td>\n",
       "      <td>30</td>\n",
       "      <td>40</td>\n",
       "      <td>8</td>\n",
       "      <td>entity</td>\n",
       "      <td>musical group</td>\n",
       "      <td>music</td>\n",
       "      <td>!!!</td>\n",
       "      <td>Q371</td>\n",
       "      <td>2</td>\n",
       "    </tr>\n",
       "    <tr>\n",
       "      <th>2</th>\n",
       "      <td>2</td>\n",
       "      <td>24</td>\n",
       "      <td>16</td>\n",
       "      <td>1.0</td>\n",
       "      <td>3.200000</td>\n",
       "      <td>5.0</td>\n",
       "      <td>5.0</td>\n",
       "      <td>0.244156</td>\n",
       "      <td>0.900000</td>\n",
       "      <td>2.0</td>\n",
       "      <td>4</td>\n",
       "      <td>1</td>\n",
       "      <td>3</td>\n",
       "      <td>entity</td>\n",
       "      <td>comics</td>\n",
       "      <td>comics and anime</td>\n",
       "      <td>¡Soborno!</td>\n",
       "      <td>Q3729947</td>\n",
       "      <td>2</td>\n",
       "    </tr>\n",
       "    <tr>\n",
       "      <th>3</th>\n",
       "      <td>3</td>\n",
       "      <td>227</td>\n",
       "      <td>2375</td>\n",
       "      <td>1.0</td>\n",
       "      <td>1.455357</td>\n",
       "      <td>224.0</td>\n",
       "      <td>224.0</td>\n",
       "      <td>0.003656</td>\n",
       "      <td>0.011451</td>\n",
       "      <td>231.0</td>\n",
       "      <td>38</td>\n",
       "      <td>67</td>\n",
       "      <td>9</td>\n",
       "      <td>entity</td>\n",
       "      <td>musical group</td>\n",
       "      <td>music</td>\n",
       "      <td>+44 (band)</td>\n",
       "      <td>Q158611</td>\n",
       "      <td>2</td>\n",
       "    </tr>\n",
       "    <tr>\n",
       "      <th>4</th>\n",
       "      <td>4</td>\n",
       "      <td>85</td>\n",
       "      <td>30</td>\n",
       "      <td>1.0</td>\n",
       "      <td>1.339623</td>\n",
       "      <td>159.0</td>\n",
       "      <td>159.0</td>\n",
       "      <td>0.004751</td>\n",
       "      <td>0.015206</td>\n",
       "      <td>153.0</td>\n",
       "      <td>2</td>\n",
       "      <td>7</td>\n",
       "      <td>1</td>\n",
       "      <td>entity</td>\n",
       "      <td>building</td>\n",
       "      <td>architecture</td>\n",
       "      <td>1 Monk Street, Monmouth</td>\n",
       "      <td>Q280375</td>\n",
       "      <td>1</td>\n",
       "    </tr>\n",
       "  </tbody>\n",
       "</table>\n",
       "</div>"
      ],
      "text/plain": [
       "   Unnamed: 0  back_links  n_mod  G_num_components     G_avg  G_nodes  \\\n",
       "0           0          36     79               1.0  1.000000      1.0   \n",
       "1           1         222    614               1.0  1.417582    182.0   \n",
       "2           2          24     16               1.0  3.200000      5.0   \n",
       "3           3         227   2375               1.0  1.455357    224.0   \n",
       "4           4          85     30               1.0  1.339623    159.0   \n",
       "\n",
       "   G_largest_component_size  G_mean_pr  G_density  G_num_cliques  num_langs  \\\n",
       "0                       1.0   1.000000   0.000000            1.0          6   \n",
       "1                     182.0   0.004405   0.013903          179.0         30   \n",
       "2                       5.0   0.244156   0.900000            2.0          4   \n",
       "3                     224.0   0.003656   0.011451          231.0         38   \n",
       "4                     159.0   0.004751   0.015206          153.0          2   \n",
       "\n",
       "   reference  languages    type    subcategory          category  \\\n",
       "0          5          2  entity           film             films   \n",
       "1         40          8  entity  musical group             music   \n",
       "2          1          3  entity         comics  comics and anime   \n",
       "3         67          9  entity  musical group             music   \n",
       "4          7          1  entity       building      architecture   \n",
       "\n",
       "                 wiki_name       qid  label  \n",
       "0               916 (film)    Q32786      1  \n",
       "1                      !!!      Q371      2  \n",
       "2                ¡Soborno!  Q3729947      2  \n",
       "3               +44 (band)   Q158611      2  \n",
       "4  1 Monk Street, Monmouth   Q280375      1  "
      ]
     },
     "execution_count": 460,
     "metadata": {},
     "output_type": "execute_result"
    }
   ],
   "source": [
    "train.head(5)"
   ]
  },
  {
   "cell_type": "code",
   "execution_count": 461,
   "id": "d4f56e96",
   "metadata": {},
   "outputs": [
    {
     "data": {
      "application/vnd.microsoft.datawrangler.viewer.v0+json": {
       "columns": [
        {
         "name": "index",
         "rawType": "int64",
         "type": "integer"
        },
        {
         "name": "Unnamed: 0",
         "rawType": "int64",
         "type": "integer"
        },
        {
         "name": "back_links",
         "rawType": "int64",
         "type": "integer"
        },
        {
         "name": "n_mod",
         "rawType": "int64",
         "type": "integer"
        },
        {
         "name": "G_num_components",
         "rawType": "float64",
         "type": "float"
        },
        {
         "name": "G_avg",
         "rawType": "float64",
         "type": "float"
        },
        {
         "name": "G_nodes",
         "rawType": "float64",
         "type": "float"
        },
        {
         "name": "G_largest_component_size",
         "rawType": "float64",
         "type": "float"
        },
        {
         "name": "G_mean_pr",
         "rawType": "float64",
         "type": "float"
        },
        {
         "name": "G_density",
         "rawType": "float64",
         "type": "float"
        },
        {
         "name": "G_num_cliques",
         "rawType": "float64",
         "type": "float"
        },
        {
         "name": "num_langs",
         "rawType": "int64",
         "type": "integer"
        },
        {
         "name": "reference",
         "rawType": "int64",
         "type": "integer"
        },
        {
         "name": "languages",
         "rawType": "int64",
         "type": "integer"
        },
        {
         "name": "type",
         "rawType": "object",
         "type": "string"
        },
        {
         "name": "subcategory",
         "rawType": "object",
         "type": "string"
        },
        {
         "name": "category",
         "rawType": "object",
         "type": "string"
        },
        {
         "name": "wiki_name",
         "rawType": "object",
         "type": "string"
        },
        {
         "name": "qid",
         "rawType": "object",
         "type": "string"
        },
        {
         "name": "label",
         "rawType": "int64",
         "type": "integer"
        }
       ],
       "conversionMethod": "pd.DataFrame",
       "ref": "f5a5e046-e178-4b10-8bc5-ffcac9b0d74d",
       "rows": [
        [
         "0",
         "0",
         "2582",
         "784",
         "1.0",
         "1.0",
         "4.0",
         "4.0",
         "0.2646047502715787",
         "0.5",
         "3.0",
         "62",
         "40",
         "10",
         "entity",
         "sports club",
         "sports",
         "1. FC Nürnberg",
         "Q15786",
         "2"
        ],
        [
         "1",
         "1",
         "27",
         "25",
         "1.0",
         "1.0",
         "1.0",
         "1.0",
         "1.0",
         "0.0",
         "1.0",
         "7",
         "4",
         "4",
         "entity",
         "record label",
         "music",
         "77 Records",
         "Q268530",
         "1"
        ],
        [
         "2",
         "2",
         "841",
         "2698",
         "1.0",
         "1.452887537993921",
         "329.0",
         "329.0",
         "0.0024051096803627",
         "0.0075246497145822",
         "343.0",
         "68",
         "166",
         "10",
         "entity",
         "animated film",
         "comics and anime",
         "A Bug's Life",
         "Q216153",
         "2"
        ],
        [
         "3",
         "3",
         "21",
         "36",
         "1.0",
         "1.0",
         "1.0",
         "1.0",
         "1.0",
         "0.0",
         "1.0",
         "12",
         "3",
         "7",
         "entity",
         "film",
         "films",
         "A Gang Story",
         "Q593",
         "1"
        ],
        [
         "4",
         "4",
         "1940",
         "1653",
         "1.0",
         "1.4361702127659577",
         "188.0",
         "188.0",
         "0.0040436432061355",
         "0.0133689839572192",
         "177.0",
         "60",
         "91",
         "10",
         "entity",
         "choreographer",
         "performing arts",
         "Aaron Copland",
         "Q192185",
         "2"
        ]
       ],
       "shape": {
        "columns": 19,
        "rows": 5
       }
      },
      "text/html": [
       "<div>\n",
       "<style scoped>\n",
       "    .dataframe tbody tr th:only-of-type {\n",
       "        vertical-align: middle;\n",
       "    }\n",
       "\n",
       "    .dataframe tbody tr th {\n",
       "        vertical-align: top;\n",
       "    }\n",
       "\n",
       "    .dataframe thead th {\n",
       "        text-align: right;\n",
       "    }\n",
       "</style>\n",
       "<table border=\"1\" class=\"dataframe\">\n",
       "  <thead>\n",
       "    <tr style=\"text-align: right;\">\n",
       "      <th></th>\n",
       "      <th>Unnamed: 0</th>\n",
       "      <th>back_links</th>\n",
       "      <th>n_mod</th>\n",
       "      <th>G_num_components</th>\n",
       "      <th>G_avg</th>\n",
       "      <th>G_nodes</th>\n",
       "      <th>G_largest_component_size</th>\n",
       "      <th>G_mean_pr</th>\n",
       "      <th>G_density</th>\n",
       "      <th>G_num_cliques</th>\n",
       "      <th>num_langs</th>\n",
       "      <th>reference</th>\n",
       "      <th>languages</th>\n",
       "      <th>type</th>\n",
       "      <th>subcategory</th>\n",
       "      <th>category</th>\n",
       "      <th>wiki_name</th>\n",
       "      <th>qid</th>\n",
       "      <th>label</th>\n",
       "    </tr>\n",
       "  </thead>\n",
       "  <tbody>\n",
       "    <tr>\n",
       "      <th>0</th>\n",
       "      <td>0</td>\n",
       "      <td>2582</td>\n",
       "      <td>784</td>\n",
       "      <td>1.0</td>\n",
       "      <td>1.000000</td>\n",
       "      <td>4.0</td>\n",
       "      <td>4.0</td>\n",
       "      <td>0.264605</td>\n",
       "      <td>0.500000</td>\n",
       "      <td>3.0</td>\n",
       "      <td>62</td>\n",
       "      <td>40</td>\n",
       "      <td>10</td>\n",
       "      <td>entity</td>\n",
       "      <td>sports club</td>\n",
       "      <td>sports</td>\n",
       "      <td>1. FC Nürnberg</td>\n",
       "      <td>Q15786</td>\n",
       "      <td>2</td>\n",
       "    </tr>\n",
       "    <tr>\n",
       "      <th>1</th>\n",
       "      <td>1</td>\n",
       "      <td>27</td>\n",
       "      <td>25</td>\n",
       "      <td>1.0</td>\n",
       "      <td>1.000000</td>\n",
       "      <td>1.0</td>\n",
       "      <td>1.0</td>\n",
       "      <td>1.000000</td>\n",
       "      <td>0.000000</td>\n",
       "      <td>1.0</td>\n",
       "      <td>7</td>\n",
       "      <td>4</td>\n",
       "      <td>4</td>\n",
       "      <td>entity</td>\n",
       "      <td>record label</td>\n",
       "      <td>music</td>\n",
       "      <td>77 Records</td>\n",
       "      <td>Q268530</td>\n",
       "      <td>1</td>\n",
       "    </tr>\n",
       "    <tr>\n",
       "      <th>2</th>\n",
       "      <td>2</td>\n",
       "      <td>841</td>\n",
       "      <td>2698</td>\n",
       "      <td>1.0</td>\n",
       "      <td>1.452888</td>\n",
       "      <td>329.0</td>\n",
       "      <td>329.0</td>\n",
       "      <td>0.002405</td>\n",
       "      <td>0.007525</td>\n",
       "      <td>343.0</td>\n",
       "      <td>68</td>\n",
       "      <td>166</td>\n",
       "      <td>10</td>\n",
       "      <td>entity</td>\n",
       "      <td>animated film</td>\n",
       "      <td>comics and anime</td>\n",
       "      <td>A Bug's Life</td>\n",
       "      <td>Q216153</td>\n",
       "      <td>2</td>\n",
       "    </tr>\n",
       "    <tr>\n",
       "      <th>3</th>\n",
       "      <td>3</td>\n",
       "      <td>21</td>\n",
       "      <td>36</td>\n",
       "      <td>1.0</td>\n",
       "      <td>1.000000</td>\n",
       "      <td>1.0</td>\n",
       "      <td>1.0</td>\n",
       "      <td>1.000000</td>\n",
       "      <td>0.000000</td>\n",
       "      <td>1.0</td>\n",
       "      <td>12</td>\n",
       "      <td>3</td>\n",
       "      <td>7</td>\n",
       "      <td>entity</td>\n",
       "      <td>film</td>\n",
       "      <td>films</td>\n",
       "      <td>A Gang Story</td>\n",
       "      <td>Q593</td>\n",
       "      <td>1</td>\n",
       "    </tr>\n",
       "    <tr>\n",
       "      <th>4</th>\n",
       "      <td>4</td>\n",
       "      <td>1940</td>\n",
       "      <td>1653</td>\n",
       "      <td>1.0</td>\n",
       "      <td>1.436170</td>\n",
       "      <td>188.0</td>\n",
       "      <td>188.0</td>\n",
       "      <td>0.004044</td>\n",
       "      <td>0.013369</td>\n",
       "      <td>177.0</td>\n",
       "      <td>60</td>\n",
       "      <td>91</td>\n",
       "      <td>10</td>\n",
       "      <td>entity</td>\n",
       "      <td>choreographer</td>\n",
       "      <td>performing arts</td>\n",
       "      <td>Aaron Copland</td>\n",
       "      <td>Q192185</td>\n",
       "      <td>2</td>\n",
       "    </tr>\n",
       "  </tbody>\n",
       "</table>\n",
       "</div>"
      ],
      "text/plain": [
       "   Unnamed: 0  back_links  n_mod  G_num_components     G_avg  G_nodes  \\\n",
       "0           0        2582    784               1.0  1.000000      4.0   \n",
       "1           1          27     25               1.0  1.000000      1.0   \n",
       "2           2         841   2698               1.0  1.452888    329.0   \n",
       "3           3          21     36               1.0  1.000000      1.0   \n",
       "4           4        1940   1653               1.0  1.436170    188.0   \n",
       "\n",
       "   G_largest_component_size  G_mean_pr  G_density  G_num_cliques  num_langs  \\\n",
       "0                       4.0   0.264605   0.500000            3.0         62   \n",
       "1                       1.0   1.000000   0.000000            1.0          7   \n",
       "2                     329.0   0.002405   0.007525          343.0         68   \n",
       "3                       1.0   1.000000   0.000000            1.0         12   \n",
       "4                     188.0   0.004044   0.013369          177.0         60   \n",
       "\n",
       "   reference  languages    type    subcategory          category  \\\n",
       "0         40         10  entity    sports club            sports   \n",
       "1          4          4  entity   record label             music   \n",
       "2        166         10  entity  animated film  comics and anime   \n",
       "3          3          7  entity           film             films   \n",
       "4         91         10  entity  choreographer   performing arts   \n",
       "\n",
       "        wiki_name      qid  label  \n",
       "0  1. FC Nürnberg   Q15786      2  \n",
       "1      77 Records  Q268530      1  \n",
       "2    A Bug's Life  Q216153      2  \n",
       "3    A Gang Story     Q593      1  \n",
       "4   Aaron Copland  Q192185      2  "
      ]
     },
     "execution_count": 461,
     "metadata": {},
     "output_type": "execute_result"
    }
   ],
   "source": [
    "validation.head(5)"
   ]
  },
  {
   "cell_type": "code",
   "execution_count": 462,
   "id": "7fe997e0",
   "metadata": {},
   "outputs": [],
   "source": [
    "y_train = train[['label']]\n",
    "y_validation = validation[['label']]\n",
    "\n",
    "id_train = train[['wiki_name']]\n",
    "id_validation = validation[['wiki_name']]\n",
    "\n",
    "fe_train = train[['languages', 'num_langs', 'reference','G_mean_pr']]\n",
    "fe_validation = validation[['languages', 'num_langs', 'reference','G_mean_pr']]\n",
    "\n",
    "fe_str_train = train[['category', 'subcategory', 'type']]\n",
    "fe_str_validation = validation[['category', 'subcategory', 'type']]"
   ]
  },
  {
   "cell_type": "code",
   "execution_count": 463,
   "id": "848b1d56",
   "metadata": {},
   "outputs": [],
   "source": [
    "train_cat, validation_cat, _ =  onehot_encode(fe_str_train, fe_str_validation, ['category'] )\n",
    "train_scat, validation_scat, _ = onehot_encode(fe_str_train, fe_str_validation, ['subcategory'] )\n",
    "train_t, validation_t, _ = onehot_encode(fe_str_train, fe_str_validation, ['type'] )"
   ]
  },
  {
   "cell_type": "code",
   "execution_count": 464,
   "id": "fd34cf58",
   "metadata": {},
   "outputs": [
    {
     "name": "stdout",
     "output_type": "stream",
     "text": [
      "(300, 19)\n",
      "(300, 112)\n",
      "(300, 2)\n"
     ]
    }
   ],
   "source": [
    "print(validation_cat.shape)\n",
    "print(validation_scat.shape)\n",
    "print(validation_t.shape)"
   ]
  },
  {
   "cell_type": "code",
   "execution_count": 465,
   "id": "85fba437",
   "metadata": {},
   "outputs": [],
   "source": [
    "from sklearn.decomposition import PCA"
   ]
  },
  {
   "cell_type": "code",
   "execution_count": 466,
   "id": "76c105c6",
   "metadata": {},
   "outputs": [],
   "source": [
    "# pca = PCA(n_components=10)\n",
    "# validation_cat = pd.DataFrame(pca.fit_transform(validation_cat))\n",
    "# train_cat = pd.DataFrame(pca.fit_transform(train_cat))\n",
    "# pca = PCA(n_components=50)\n",
    "# validation_scat = pd.DataFrame(pca.fit_transform(validation_scat))\n",
    "# train_scat = pd.DataFrame(pca.fit_transform(train_scat))"
   ]
  },
  {
   "cell_type": "code",
   "execution_count": 467,
   "id": "6f384973",
   "metadata": {},
   "outputs": [
    {
     "name": "stdout",
     "output_type": "stream",
     "text": [
      "(300, 19)\n",
      "(300, 112)\n",
      "(300, 2)\n"
     ]
    }
   ],
   "source": [
    "print(validation_cat.shape)\n",
    "print(validation_scat.shape)\n",
    "print(validation_t.shape)"
   ]
  },
  {
   "cell_type": "code",
   "execution_count": 468,
   "id": "eb7c32db",
   "metadata": {},
   "outputs": [
    {
     "name": "stdout",
     "output_type": "stream",
     "text": [
      "(6251, 138)\n"
     ]
    }
   ],
   "source": [
    "train = pd.concat([fe_train, train_cat, train_scat, train_t, y_train], axis=1)\n",
    "validation = pd.concat([fe_validation, validation_cat, validation_scat, validation_t, y_validation], axis=1) \n",
    "\n",
    "print(train.shape)"
   ]
  },
  {
   "cell_type": "code",
   "execution_count": 469,
   "id": "58a46a44",
   "metadata": {},
   "outputs": [
    {
     "data": {
      "application/vnd.microsoft.datawrangler.viewer.v0+json": {
       "columns": [
        {
         "name": "index",
         "rawType": "int64",
         "type": "integer"
        },
        {
         "name": "languages",
         "rawType": "int64",
         "type": "integer"
        },
        {
         "name": "num_langs",
         "rawType": "int64",
         "type": "integer"
        },
        {
         "name": "reference",
         "rawType": "int64",
         "type": "integer"
        },
        {
         "name": "G_mean_pr",
         "rawType": "float64",
         "type": "float"
        },
        {
         "name": "category_architecture",
         "rawType": "object",
         "type": "unknown"
        },
        {
         "name": "category_biology",
         "rawType": "object",
         "type": "unknown"
        },
        {
         "name": "category_books",
         "rawType": "object",
         "type": "unknown"
        },
        {
         "name": "category_comics and anime",
         "rawType": "object",
         "type": "unknown"
        },
        {
         "name": "category_fashion",
         "rawType": "object",
         "type": "unknown"
        },
        {
         "name": "category_films",
         "rawType": "object",
         "type": "unknown"
        },
        {
         "name": "category_food",
         "rawType": "object",
         "type": "unknown"
        },
        {
         "name": "category_geography",
         "rawType": "object",
         "type": "unknown"
        },
        {
         "name": "category_gestures and habits",
         "rawType": "object",
         "type": "unknown"
        },
        {
         "name": "category_history",
         "rawType": "object",
         "type": "unknown"
        },
        {
         "name": "category_literature",
         "rawType": "object",
         "type": "unknown"
        },
        {
         "name": "category_media",
         "rawType": "object",
         "type": "unknown"
        },
        {
         "name": "category_music",
         "rawType": "object",
         "type": "unknown"
        },
        {
         "name": "category_performing arts",
         "rawType": "object",
         "type": "unknown"
        },
        {
         "name": "category_philosophy and religion",
         "rawType": "object",
         "type": "unknown"
        },
        {
         "name": "category_politics",
         "rawType": "object",
         "type": "unknown"
        },
        {
         "name": "category_sports",
         "rawType": "object",
         "type": "unknown"
        },
        {
         "name": "category_transportation",
         "rawType": "object",
         "type": "unknown"
        },
        {
         "name": "category_visual arts",
         "rawType": "object",
         "type": "unknown"
        },
        {
         "name": "subcategory_acting style",
         "rawType": "object",
         "type": "unknown"
        },
        {
         "name": "subcategory_actor",
         "rawType": "object",
         "type": "unknown"
        },
        {
         "name": "subcategory_animal",
         "rawType": "object",
         "type": "unknown"
        },
        {
         "name": "subcategory_animated film",
         "rawType": "object",
         "type": "unknown"
        },
        {
         "name": "subcategory_animation studio",
         "rawType": "object",
         "type": "unknown"
        },
        {
         "name": "subcategory_animation technique",
         "rawType": "object",
         "type": "unknown"
        },
        {
         "name": "subcategory_architect",
         "rawType": "object",
         "type": "unknown"
        },
        {
         "name": "subcategory_architectural structure",
         "rawType": "object",
         "type": "unknown"
        },
        {
         "name": "subcategory_architectural style",
         "rawType": "object",
         "type": "unknown"
        },
        {
         "name": "subcategory_archive",
         "rawType": "object",
         "type": "unknown"
        },
        {
         "name": "subcategory_art gallery",
         "rawType": "object",
         "type": "unknown"
        },
        {
         "name": "subcategory_art movement",
         "rawType": "object",
         "type": "unknown"
        },
        {
         "name": "subcategory_artist",
         "rawType": "object",
         "type": "unknown"
        },
        {
         "name": "subcategory_athlete",
         "rawType": "object",
         "type": "unknown"
        },
        {
         "name": "subcategory_automobile manufacturer",
         "rawType": "object",
         "type": "unknown"
        },
        {
         "name": "subcategory_biologist",
         "rawType": "object",
         "type": "unknown"
        },
        {
         "name": "subcategory_body language",
         "rawType": "object",
         "type": "unknown"
        },
        {
         "name": "subcategory_book",
         "rawType": "object",
         "type": "unknown"
        },
        {
         "name": "subcategory_bookstore",
         "rawType": "object",
         "type": "unknown"
        },
        {
         "name": "subcategory_building",
         "rawType": "object",
         "type": "unknown"
        },
        {
         "name": "subcategory_building material",
         "rawType": "object",
         "type": "unknown"
        },
        {
         "name": "subcategory_choreographer",
         "rawType": "object",
         "type": "unknown"
        },
        {
         "name": "subcategory_city",
         "rawType": "object",
         "type": "unknown"
        },
        {
         "name": "subcategory_clothing",
         "rawType": "object",
         "type": "unknown"
        },
        {
         "name": "subcategory_comics",
         "rawType": "object",
         "type": "unknown"
        },
        {
         "name": "subcategory_comics artist",
         "rawType": "object",
         "type": "unknown"
        },
        {
         "name": "subcategory_construction",
         "rawType": "object",
         "type": "unknown"
        },
        {
         "name": "subcategory_cook",
         "rawType": "object",
         "type": "unknown"
        },
        {
         "name": "subcategory_cooking technique",
         "rawType": "object",
         "type": "unknown"
        },
        {
         "name": "subcategory_dance",
         "rawType": "object",
         "type": "unknown"
        },
        {
         "name": "subcategory_designer",
         "rawType": "object",
         "type": "unknown"
        },
        {
         "name": "subcategory_dish",
         "rawType": "object",
         "type": "unknown"
        },
        {
         "name": "subcategory_drink",
         "rawType": "object",
         "type": "unknown"
        },
        {
         "name": "subcategory_environment",
         "rawType": "object",
         "type": "unknown"
        },
        {
         "name": "subcategory_fashion trend",
         "rawType": "object",
         "type": "unknown"
        },
        {
         "name": "subcategory_film",
         "rawType": "object",
         "type": "unknown"
        },
        {
         "name": "subcategory_film director",
         "rawType": "object",
         "type": "unknown"
        },
        {
         "name": "subcategory_film festival",
         "rawType": "object",
         "type": "unknown"
        },
        {
         "name": "subcategory_film genre",
         "rawType": "object",
         "type": "unknown"
        },
        {
         "name": "subcategory_film producer",
         "rawType": "object",
         "type": "unknown"
        },
        {
         "name": "subcategory_film studio",
         "rawType": "object",
         "type": "unknown"
        },
        {
         "name": "subcategory_fish",
         "rawType": "object",
         "type": "unknown"
        },
        {
         "name": "subcategory_folk dance",
         "rawType": "object",
         "type": "unknown"
        },
        {
         "name": "subcategory_food",
         "rawType": "object",
         "type": "unknown"
        },
        {
         "name": "subcategory_geographic location",
         "rawType": "object",
         "type": "unknown"
        },
        {
         "name": "subcategory_gesture",
         "rawType": "object",
         "type": "unknown"
        },
        {
         "name": "subcategory_government",
         "rawType": "object",
         "type": "unknown"
        },
        {
         "name": "subcategory_government agency",
         "rawType": "object",
         "type": "unknown"
        },
        {
         "name": "subcategory_greeting",
         "rawType": "object",
         "type": "unknown"
        },
        {
         "name": "subcategory_happening",
         "rawType": "object",
         "type": "unknown"
        },
        {
         "name": "subcategory_historian",
         "rawType": "object",
         "type": "unknown"
        },
        {
         "name": "subcategory_historical event",
         "rawType": "object",
         "type": "unknown"
        },
        {
         "name": "subcategory_ingredient",
         "rawType": "object",
         "type": "unknown"
        },
        {
         "name": "subcategory_law",
         "rawType": "object",
         "type": "unknown"
        },
        {
         "name": "subcategory_literary award",
         "rawType": "object",
         "type": "unknown"
        },
        {
         "name": "subcategory_literary genre",
         "rawType": "object",
         "type": "unknown"
        },
        {
         "name": "subcategory_magazine",
         "rawType": "object",
         "type": "unknown"
        },
        {
         "name": "subcategory_manga",
         "rawType": "object",
         "type": "unknown"
        },
        {
         "name": "subcategory_media company",
         "rawType": "object",
         "type": "unknown"
        },
        {
         "name": "subcategory_mode of transport",
         "rawType": "object",
         "type": "unknown"
        },
        {
         "name": "subcategory_model",
         "rawType": "object",
         "type": "unknown"
        },
        {
         "name": "subcategory_monument",
         "rawType": "object",
         "type": "unknown"
        },
        {
         "name": "subcategory_mores",
         "rawType": "object",
         "type": "unknown"
        },
        {
         "name": "subcategory_mountain",
         "rawType": "object",
         "type": "unknown"
        },
        {
         "name": "subcategory_museum",
         "rawType": "object",
         "type": "unknown"
        },
        {
         "name": "subcategory_music festival",
         "rawType": "object",
         "type": "unknown"
        },
        {
         "name": "subcategory_music genre",
         "rawType": "object",
         "type": "unknown"
        },
        {
         "name": "subcategory_musical group",
         "rawType": "object",
         "type": "unknown"
        },
        {
         "name": "subcategory_musical profession",
         "rawType": "object",
         "type": "unknown"
        },
        {
         "name": "subcategory_musician",
         "rawType": "object",
         "type": "unknown"
        },
        {
         "name": "subcategory_neighborhood",
         "rawType": "object",
         "type": "unknown"
        },
        {
         "name": "subcategory_non-fiction writer",
         "rawType": "object",
         "type": "unknown"
        },
        {
         "name": "subcategory_organism",
         "rawType": "object",
         "type": "unknown"
        },
        {
         "name": "subcategory_painting",
         "rawType": "object",
         "type": "unknown"
        },
        {
         "name": "subcategory_philosopher",
         "rawType": "object",
         "type": "unknown"
        },
        {
         "name": "subcategory_philosophical movement",
         "rawType": "object",
         "type": "unknown"
        },
        {
         "name": "subcategory_philosophy",
         "rawType": "object",
         "type": "unknown"
        },
        {
         "name": "subcategory_photographer",
         "rawType": "object",
         "type": "unknown"
        },
        {
         "name": "subcategory_plant",
         "rawType": "object",
         "type": "unknown"
        },
        {
         "name": "subcategory_poet",
         "rawType": "object",
         "type": "unknown"
        },
        {
         "name": "subcategory_poetry",
         "rawType": "object",
         "type": "unknown"
        },
        {
         "name": "subcategory_policy",
         "rawType": "object",
         "type": "unknown"
        },
        {
         "name": "subcategory_political party",
         "rawType": "object",
         "type": "unknown"
        },
        {
         "name": "subcategory_politician",
         "rawType": "object",
         "type": "unknown"
        },
        {
         "name": "subcategory_production company",
         "rawType": "object",
         "type": "unknown"
        },
        {
         "name": "subcategory_publisher",
         "rawType": "object",
         "type": "unknown"
        },
        {
         "name": "subcategory_record label",
         "rawType": "object",
         "type": "unknown"
        },
        {
         "name": "subcategory_recurring sporting event",
         "rawType": "object",
         "type": "unknown"
        },
        {
         "name": "subcategory_religion",
         "rawType": "object",
         "type": "unknown"
        },
        {
         "name": "subcategory_religious book",
         "rawType": "object",
         "type": "unknown"
        },
        {
         "name": "subcategory_religious leader",
         "rawType": "object",
         "type": "unknown"
        },
        {
         "name": "subcategory_religious movement",
         "rawType": "object",
         "type": "unknown"
        },
        {
         "name": "subcategory_ritual",
         "rawType": "object",
         "type": "unknown"
        },
        {
         "name": "subcategory_river",
         "rawType": "object",
         "type": "unknown"
        },
        {
         "name": "subcategory_sport",
         "rawType": "object",
         "type": "unknown"
        },
        {
         "name": "subcategory_sports club",
         "rawType": "object",
         "type": "unknown"
        },
        {
         "name": "subcategory_sports equipment",
         "rawType": "object",
         "type": "unknown"
        },
        {
         "name": "subcategory_sports team",
         "rawType": "object",
         "type": "unknown"
        },
        {
         "name": "subcategory_station",
         "rawType": "object",
         "type": "unknown"
        },
        {
         "name": "subcategory_streaming service",
         "rawType": "object",
         "type": "unknown"
        },
        {
         "name": "subcategory_television",
         "rawType": "object",
         "type": "unknown"
        },
        {
         "name": "subcategory_textile",
         "rawType": "object",
         "type": "unknown"
        },
        {
         "name": "subcategory_theatrical director",
         "rawType": "object",
         "type": "unknown"
        },
        {
         "name": "subcategory_theatrical genre",
         "rawType": "object",
         "type": "unknown"
        },
        {
         "name": "subcategory_tradition",
         "rawType": "object",
         "type": "unknown"
        },
        {
         "name": "subcategory_traditional costume",
         "rawType": "object",
         "type": "unknown"
        },
        {
         "name": "subcategory_transport",
         "rawType": "object",
         "type": "unknown"
        },
        {
         "name": "subcategory_transport company",
         "rawType": "object",
         "type": "unknown"
        },
        {
         "name": "subcategory_tree",
         "rawType": "object",
         "type": "unknown"
        },
        {
         "name": "subcategory_visual arts",
         "rawType": "object",
         "type": "unknown"
        },
        {
         "name": "subcategory_writer",
         "rawType": "object",
         "type": "unknown"
        },
        {
         "name": "subcategory_writing style",
         "rawType": "object",
         "type": "unknown"
        },
        {
         "name": "type_concept",
         "rawType": "object",
         "type": "unknown"
        },
        {
         "name": "type_entity",
         "rawType": "object",
         "type": "unknown"
        },
        {
         "name": "label",
         "rawType": "int64",
         "type": "integer"
        }
       ],
       "conversionMethod": "pd.DataFrame",
       "ref": "e4541342-1af8-4036-ba2c-6a8662750dc4",
       "rows": [
        [
         "0",
         "2",
         "6",
         "5",
         "1.0",
         "0.0",
         "0.0",
         "0.0",
         "0.0",
         "0.0",
         "1.0",
         "0.0",
         "0.0",
         "0.0",
         "0.0",
         "0.0",
         "0.0",
         "0.0",
         "0.0",
         "0.0",
         "0.0",
         "0.0",
         "0.0",
         "0.0",
         "0.0",
         "0.0",
         "0.0",
         "0.0",
         "0.0",
         "0.0",
         "0.0",
         "0.0",
         "0.0",
         "0.0",
         "0.0",
         "0.0",
         "0.0",
         "0.0",
         "0.0",
         "0.0",
         "0.0",
         "0.0",
         "0.0",
         "0.0",
         "0.0",
         "0.0",
         "0.0",
         "0.0",
         "0.0",
         "0.0",
         "0.0",
         "0.0",
         "0.0",
         "0.0",
         "0.0",
         "0.0",
         "0.0",
         "0.0",
         "0.0",
         "1.0",
         "0.0",
         "0.0",
         "0.0",
         "0.0",
         "0.0",
         "0.0",
         "0.0",
         "0.0",
         "0.0",
         "0.0",
         "0.0",
         "0.0",
         "0.0",
         "0.0",
         "0.0",
         "0.0",
         "0.0",
         "0.0",
         "0.0",
         "0.0",
         "0.0",
         "0.0",
         "0.0",
         "0.0",
         "0.0",
         "0.0",
         "0.0",
         "0.0",
         "0.0",
         "0.0",
         "0.0",
         "0.0",
         "0.0",
         "0.0",
         "0.0",
         "0.0",
         "0.0",
         "0.0",
         "0.0",
         "0.0",
         "0.0",
         "0.0",
         "0.0",
         "0.0",
         "0.0",
         "0.0",
         "0.0",
         "0.0",
         "0.0",
         "0.0",
         "0.0",
         "0.0",
         "0.0",
         "0.0",
         "0.0",
         "0.0",
         "0.0",
         "0.0",
         "0.0",
         "0.0",
         "0.0",
         "0.0",
         "0.0",
         "0.0",
         "0.0",
         "0.0",
         "0.0",
         "0.0",
         "0.0",
         "0.0",
         "0.0",
         "0.0",
         "0.0",
         "0.0",
         "0.0",
         "0.0",
         "0.0",
         "1.0",
         "1"
        ],
        [
         "1",
         "8",
         "30",
         "40",
         "0.004404711942713",
         "0.0",
         "0.0",
         "0.0",
         "0.0",
         "0.0",
         "0.0",
         "0.0",
         "0.0",
         "0.0",
         "0.0",
         "0.0",
         "0.0",
         "1.0",
         "0.0",
         "0.0",
         "0.0",
         "0.0",
         "0.0",
         "0.0",
         "0.0",
         "0.0",
         "0.0",
         "0.0",
         "0.0",
         "0.0",
         "0.0",
         "0.0",
         "0.0",
         "0.0",
         "0.0",
         "0.0",
         "0.0",
         "0.0",
         "0.0",
         "0.0",
         "0.0",
         "0.0",
         "0.0",
         "0.0",
         "0.0",
         "0.0",
         "0.0",
         "0.0",
         "0.0",
         "0.0",
         "0.0",
         "0.0",
         "0.0",
         "0.0",
         "0.0",
         "0.0",
         "0.0",
         "0.0",
         "0.0",
         "0.0",
         "0.0",
         "0.0",
         "0.0",
         "0.0",
         "0.0",
         "0.0",
         "0.0",
         "0.0",
         "0.0",
         "0.0",
         "0.0",
         "0.0",
         "0.0",
         "0.0",
         "0.0",
         "0.0",
         "0.0",
         "0.0",
         "0.0",
         "0.0",
         "0.0",
         "0.0",
         "0.0",
         "0.0",
         "0.0",
         "0.0",
         "0.0",
         "0.0",
         "0.0",
         "0.0",
         "0.0",
         "1.0",
         "0.0",
         "0.0",
         "0.0",
         "0.0",
         "0.0",
         "0.0",
         "0.0",
         "0.0",
         "0.0",
         "0.0",
         "0.0",
         "0.0",
         "0.0",
         "0.0",
         "0.0",
         "0.0",
         "0.0",
         "0.0",
         "0.0",
         "0.0",
         "0.0",
         "0.0",
         "0.0",
         "0.0",
         "0.0",
         "0.0",
         "0.0",
         "0.0",
         "0.0",
         "0.0",
         "0.0",
         "0.0",
         "0.0",
         "0.0",
         "0.0",
         "0.0",
         "0.0",
         "0.0",
         "0.0",
         "0.0",
         "0.0",
         "0.0",
         "0.0",
         "0.0",
         "0.0",
         "1.0",
         "2"
        ],
        [
         "2",
         "3",
         "4",
         "1",
         "0.244155696936492",
         "0.0",
         "0.0",
         "0.0",
         "1.0",
         "0.0",
         "0.0",
         "0.0",
         "0.0",
         "0.0",
         "0.0",
         "0.0",
         "0.0",
         "0.0",
         "0.0",
         "0.0",
         "0.0",
         "0.0",
         "0.0",
         "0.0",
         "0.0",
         "0.0",
         "0.0",
         "0.0",
         "0.0",
         "0.0",
         "0.0",
         "0.0",
         "0.0",
         "0.0",
         "0.0",
         "0.0",
         "0.0",
         "0.0",
         "0.0",
         "0.0",
         "0.0",
         "0.0",
         "0.0",
         "0.0",
         "0.0",
         "0.0",
         "0.0",
         "0.0",
         "1.0",
         "0.0",
         "0.0",
         "0.0",
         "0.0",
         "0.0",
         "0.0",
         "0.0",
         "0.0",
         "0.0",
         "0.0",
         "0.0",
         "0.0",
         "0.0",
         "0.0",
         "0.0",
         "0.0",
         "0.0",
         "0.0",
         "0.0",
         "0.0",
         "0.0",
         "0.0",
         "0.0",
         "0.0",
         "0.0",
         "0.0",
         "0.0",
         "0.0",
         "0.0",
         "0.0",
         "0.0",
         "0.0",
         "0.0",
         "0.0",
         "0.0",
         "0.0",
         "0.0",
         "0.0",
         "0.0",
         "0.0",
         "0.0",
         "0.0",
         "0.0",
         "0.0",
         "0.0",
         "0.0",
         "0.0",
         "0.0",
         "0.0",
         "0.0",
         "0.0",
         "0.0",
         "0.0",
         "0.0",
         "0.0",
         "0.0",
         "0.0",
         "0.0",
         "0.0",
         "0.0",
         "0.0",
         "0.0",
         "0.0",
         "0.0",
         "0.0",
         "0.0",
         "0.0",
         "0.0",
         "0.0",
         "0.0",
         "0.0",
         "0.0",
         "0.0",
         "0.0",
         "0.0",
         "0.0",
         "0.0",
         "0.0",
         "0.0",
         "0.0",
         "0.0",
         "0.0",
         "0.0",
         "0.0",
         "0.0",
         "0.0",
         "0.0",
         "0.0",
         "1.0",
         "2"
        ]
       ],
       "shape": {
        "columns": 138,
        "rows": 3
       }
      },
      "text/html": [
       "<div>\n",
       "<style scoped>\n",
       "    .dataframe tbody tr th:only-of-type {\n",
       "        vertical-align: middle;\n",
       "    }\n",
       "\n",
       "    .dataframe tbody tr th {\n",
       "        vertical-align: top;\n",
       "    }\n",
       "\n",
       "    .dataframe thead th {\n",
       "        text-align: right;\n",
       "    }\n",
       "</style>\n",
       "<table border=\"1\" class=\"dataframe\">\n",
       "  <thead>\n",
       "    <tr style=\"text-align: right;\">\n",
       "      <th></th>\n",
       "      <th>languages</th>\n",
       "      <th>num_langs</th>\n",
       "      <th>reference</th>\n",
       "      <th>G_mean_pr</th>\n",
       "      <th>category_architecture</th>\n",
       "      <th>category_biology</th>\n",
       "      <th>category_books</th>\n",
       "      <th>category_comics and anime</th>\n",
       "      <th>category_fashion</th>\n",
       "      <th>category_films</th>\n",
       "      <th>...</th>\n",
       "      <th>subcategory_traditional costume</th>\n",
       "      <th>subcategory_transport</th>\n",
       "      <th>subcategory_transport company</th>\n",
       "      <th>subcategory_tree</th>\n",
       "      <th>subcategory_visual arts</th>\n",
       "      <th>subcategory_writer</th>\n",
       "      <th>subcategory_writing style</th>\n",
       "      <th>type_concept</th>\n",
       "      <th>type_entity</th>\n",
       "      <th>label</th>\n",
       "    </tr>\n",
       "  </thead>\n",
       "  <tbody>\n",
       "    <tr>\n",
       "      <th>0</th>\n",
       "      <td>2</td>\n",
       "      <td>6</td>\n",
       "      <td>5</td>\n",
       "      <td>1.000000</td>\n",
       "      <td>0.0</td>\n",
       "      <td>0.0</td>\n",
       "      <td>0.0</td>\n",
       "      <td>0.0</td>\n",
       "      <td>0.0</td>\n",
       "      <td>1.0</td>\n",
       "      <td>...</td>\n",
       "      <td>0.0</td>\n",
       "      <td>0.0</td>\n",
       "      <td>0.0</td>\n",
       "      <td>0.0</td>\n",
       "      <td>0.0</td>\n",
       "      <td>0.0</td>\n",
       "      <td>0.0</td>\n",
       "      <td>0.0</td>\n",
       "      <td>1.0</td>\n",
       "      <td>1</td>\n",
       "    </tr>\n",
       "    <tr>\n",
       "      <th>1</th>\n",
       "      <td>8</td>\n",
       "      <td>30</td>\n",
       "      <td>40</td>\n",
       "      <td>0.004405</td>\n",
       "      <td>0.0</td>\n",
       "      <td>0.0</td>\n",
       "      <td>0.0</td>\n",
       "      <td>0.0</td>\n",
       "      <td>0.0</td>\n",
       "      <td>0.0</td>\n",
       "      <td>...</td>\n",
       "      <td>0.0</td>\n",
       "      <td>0.0</td>\n",
       "      <td>0.0</td>\n",
       "      <td>0.0</td>\n",
       "      <td>0.0</td>\n",
       "      <td>0.0</td>\n",
       "      <td>0.0</td>\n",
       "      <td>0.0</td>\n",
       "      <td>1.0</td>\n",
       "      <td>2</td>\n",
       "    </tr>\n",
       "    <tr>\n",
       "      <th>2</th>\n",
       "      <td>3</td>\n",
       "      <td>4</td>\n",
       "      <td>1</td>\n",
       "      <td>0.244156</td>\n",
       "      <td>0.0</td>\n",
       "      <td>0.0</td>\n",
       "      <td>0.0</td>\n",
       "      <td>1.0</td>\n",
       "      <td>0.0</td>\n",
       "      <td>0.0</td>\n",
       "      <td>...</td>\n",
       "      <td>0.0</td>\n",
       "      <td>0.0</td>\n",
       "      <td>0.0</td>\n",
       "      <td>0.0</td>\n",
       "      <td>0.0</td>\n",
       "      <td>0.0</td>\n",
       "      <td>0.0</td>\n",
       "      <td>0.0</td>\n",
       "      <td>1.0</td>\n",
       "      <td>2</td>\n",
       "    </tr>\n",
       "  </tbody>\n",
       "</table>\n",
       "<p>3 rows × 138 columns</p>\n",
       "</div>"
      ],
      "text/plain": [
       "   languages  num_langs  reference  G_mean_pr category_architecture  \\\n",
       "0          2          6          5   1.000000                   0.0   \n",
       "1          8         30         40   0.004405                   0.0   \n",
       "2          3          4          1   0.244156                   0.0   \n",
       "\n",
       "  category_biology category_books category_comics and anime category_fashion  \\\n",
       "0              0.0            0.0                       0.0              0.0   \n",
       "1              0.0            0.0                       0.0              0.0   \n",
       "2              0.0            0.0                       1.0              0.0   \n",
       "\n",
       "  category_films  ... subcategory_traditional costume subcategory_transport  \\\n",
       "0            1.0  ...                             0.0                   0.0   \n",
       "1            0.0  ...                             0.0                   0.0   \n",
       "2            0.0  ...                             0.0                   0.0   \n",
       "\n",
       "  subcategory_transport company subcategory_tree subcategory_visual arts  \\\n",
       "0                           0.0              0.0                     0.0   \n",
       "1                           0.0              0.0                     0.0   \n",
       "2                           0.0              0.0                     0.0   \n",
       "\n",
       "  subcategory_writer subcategory_writing style type_concept type_entity label  \n",
       "0                0.0                       0.0          0.0         1.0     1  \n",
       "1                0.0                       0.0          0.0         1.0     2  \n",
       "2                0.0                       0.0          0.0         1.0     2  \n",
       "\n",
       "[3 rows x 138 columns]"
      ]
     },
     "execution_count": 469,
     "metadata": {},
     "output_type": "execute_result"
    }
   ],
   "source": [
    "train.head(3)"
   ]
  },
  {
   "cell_type": "code",
   "execution_count": 470,
   "id": "c01ad7e1",
   "metadata": {},
   "outputs": [
    {
     "data": {
      "application/vnd.microsoft.datawrangler.viewer.v0+json": {
       "columns": [
        {
         "name": "index",
         "rawType": "int64",
         "type": "integer"
        },
        {
         "name": "languages",
         "rawType": "int64",
         "type": "integer"
        },
        {
         "name": "num_langs",
         "rawType": "int64",
         "type": "integer"
        },
        {
         "name": "reference",
         "rawType": "int64",
         "type": "integer"
        },
        {
         "name": "G_mean_pr",
         "rawType": "float64",
         "type": "float"
        },
        {
         "name": "category_architecture",
         "rawType": "object",
         "type": "unknown"
        },
        {
         "name": "category_biology",
         "rawType": "object",
         "type": "unknown"
        },
        {
         "name": "category_books",
         "rawType": "object",
         "type": "unknown"
        },
        {
         "name": "category_comics and anime",
         "rawType": "object",
         "type": "unknown"
        },
        {
         "name": "category_fashion",
         "rawType": "object",
         "type": "unknown"
        },
        {
         "name": "category_films",
         "rawType": "object",
         "type": "unknown"
        },
        {
         "name": "category_food",
         "rawType": "object",
         "type": "unknown"
        },
        {
         "name": "category_geography",
         "rawType": "object",
         "type": "unknown"
        },
        {
         "name": "category_gestures and habits",
         "rawType": "object",
         "type": "unknown"
        },
        {
         "name": "category_history",
         "rawType": "object",
         "type": "unknown"
        },
        {
         "name": "category_literature",
         "rawType": "object",
         "type": "unknown"
        },
        {
         "name": "category_media",
         "rawType": "object",
         "type": "unknown"
        },
        {
         "name": "category_music",
         "rawType": "object",
         "type": "unknown"
        },
        {
         "name": "category_performing arts",
         "rawType": "object",
         "type": "unknown"
        },
        {
         "name": "category_philosophy and religion",
         "rawType": "object",
         "type": "unknown"
        },
        {
         "name": "category_politics",
         "rawType": "object",
         "type": "unknown"
        },
        {
         "name": "category_sports",
         "rawType": "object",
         "type": "unknown"
        },
        {
         "name": "category_transportation",
         "rawType": "object",
         "type": "unknown"
        },
        {
         "name": "category_visual arts",
         "rawType": "object",
         "type": "unknown"
        },
        {
         "name": "subcategory_acting style",
         "rawType": "object",
         "type": "unknown"
        },
        {
         "name": "subcategory_actor",
         "rawType": "object",
         "type": "unknown"
        },
        {
         "name": "subcategory_animal",
         "rawType": "object",
         "type": "unknown"
        },
        {
         "name": "subcategory_animated film",
         "rawType": "object",
         "type": "unknown"
        },
        {
         "name": "subcategory_animation studio",
         "rawType": "object",
         "type": "unknown"
        },
        {
         "name": "subcategory_animation technique",
         "rawType": "object",
         "type": "unknown"
        },
        {
         "name": "subcategory_architect",
         "rawType": "object",
         "type": "unknown"
        },
        {
         "name": "subcategory_architectural structure",
         "rawType": "object",
         "type": "unknown"
        },
        {
         "name": "subcategory_architectural style",
         "rawType": "object",
         "type": "unknown"
        },
        {
         "name": "subcategory_archive",
         "rawType": "object",
         "type": "unknown"
        },
        {
         "name": "subcategory_art gallery",
         "rawType": "object",
         "type": "unknown"
        },
        {
         "name": "subcategory_art movement",
         "rawType": "object",
         "type": "unknown"
        },
        {
         "name": "subcategory_artist",
         "rawType": "object",
         "type": "unknown"
        },
        {
         "name": "subcategory_athlete",
         "rawType": "object",
         "type": "unknown"
        },
        {
         "name": "subcategory_automobile manufacturer",
         "rawType": "object",
         "type": "unknown"
        },
        {
         "name": "subcategory_biologist",
         "rawType": "object",
         "type": "unknown"
        },
        {
         "name": "subcategory_body language",
         "rawType": "object",
         "type": "unknown"
        },
        {
         "name": "subcategory_book",
         "rawType": "object",
         "type": "unknown"
        },
        {
         "name": "subcategory_bookstore",
         "rawType": "object",
         "type": "unknown"
        },
        {
         "name": "subcategory_building",
         "rawType": "object",
         "type": "unknown"
        },
        {
         "name": "subcategory_building material",
         "rawType": "object",
         "type": "unknown"
        },
        {
         "name": "subcategory_choreographer",
         "rawType": "object",
         "type": "unknown"
        },
        {
         "name": "subcategory_city",
         "rawType": "object",
         "type": "unknown"
        },
        {
         "name": "subcategory_clothing",
         "rawType": "object",
         "type": "unknown"
        },
        {
         "name": "subcategory_comics",
         "rawType": "object",
         "type": "unknown"
        },
        {
         "name": "subcategory_comics artist",
         "rawType": "object",
         "type": "unknown"
        },
        {
         "name": "subcategory_construction",
         "rawType": "object",
         "type": "unknown"
        },
        {
         "name": "subcategory_cook",
         "rawType": "object",
         "type": "unknown"
        },
        {
         "name": "subcategory_cooking technique",
         "rawType": "object",
         "type": "unknown"
        },
        {
         "name": "subcategory_dance",
         "rawType": "object",
         "type": "unknown"
        },
        {
         "name": "subcategory_designer",
         "rawType": "object",
         "type": "unknown"
        },
        {
         "name": "subcategory_dish",
         "rawType": "object",
         "type": "unknown"
        },
        {
         "name": "subcategory_drink",
         "rawType": "object",
         "type": "unknown"
        },
        {
         "name": "subcategory_environment",
         "rawType": "object",
         "type": "unknown"
        },
        {
         "name": "subcategory_fashion trend",
         "rawType": "object",
         "type": "unknown"
        },
        {
         "name": "subcategory_film",
         "rawType": "object",
         "type": "unknown"
        },
        {
         "name": "subcategory_film director",
         "rawType": "object",
         "type": "unknown"
        },
        {
         "name": "subcategory_film festival",
         "rawType": "object",
         "type": "unknown"
        },
        {
         "name": "subcategory_film genre",
         "rawType": "object",
         "type": "unknown"
        },
        {
         "name": "subcategory_film producer",
         "rawType": "object",
         "type": "unknown"
        },
        {
         "name": "subcategory_film studio",
         "rawType": "object",
         "type": "unknown"
        },
        {
         "name": "subcategory_fish",
         "rawType": "object",
         "type": "unknown"
        },
        {
         "name": "subcategory_folk dance",
         "rawType": "object",
         "type": "unknown"
        },
        {
         "name": "subcategory_food",
         "rawType": "object",
         "type": "unknown"
        },
        {
         "name": "subcategory_geographic location",
         "rawType": "object",
         "type": "unknown"
        },
        {
         "name": "subcategory_gesture",
         "rawType": "object",
         "type": "unknown"
        },
        {
         "name": "subcategory_government",
         "rawType": "object",
         "type": "unknown"
        },
        {
         "name": "subcategory_government agency",
         "rawType": "object",
         "type": "unknown"
        },
        {
         "name": "subcategory_greeting",
         "rawType": "object",
         "type": "unknown"
        },
        {
         "name": "subcategory_happening",
         "rawType": "object",
         "type": "unknown"
        },
        {
         "name": "subcategory_historian",
         "rawType": "object",
         "type": "unknown"
        },
        {
         "name": "subcategory_historical event",
         "rawType": "object",
         "type": "unknown"
        },
        {
         "name": "subcategory_ingredient",
         "rawType": "object",
         "type": "unknown"
        },
        {
         "name": "subcategory_law",
         "rawType": "object",
         "type": "unknown"
        },
        {
         "name": "subcategory_literary award",
         "rawType": "object",
         "type": "unknown"
        },
        {
         "name": "subcategory_literary genre",
         "rawType": "object",
         "type": "unknown"
        },
        {
         "name": "subcategory_magazine",
         "rawType": "object",
         "type": "unknown"
        },
        {
         "name": "subcategory_manga",
         "rawType": "object",
         "type": "unknown"
        },
        {
         "name": "subcategory_media company",
         "rawType": "object",
         "type": "unknown"
        },
        {
         "name": "subcategory_mode of transport",
         "rawType": "object",
         "type": "unknown"
        },
        {
         "name": "subcategory_model",
         "rawType": "object",
         "type": "unknown"
        },
        {
         "name": "subcategory_monument",
         "rawType": "object",
         "type": "unknown"
        },
        {
         "name": "subcategory_mores",
         "rawType": "object",
         "type": "unknown"
        },
        {
         "name": "subcategory_mountain",
         "rawType": "object",
         "type": "unknown"
        },
        {
         "name": "subcategory_museum",
         "rawType": "object",
         "type": "unknown"
        },
        {
         "name": "subcategory_music festival",
         "rawType": "object",
         "type": "unknown"
        },
        {
         "name": "subcategory_music genre",
         "rawType": "object",
         "type": "unknown"
        },
        {
         "name": "subcategory_musical group",
         "rawType": "object",
         "type": "unknown"
        },
        {
         "name": "subcategory_musical profession",
         "rawType": "object",
         "type": "unknown"
        },
        {
         "name": "subcategory_musician",
         "rawType": "object",
         "type": "unknown"
        },
        {
         "name": "subcategory_neighborhood",
         "rawType": "object",
         "type": "unknown"
        },
        {
         "name": "subcategory_non-fiction writer",
         "rawType": "object",
         "type": "unknown"
        },
        {
         "name": "subcategory_organism",
         "rawType": "object",
         "type": "unknown"
        },
        {
         "name": "subcategory_painting",
         "rawType": "object",
         "type": "unknown"
        },
        {
         "name": "subcategory_philosopher",
         "rawType": "object",
         "type": "unknown"
        },
        {
         "name": "subcategory_philosophical movement",
         "rawType": "object",
         "type": "unknown"
        },
        {
         "name": "subcategory_philosophy",
         "rawType": "object",
         "type": "unknown"
        },
        {
         "name": "subcategory_photographer",
         "rawType": "object",
         "type": "unknown"
        },
        {
         "name": "subcategory_plant",
         "rawType": "object",
         "type": "unknown"
        },
        {
         "name": "subcategory_poet",
         "rawType": "object",
         "type": "unknown"
        },
        {
         "name": "subcategory_poetry",
         "rawType": "object",
         "type": "unknown"
        },
        {
         "name": "subcategory_policy",
         "rawType": "object",
         "type": "unknown"
        },
        {
         "name": "subcategory_political party",
         "rawType": "object",
         "type": "unknown"
        },
        {
         "name": "subcategory_politician",
         "rawType": "object",
         "type": "unknown"
        },
        {
         "name": "subcategory_production company",
         "rawType": "object",
         "type": "unknown"
        },
        {
         "name": "subcategory_publisher",
         "rawType": "object",
         "type": "unknown"
        },
        {
         "name": "subcategory_record label",
         "rawType": "object",
         "type": "unknown"
        },
        {
         "name": "subcategory_recurring sporting event",
         "rawType": "object",
         "type": "unknown"
        },
        {
         "name": "subcategory_religion",
         "rawType": "object",
         "type": "unknown"
        },
        {
         "name": "subcategory_religious book",
         "rawType": "object",
         "type": "unknown"
        },
        {
         "name": "subcategory_religious leader",
         "rawType": "object",
         "type": "unknown"
        },
        {
         "name": "subcategory_religious movement",
         "rawType": "object",
         "type": "unknown"
        },
        {
         "name": "subcategory_ritual",
         "rawType": "object",
         "type": "unknown"
        },
        {
         "name": "subcategory_river",
         "rawType": "object",
         "type": "unknown"
        },
        {
         "name": "subcategory_sport",
         "rawType": "object",
         "type": "unknown"
        },
        {
         "name": "subcategory_sports club",
         "rawType": "object",
         "type": "unknown"
        },
        {
         "name": "subcategory_sports equipment",
         "rawType": "object",
         "type": "unknown"
        },
        {
         "name": "subcategory_sports team",
         "rawType": "object",
         "type": "unknown"
        },
        {
         "name": "subcategory_station",
         "rawType": "object",
         "type": "unknown"
        },
        {
         "name": "subcategory_streaming service",
         "rawType": "object",
         "type": "unknown"
        },
        {
         "name": "subcategory_television",
         "rawType": "object",
         "type": "unknown"
        },
        {
         "name": "subcategory_textile",
         "rawType": "object",
         "type": "unknown"
        },
        {
         "name": "subcategory_theatrical director",
         "rawType": "object",
         "type": "unknown"
        },
        {
         "name": "subcategory_theatrical genre",
         "rawType": "object",
         "type": "unknown"
        },
        {
         "name": "subcategory_tradition",
         "rawType": "object",
         "type": "unknown"
        },
        {
         "name": "subcategory_traditional costume",
         "rawType": "object",
         "type": "unknown"
        },
        {
         "name": "subcategory_transport",
         "rawType": "object",
         "type": "unknown"
        },
        {
         "name": "subcategory_transport company",
         "rawType": "object",
         "type": "unknown"
        },
        {
         "name": "subcategory_tree",
         "rawType": "object",
         "type": "unknown"
        },
        {
         "name": "subcategory_visual arts",
         "rawType": "object",
         "type": "unknown"
        },
        {
         "name": "subcategory_writer",
         "rawType": "object",
         "type": "unknown"
        },
        {
         "name": "subcategory_writing style",
         "rawType": "object",
         "type": "unknown"
        },
        {
         "name": "type_concept",
         "rawType": "object",
         "type": "unknown"
        },
        {
         "name": "type_entity",
         "rawType": "object",
         "type": "unknown"
        },
        {
         "name": "label",
         "rawType": "int64",
         "type": "integer"
        }
       ],
       "conversionMethod": "pd.DataFrame",
       "ref": "018c3986-6c1f-45f2-b8f5-f97fe62f3bf2",
       "rows": [
        [
         "0",
         "10",
         "62",
         "40",
         "0.2646047502715787",
         "0.0",
         "0.0",
         "0.0",
         "0.0",
         "0.0",
         "0.0",
         "0.0",
         "0.0",
         "0.0",
         "0.0",
         "0.0",
         "0.0",
         "0.0",
         "0.0",
         "0.0",
         "0.0",
         "1.0",
         "0.0",
         "0.0",
         "0.0",
         "0.0",
         "0.0",
         "0.0",
         "0.0",
         "0.0",
         "0.0",
         "0.0",
         "0.0",
         "0.0",
         "0.0",
         "0.0",
         "0.0",
         "0.0",
         "0.0",
         "0.0",
         "0.0",
         "0.0",
         "0.0",
         "0.0",
         "0.0",
         "0.0",
         "0.0",
         "0.0",
         "0.0",
         "0.0",
         "0.0",
         "0.0",
         "0.0",
         "0.0",
         "0.0",
         "0.0",
         "0.0",
         "0.0",
         "0.0",
         "0.0",
         "0.0",
         "0.0",
         "0.0",
         "0.0",
         "0.0",
         "0.0",
         "0.0",
         "0.0",
         "0.0",
         "0.0",
         "0.0",
         "0.0",
         "0.0",
         "0.0",
         "0.0",
         "0.0",
         "0.0",
         "0.0",
         "0.0",
         "0.0",
         "0.0",
         "0.0",
         "0.0",
         "0.0",
         "0.0",
         "0.0",
         "0.0",
         "0.0",
         "0.0",
         "0.0",
         "0.0",
         "0.0",
         "0.0",
         "0.0",
         "0.0",
         "0.0",
         "0.0",
         "0.0",
         "0.0",
         "0.0",
         "0.0",
         "0.0",
         "0.0",
         "0.0",
         "0.0",
         "0.0",
         "0.0",
         "0.0",
         "0.0",
         "0.0",
         "0.0",
         "0.0",
         "0.0",
         "0.0",
         "0.0",
         "0.0",
         "0.0",
         "0.0",
         "0.0",
         "1.0",
         "0.0",
         "0.0",
         "0.0",
         "0.0",
         "0.0",
         "0.0",
         "0.0",
         "0.0",
         "0.0",
         "0.0",
         "0.0",
         "0.0",
         "0.0",
         "0.0",
         "0.0",
         "0.0",
         "0.0",
         "1.0",
         "2"
        ],
        [
         "1",
         "4",
         "7",
         "4",
         "1.0",
         "0.0",
         "0.0",
         "0.0",
         "0.0",
         "0.0",
         "0.0",
         "0.0",
         "0.0",
         "0.0",
         "0.0",
         "0.0",
         "0.0",
         "1.0",
         "0.0",
         "0.0",
         "0.0",
         "0.0",
         "0.0",
         "0.0",
         "0.0",
         "0.0",
         "0.0",
         "0.0",
         "0.0",
         "0.0",
         "0.0",
         "0.0",
         "0.0",
         "0.0",
         "0.0",
         "0.0",
         "0.0",
         "0.0",
         "0.0",
         "0.0",
         "0.0",
         "0.0",
         "0.0",
         "0.0",
         "0.0",
         "0.0",
         "0.0",
         "0.0",
         "0.0",
         "0.0",
         "0.0",
         "0.0",
         "0.0",
         "0.0",
         "0.0",
         "0.0",
         "0.0",
         "0.0",
         "0.0",
         "0.0",
         "0.0",
         "0.0",
         "0.0",
         "0.0",
         "0.0",
         "0.0",
         "0.0",
         "0.0",
         "0.0",
         "0.0",
         "0.0",
         "0.0",
         "0.0",
         "0.0",
         "0.0",
         "0.0",
         "0.0",
         "0.0",
         "0.0",
         "0.0",
         "0.0",
         "0.0",
         "0.0",
         "0.0",
         "0.0",
         "0.0",
         "0.0",
         "0.0",
         "0.0",
         "0.0",
         "0.0",
         "0.0",
         "0.0",
         "0.0",
         "0.0",
         "0.0",
         "0.0",
         "0.0",
         "0.0",
         "0.0",
         "0.0",
         "0.0",
         "0.0",
         "0.0",
         "0.0",
         "0.0",
         "0.0",
         "0.0",
         "0.0",
         "0.0",
         "1.0",
         "0.0",
         "0.0",
         "0.0",
         "0.0",
         "0.0",
         "0.0",
         "0.0",
         "0.0",
         "0.0",
         "0.0",
         "0.0",
         "0.0",
         "0.0",
         "0.0",
         "0.0",
         "0.0",
         "0.0",
         "0.0",
         "0.0",
         "0.0",
         "0.0",
         "0.0",
         "0.0",
         "0.0",
         "0.0",
         "0.0",
         "1.0",
         "1"
        ],
        [
         "2",
         "10",
         "68",
         "166",
         "0.0024051096803627",
         "0.0",
         "0.0",
         "0.0",
         "1.0",
         "0.0",
         "0.0",
         "0.0",
         "0.0",
         "0.0",
         "0.0",
         "0.0",
         "0.0",
         "0.0",
         "0.0",
         "0.0",
         "0.0",
         "0.0",
         "0.0",
         "0.0",
         "0.0",
         "0.0",
         "0.0",
         "1.0",
         "0.0",
         "0.0",
         "0.0",
         "0.0",
         "0.0",
         "0.0",
         "0.0",
         "0.0",
         "0.0",
         "0.0",
         "0.0",
         "0.0",
         "0.0",
         "0.0",
         "0.0",
         "0.0",
         "0.0",
         "0.0",
         "0.0",
         "0.0",
         "0.0",
         "0.0",
         "0.0",
         "0.0",
         "0.0",
         "0.0",
         "0.0",
         "0.0",
         "0.0",
         "0.0",
         "0.0",
         "0.0",
         "0.0",
         "0.0",
         "0.0",
         "0.0",
         "0.0",
         "0.0",
         "0.0",
         "0.0",
         "0.0",
         "0.0",
         "0.0",
         "0.0",
         "0.0",
         "0.0",
         "0.0",
         "0.0",
         "0.0",
         "0.0",
         "0.0",
         "0.0",
         "0.0",
         "0.0",
         "0.0",
         "0.0",
         "0.0",
         "0.0",
         "0.0",
         "0.0",
         "0.0",
         "0.0",
         "0.0",
         "0.0",
         "0.0",
         "0.0",
         "0.0",
         "0.0",
         "0.0",
         "0.0",
         "0.0",
         "0.0",
         "0.0",
         "0.0",
         "0.0",
         "0.0",
         "0.0",
         "0.0",
         "0.0",
         "0.0",
         "0.0",
         "0.0",
         "0.0",
         "0.0",
         "0.0",
         "0.0",
         "0.0",
         "0.0",
         "0.0",
         "0.0",
         "0.0",
         "0.0",
         "0.0",
         "0.0",
         "0.0",
         "0.0",
         "0.0",
         "0.0",
         "0.0",
         "0.0",
         "0.0",
         "0.0",
         "0.0",
         "0.0",
         "0.0",
         "0.0",
         "0.0",
         "0.0",
         "0.0",
         "1.0",
         "2"
        ]
       ],
       "shape": {
        "columns": 138,
        "rows": 3
       }
      },
      "text/html": [
       "<div>\n",
       "<style scoped>\n",
       "    .dataframe tbody tr th:only-of-type {\n",
       "        vertical-align: middle;\n",
       "    }\n",
       "\n",
       "    .dataframe tbody tr th {\n",
       "        vertical-align: top;\n",
       "    }\n",
       "\n",
       "    .dataframe thead th {\n",
       "        text-align: right;\n",
       "    }\n",
       "</style>\n",
       "<table border=\"1\" class=\"dataframe\">\n",
       "  <thead>\n",
       "    <tr style=\"text-align: right;\">\n",
       "      <th></th>\n",
       "      <th>languages</th>\n",
       "      <th>num_langs</th>\n",
       "      <th>reference</th>\n",
       "      <th>G_mean_pr</th>\n",
       "      <th>category_architecture</th>\n",
       "      <th>category_biology</th>\n",
       "      <th>category_books</th>\n",
       "      <th>category_comics and anime</th>\n",
       "      <th>category_fashion</th>\n",
       "      <th>category_films</th>\n",
       "      <th>...</th>\n",
       "      <th>subcategory_traditional costume</th>\n",
       "      <th>subcategory_transport</th>\n",
       "      <th>subcategory_transport company</th>\n",
       "      <th>subcategory_tree</th>\n",
       "      <th>subcategory_visual arts</th>\n",
       "      <th>subcategory_writer</th>\n",
       "      <th>subcategory_writing style</th>\n",
       "      <th>type_concept</th>\n",
       "      <th>type_entity</th>\n",
       "      <th>label</th>\n",
       "    </tr>\n",
       "  </thead>\n",
       "  <tbody>\n",
       "    <tr>\n",
       "      <th>0</th>\n",
       "      <td>10</td>\n",
       "      <td>62</td>\n",
       "      <td>40</td>\n",
       "      <td>0.264605</td>\n",
       "      <td>0.0</td>\n",
       "      <td>0.0</td>\n",
       "      <td>0.0</td>\n",
       "      <td>0.0</td>\n",
       "      <td>0.0</td>\n",
       "      <td>0.0</td>\n",
       "      <td>...</td>\n",
       "      <td>0.0</td>\n",
       "      <td>0.0</td>\n",
       "      <td>0.0</td>\n",
       "      <td>0.0</td>\n",
       "      <td>0.0</td>\n",
       "      <td>0.0</td>\n",
       "      <td>0.0</td>\n",
       "      <td>0.0</td>\n",
       "      <td>1.0</td>\n",
       "      <td>2</td>\n",
       "    </tr>\n",
       "    <tr>\n",
       "      <th>1</th>\n",
       "      <td>4</td>\n",
       "      <td>7</td>\n",
       "      <td>4</td>\n",
       "      <td>1.000000</td>\n",
       "      <td>0.0</td>\n",
       "      <td>0.0</td>\n",
       "      <td>0.0</td>\n",
       "      <td>0.0</td>\n",
       "      <td>0.0</td>\n",
       "      <td>0.0</td>\n",
       "      <td>...</td>\n",
       "      <td>0.0</td>\n",
       "      <td>0.0</td>\n",
       "      <td>0.0</td>\n",
       "      <td>0.0</td>\n",
       "      <td>0.0</td>\n",
       "      <td>0.0</td>\n",
       "      <td>0.0</td>\n",
       "      <td>0.0</td>\n",
       "      <td>1.0</td>\n",
       "      <td>1</td>\n",
       "    </tr>\n",
       "    <tr>\n",
       "      <th>2</th>\n",
       "      <td>10</td>\n",
       "      <td>68</td>\n",
       "      <td>166</td>\n",
       "      <td>0.002405</td>\n",
       "      <td>0.0</td>\n",
       "      <td>0.0</td>\n",
       "      <td>0.0</td>\n",
       "      <td>1.0</td>\n",
       "      <td>0.0</td>\n",
       "      <td>0.0</td>\n",
       "      <td>...</td>\n",
       "      <td>0.0</td>\n",
       "      <td>0.0</td>\n",
       "      <td>0.0</td>\n",
       "      <td>0.0</td>\n",
       "      <td>0.0</td>\n",
       "      <td>0.0</td>\n",
       "      <td>0.0</td>\n",
       "      <td>0.0</td>\n",
       "      <td>1.0</td>\n",
       "      <td>2</td>\n",
       "    </tr>\n",
       "  </tbody>\n",
       "</table>\n",
       "<p>3 rows × 138 columns</p>\n",
       "</div>"
      ],
      "text/plain": [
       "   languages  num_langs  reference  G_mean_pr category_architecture  \\\n",
       "0         10         62         40   0.264605                   0.0   \n",
       "1          4          7          4   1.000000                   0.0   \n",
       "2         10         68        166   0.002405                   0.0   \n",
       "\n",
       "  category_biology category_books category_comics and anime category_fashion  \\\n",
       "0              0.0            0.0                       0.0              0.0   \n",
       "1              0.0            0.0                       0.0              0.0   \n",
       "2              0.0            0.0                       1.0              0.0   \n",
       "\n",
       "  category_films  ... subcategory_traditional costume subcategory_transport  \\\n",
       "0            0.0  ...                             0.0                   0.0   \n",
       "1            0.0  ...                             0.0                   0.0   \n",
       "2            0.0  ...                             0.0                   0.0   \n",
       "\n",
       "  subcategory_transport company subcategory_tree subcategory_visual arts  \\\n",
       "0                           0.0              0.0                     0.0   \n",
       "1                           0.0              0.0                     0.0   \n",
       "2                           0.0              0.0                     0.0   \n",
       "\n",
       "  subcategory_writer subcategory_writing style type_concept type_entity label  \n",
       "0                0.0                       0.0          0.0         1.0     2  \n",
       "1                0.0                       0.0          0.0         1.0     1  \n",
       "2                0.0                       0.0          0.0         1.0     2  \n",
       "\n",
       "[3 rows x 138 columns]"
      ]
     },
     "execution_count": 470,
     "metadata": {},
     "output_type": "execute_result"
    }
   ],
   "source": [
    "validation.head(3)"
   ]
  },
  {
   "cell_type": "markdown",
   "id": "a2c0b35a",
   "metadata": {},
   "source": [
    "## Network"
   ]
  },
  {
   "cell_type": "code",
   "execution_count": 471,
   "id": "aea974e3",
   "metadata": {},
   "outputs": [],
   "source": [
    "from sklearn.neural_network import MLPClassifier\n",
    "from sklearn.metrics import classification_report"
   ]
  },
  {
   "cell_type": "markdown",
   "id": "0e44b664",
   "metadata": {},
   "source": [
    "### Agnostic-Representative classifier"
   ]
  },
  {
   "cell_type": "code",
   "execution_count": 472,
   "id": "6ef6582a",
   "metadata": {},
   "outputs": [],
   "source": [
    "# prepare the dataset in order to take only two classes and eliminates the labels of the elements\n",
    "d = train.query(\"label == 0 or label == 1\")\n",
    "y = d['label'].astype(int).to_numpy()\n",
    "x = d.drop(['label'], axis=1).astype(float).to_numpy()"
   ]
  },
  {
   "cell_type": "code",
   "execution_count": 473,
   "id": "8c23aa41",
   "metadata": {},
   "outputs": [
    {
     "name": "stderr",
     "output_type": "stream",
     "text": [
      "/home/andrea/miniconda3/envs/MNLP/lib/python3.13/site-packages/sklearn/neural_network/_multilayer_perceptron.py:691: ConvergenceWarning: Stochastic Optimizer: Maximum iterations (200) reached and the optimization hasn't converged yet.\n",
      "  warnings.warn(\n"
     ]
    }
   ],
   "source": [
    "ar_tree = MLPClassifier().fit(x, y)"
   ]
  },
  {
   "cell_type": "code",
   "execution_count": 474,
   "id": "2c92b575",
   "metadata": {},
   "outputs": [],
   "source": [
    "d = validation.query(\"label == 0 or label == 1\")\n",
    "y = d['label'].astype(int).to_numpy()\n",
    "x = d.drop(['label'], axis=1).astype(float).to_numpy()"
   ]
  },
  {
   "cell_type": "code",
   "execution_count": 475,
   "id": "edeccb8b",
   "metadata": {},
   "outputs": [
    {
     "name": "stdout",
     "output_type": "stream",
     "text": [
      "              precision    recall  f1-score   support\n",
      "\n",
      "           0       0.92      0.94      0.93       117\n",
      "           1       0.90      0.87      0.89        76\n",
      "\n",
      "    accuracy                           0.91       193\n",
      "   macro avg       0.91      0.90      0.91       193\n",
      "weighted avg       0.91      0.91      0.91       193\n",
      "\n"
     ]
    }
   ],
   "source": [
    "y_pred = ar_tree.predict(x)\n",
    "print(classification_report(y, y_pred))"
   ]
  },
  {
   "cell_type": "markdown",
   "id": "db137e02",
   "metadata": {},
   "source": [
    "## Agnostic-Exclusive Classifier"
   ]
  },
  {
   "cell_type": "code",
   "execution_count": 476,
   "id": "23f4b0c2",
   "metadata": {},
   "outputs": [],
   "source": [
    "# prepare the dataset in order to take only two classes and eliminates the labels of the elements\n",
    "d = train.query(\"label == 0 or label == 2\")\n",
    "y = d['label'].astype(int).to_numpy()\n",
    "x = d.drop(['label'], axis=1).astype(float).to_numpy()"
   ]
  },
  {
   "cell_type": "code",
   "execution_count": 477,
   "id": "f4f024d5",
   "metadata": {},
   "outputs": [
    {
     "name": "stderr",
     "output_type": "stream",
     "text": [
      "/home/andrea/miniconda3/envs/MNLP/lib/python3.13/site-packages/sklearn/neural_network/_multilayer_perceptron.py:691: ConvergenceWarning: Stochastic Optimizer: Maximum iterations (200) reached and the optimization hasn't converged yet.\n",
      "  warnings.warn(\n"
     ]
    }
   ],
   "source": [
    "ae_tree = MLPClassifier().fit(x, y)"
   ]
  },
  {
   "cell_type": "code",
   "execution_count": 478,
   "id": "c407e485",
   "metadata": {},
   "outputs": [],
   "source": [
    "d = validation.query(\"label == 0 or label == 2\")\n",
    "y = d['label'].astype(int).to_numpy()\n",
    "x = d.drop(['label'], axis=1).astype(float).to_numpy()"
   ]
  },
  {
   "cell_type": "code",
   "execution_count": 479,
   "id": "9df4318f",
   "metadata": {},
   "outputs": [
    {
     "name": "stdout",
     "output_type": "stream",
     "text": [
      "              precision    recall  f1-score   support\n",
      "\n",
      "           0       0.73      0.93      0.82       117\n",
      "           2       0.89      0.63      0.74       107\n",
      "\n",
      "    accuracy                           0.79       224\n",
      "   macro avg       0.81      0.78      0.78       224\n",
      "weighted avg       0.81      0.79      0.78       224\n",
      "\n"
     ]
    }
   ],
   "source": [
    "y_pred = ae_tree.predict(x)\n",
    "print(classification_report(y, y_pred))"
   ]
  },
  {
   "cell_type": "markdown",
   "id": "e660edf4",
   "metadata": {},
   "source": [
    "## Representative-Exclusive"
   ]
  },
  {
   "cell_type": "code",
   "execution_count": 480,
   "id": "6574aa69",
   "metadata": {},
   "outputs": [],
   "source": [
    "# prepare the dataset in order to take only two classes and eliminates the labels of the elements\n",
    "d = train.query(\"label == 1 or label == 2\")\n",
    "y = d['label'].astype(int).to_numpy()\n",
    "x = d.drop(['label'], axis=1).astype(float).to_numpy()"
   ]
  },
  {
   "cell_type": "code",
   "execution_count": 481,
   "id": "d2b6d462",
   "metadata": {},
   "outputs": [],
   "source": [
    "from sklearn.ensemble import RandomForestClassifier"
   ]
  },
  {
   "cell_type": "code",
   "execution_count": 482,
   "id": "04dbb492",
   "metadata": {},
   "outputs": [],
   "source": [
    "re_tree = RandomForestClassifier().fit(x, y)"
   ]
  },
  {
   "cell_type": "code",
   "execution_count": 483,
   "id": "4b6f229e",
   "metadata": {},
   "outputs": [],
   "source": [
    "d = validation.query(\"label == 1 or label == 2\")\n",
    "y = d['label'].astype(int).to_numpy()\n",
    "x = d.drop(['label'], axis=1).astype(float).to_numpy()"
   ]
  },
  {
   "cell_type": "code",
   "execution_count": 484,
   "id": "204616b9",
   "metadata": {},
   "outputs": [
    {
     "name": "stdout",
     "output_type": "stream",
     "text": [
      "              precision    recall  f1-score   support\n",
      "\n",
      "           1       0.71      0.82      0.76        76\n",
      "           2       0.85      0.77      0.81       107\n",
      "\n",
      "    accuracy                           0.79       183\n",
      "   macro avg       0.78      0.79      0.78       183\n",
      "weighted avg       0.80      0.79      0.79       183\n",
      "\n"
     ]
    }
   ],
   "source": [
    "y_pred = re_tree.predict(x)\n",
    "print(classification_report(y, y_pred))"
   ]
  },
  {
   "cell_type": "markdown",
   "id": "5255d629",
   "metadata": {},
   "source": [
    "# Voting Schema\n"
   ]
  },
  {
   "cell_type": "code",
   "execution_count": 491,
   "id": "af9e6aad",
   "metadata": {},
   "outputs": [],
   "source": [
    "from scipy.stats import mode\n",
    "from sklearn.base import ClassifierMixin, BaseEstimator\n",
    "from sklearn.ensemble import IsolationForest\n",
    "\n",
    "# Cultural-classification Network\n",
    "class CABNet(BaseEstimator, ClassifierMixin):\n",
    "    \n",
    "    def __init__(self, ar_estimator, ae_estimator, re_estimator) -> None:\n",
    "        self.ar = ar_estimator \n",
    "        self.ae = ae_estimator \n",
    "        self.re = re_estimator\n",
    "        self.decisor = MLPClassifier()\n",
    "        \n",
    "    \n",
    "    def __fit(self, e, X, y) -> BaseEstimator:\n",
    "        return e.fit(X, y)\n",
    "\n",
    "\n",
    "    def fit(self, X, y=None):\n",
    "        d = X.query(\"label == 0 or label == 1 \")\n",
    "        y = d['label'].astype(int).to_numpy()\n",
    "        x = d.drop(['label'], axis=1).astype(float).to_numpy()\n",
    "        self.ar = self.__fit(self.ar, x, y)\n",
    "        d = X.query(\"label == 0 or label == 2\")\n",
    "        y = d['label'].astype(int).to_numpy()\n",
    "        x = d.drop(['label'], axis=1).astype(float).to_numpy()\n",
    "        self.ae = self.__fit(self.ae, x, y)\n",
    "        d = X.query(\"label == 1 or label == 2\")\n",
    "        y = d['label'].astype(int).to_numpy()\n",
    "        x = d.drop(['label'], axis=1).astype(float).to_numpy()\n",
    "        self.re = self.__fit(self.re, x, y)\n",
    "        return self\n",
    "        \n",
    "    def predict(self, X):\n",
    "        v1 = self.ar.predict(X)\n",
    "        v2 = self.ae.predict(X)\n",
    "        v3 = self.re.predict(X)\n",
    "     \n",
    "  \n",
    "        votes = np.vstack([v1, v2, v3])\n",
    "        majority, _ = mode(votes, axis=0)\n",
    "        return majority.ravel()"
   ]
  },
  {
   "cell_type": "code",
   "execution_count": 492,
   "id": "fcec1752",
   "metadata": {},
   "outputs": [],
   "source": [
    "from sklearn.ensemble import AdaBoostClassifier, RandomForestClassifier, IsolationForest\n",
    "from sklearn.neural_network import MLPClassifier\n",
    "from sklearn.tree import DecisionTreeClassifier"
   ]
  },
  {
   "cell_type": "code",
   "execution_count": 493,
   "id": "bd526559",
   "metadata": {},
   "outputs": [],
   "source": [
    "model =  CABNet(RandomForestClassifier(n_estimators=100), RandomForestClassifier(n_estimators=500), RandomForestClassifier(n_estimators=500))"
   ]
  },
  {
   "cell_type": "code",
   "execution_count": 494,
   "id": "6d654b29",
   "metadata": {},
   "outputs": [],
   "source": [
    "model = model.fit(train)"
   ]
  },
  {
   "cell_type": "code",
   "execution_count": 495,
   "id": "b22d643d",
   "metadata": {},
   "outputs": [],
   "source": [
    "d = validation\n",
    "y = d['label'].astype(int).to_numpy()\n",
    "x = d.drop(['label'], axis=1).astype(float).to_numpy()"
   ]
  },
  {
   "cell_type": "code",
   "execution_count": 496,
   "id": "aa4a43b6",
   "metadata": {},
   "outputs": [
    {
     "name": "stdout",
     "output_type": "stream",
     "text": [
      "              precision    recall  f1-score   support\n",
      "\n",
      "           0       0.74      0.85      0.79       117\n",
      "           1       0.69      0.76      0.72        76\n",
      "           2       0.75      0.58      0.65       107\n",
      "\n",
      "    accuracy                           0.73       300\n",
      "   macro avg       0.73      0.73      0.72       300\n",
      "weighted avg       0.73      0.73      0.73       300\n",
      "\n"
     ]
    }
   ],
   "source": [
    "y_pred = model.predict(x)\n",
    "print(classification_report(y, y_pred))"
   ]
  }
 ],
 "metadata": {
  "kernelspec": {
   "display_name": "MNLP",
   "language": "python",
   "name": "python3"
  },
  "language_info": {
   "codemirror_mode": {
    "name": "ipython",
    "version": 3
   },
   "file_extension": ".py",
   "mimetype": "text/x-python",
   "name": "python",
   "nbconvert_exporter": "python",
   "pygments_lexer": "ipython3",
   "version": "3.13.2"
  }
 },
 "nbformat": 4,
 "nbformat_minor": 5
}
