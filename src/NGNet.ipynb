{
 "cells": [
  {
   "cell_type": "markdown",
   "id": "c5df55e1",
   "metadata": {},
   "source": [
    "## The NGNet\n",
    "\n",
    "Simple neural network used for the computation of the G_Factor, a numerical value defined by specific values of a graph built on the links of a page.\n",
    "\n",
    "### Training Phase\n",
    "\n",
    "The training process is quite standard and straight-forward: given the n G_features we want to directly predict the associated class.\n",
    "\n",
    "### Employment Phase\n",
    "\n",
    "The training model will be inserted in a wider model called X and utilized as a function for the computation of the G_Factor"
   ]
  },
  {
   "cell_type": "code",
   "execution_count": 4,
   "id": "4bab86aa",
   "metadata": {},
   "outputs": [],
   "source": [
    "import torch\n",
    "from torch.nn import Module\n",
    "from torch import nn"
   ]
  },
  {
   "cell_type": "code",
   "execution_count": 5,
   "id": "33318b48",
   "metadata": {},
   "outputs": [],
   "source": [
    "class NGNet(Module):\n",
    "    def __init__(self, num_features:int, hide_size:int, G_dim:int) -> None:\n",
    "        super().__init__()\n",
    "        \n",
    "\n",
    "        self.input_l = nn.Sequential(\n",
    "            nn.Linear(in_features=num_features, out_features=hide_size),\n",
    "            nn.LayerNorm(normalized_shape=hide_size),\n",
    "            nn.GELU()\n",
    "        )\n",
    "\n",
    "        self.hidden_l = nn.Sequential(\n",
    "            nn.Linear(in_features=hide_size, out_features=hide_size),\n",
    "            nn.LayerNorm(normalized_shape=(hide_size)),\n",
    "            nn.GELU()\n",
    "        )\n",
    "\n",
    "        self.classifier = nn.Sequential(\n",
    "            nn.Linear(in_features=hide_size, out_features=G_dim),\n",
    "            nn.Softmax(dim=1)\n",
    "        )\n",
    "    def forward(self, x:torch.Tensor) -> torch.Tensor:\n",
    "        x = self.input_l(x)\n",
    "        x = self.hidden_l(x)\n",
    "        x = self.classifier(x)\n",
    "        return x"
   ]
  }
 ],
 "metadata": {
  "kernelspec": {
   "display_name": "MNLP",
   "language": "python",
   "name": "python3"
  },
  "language_info": {
   "codemirror_mode": {
    "name": "ipython",
    "version": 3
   },
   "file_extension": ".py",
   "mimetype": "text/x-python",
   "name": "python",
   "nbconvert_exporter": "python",
   "pygments_lexer": "ipython3",
   "version": "3.11.2"
  }
 },
 "nbformat": 4,
 "nbformat_minor": 5
}
